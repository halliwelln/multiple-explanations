{
 "cells": [
  {
   "cell_type": "code",
   "execution_count": 1,
   "id": "military-wildlife",
   "metadata": {},
   "outputs": [],
   "source": [
    "import numpy as np\n",
    "import utils\n",
    "import os\n",
    "import pandas as pd"
   ]
  },
  {
   "cell_type": "code",
   "execution_count": 2,
   "id": "consecutive-branch",
   "metadata": {},
   "outputs": [],
   "source": [
    "DATASET = 'paul'\n",
    "RULE = 'spouse'\n",
    "TRACE_LENGTH = 2\n",
    "\n",
    "data = np.load(os.path.join('..','data',DATASET+'.npz'))\n",
    "\n",
    "triples,traces,weights,entities,relations = utils.get_data(data,RULE)"
   ]
  },
  {
   "cell_type": "code",
   "execution_count": 3,
   "id": "scheduled-geometry",
   "metadata": {},
   "outputs": [],
   "source": [
    "gnn_data = np.load(\n",
    "    os.path.join('..','data','preds',DATASET,\n",
    "        'gnn_explainer_'+DATASET+'_'+RULE+'_preds.npz'),allow_pickle=True)"
   ]
  },
  {
   "cell_type": "code",
   "execution_count": 4,
   "id": "third-mambo",
   "metadata": {},
   "outputs": [],
   "source": [
    "gnn_true_exps = traces[gnn_data['test_idx']]"
   ]
  },
  {
   "cell_type": "code",
   "execution_count": 5,
   "id": "fatal-swing",
   "metadata": {},
   "outputs": [],
   "source": [
    "gnn_preds = gnn_data['preds']"
   ]
  },
  {
   "cell_type": "code",
   "execution_count": 6,
   "id": "interstate-request",
   "metadata": {},
   "outputs": [],
   "source": [
    "gnn_true_weights = weights[gnn_data['test_idx']]"
   ]
  },
  {
   "cell_type": "code",
   "execution_count": 10,
   "id": "pressing-torture",
   "metadata": {},
   "outputs": [],
   "source": [
    "num_gnn_triples = gnn_true_exps.shape[0]\n",
    "MAX_TRACE = data['max_trace']"
   ]
  },
  {
   "cell_type": "code",
   "execution_count": null,
   "id": "significant-norman",
   "metadata": {},
   "outputs": [],
   "source": []
  },
  {
   "cell_type": "code",
   "execution_count": 20,
   "id": "laughing-architect",
   "metadata": {},
   "outputs": [],
   "source": [
    "# for i in range(num_gnn_triples):\n",
    "\n",
    "#     gnn_true_exp = gnn_true_exps[i]\n",
    "#     gnn_pred = gnn_preds[i]\n",
    "#     true_weight = gnn_true_weights[i]\n",
    "\n",
    "#     #gnn_jaccard += utils.max_jaccard_np(gnn_true_exp,gnn_pred,UNK_ENT_ID,UNK_REL_ID)\n",
    "\n",
    "#     gnn_precision_i, gnn_recall_i = graded_precision_recall(\n",
    "#         gnn_true_exp,gnn_pred,true_weight,MAX_TRACE,'UNK_ENT','UNK_REL','UNK_WEIGHT')\n",
    "    \n",
    "#     print(gnn_precision_i, gnn_recall_i)"
   ]
  },
  {
   "cell_type": "code",
   "execution_count": null,
   "id": "worldwide-profession",
   "metadata": {},
   "outputs": [],
   "source": []
  },
  {
   "cell_type": "code",
   "execution_count": null,
   "id": "hourly-university",
   "metadata": {},
   "outputs": [],
   "source": []
  },
  {
   "cell_type": "code",
   "execution_count": null,
   "id": "numerous-newman",
   "metadata": {},
   "outputs": [],
   "source": []
  },
  {
   "cell_type": "code",
   "execution_count": null,
   "id": "photographic-craft",
   "metadata": {},
   "outputs": [],
   "source": []
  },
  {
   "cell_type": "code",
   "execution_count": null,
   "id": "becoming-marijuana",
   "metadata": {},
   "outputs": [],
   "source": [
    "explaine_data = np.load(\n",
    "    os.path.join('..','data','preds',DATASET,\n",
    "        'explaine_'+DATASET+'_'+RULE+'_preds.npz'),allow_pickle=True)"
   ]
  },
  {
   "cell_type": "code",
   "execution_count": null,
   "id": "close-trust",
   "metadata": {},
   "outputs": [],
   "source": [
    "explaine_data['preds'][1]"
   ]
  },
  {
   "cell_type": "code",
   "execution_count": null,
   "id": "accredited-review",
   "metadata": {},
   "outputs": [],
   "source": [
    "#weights = np.array([.99,.99,.5,.5,.5,.99,.5,.99,.5,.99,.5,.99,.5,.99,.5,.5,.5,.99,.5,.5,.99,.99,.99,.99])"
   ]
  },
  {
   "cell_type": "code",
   "execution_count": null,
   "id": "peaceful-heavy",
   "metadata": {},
   "outputs": [],
   "source": [
    "#_,unique_idx = np.unique(triples,axis=0,return_index=True)"
   ]
  },
  {
   "cell_type": "code",
   "execution_count": null,
   "id": "extensive-amino",
   "metadata": {},
   "outputs": [],
   "source": []
  },
  {
   "cell_type": "code",
   "execution_count": null,
   "id": "indian-beaver",
   "metadata": {},
   "outputs": [],
   "source": [
    "# triple_lookup = {}\n",
    "# longest_trace = -1\n",
    "# max_padding = 3\n",
    "\n",
    "# for i in unique_idx:\n",
    "    \n",
    "#     triple = triples[i]\n",
    "    \n",
    "#     indices = (triples == triple).all(axis=1)\n",
    "        \n",
    "#     triple_lookup[str(triple)] = indices\n",
    "    \n",
    "#     sum_indices = indices.sum()\n",
    "    \n",
    "#     if sum_indices > longest_trace:\n",
    "        \n",
    "#         longest_trace = sum_indices"
   ]
  },
  {
   "cell_type": "code",
   "execution_count": null,
   "id": "southwest-friendship",
   "metadata": {},
   "outputs": [],
   "source": [
    "# processed_triples = []\n",
    "# processed_weights = []\n",
    "# processed_traces = []\n",
    "# unk = np.array([['UNK_ENT','UNK_REL','UNK_ENT']])\n",
    "# unk_weight_str = 'UNK_WEIGHT'\n",
    "# unk_weight = np.array([[unk_weight_str] * max_padding])\n",
    "\n",
    "# for idx in unique_idx:\n",
    "    \n",
    "#     triple = triples[idx]\n",
    "    \n",
    "#     trace_indices = triple_lookup[str(triple)]\n",
    "#     trace = traces[trace_indices]\n",
    "#     weight = weights[trace_indices]\n",
    "    \n",
    "#     per_trace_weights = []\n",
    "\n",
    "#     for i in range(len(trace)):\n",
    "\n",
    "#         num_triples = trace[i].shape[0]\n",
    "#         current_weight = weights[trace_indices][i]\n",
    "\n",
    "#         num_unk = (trace[i] == unk).all(axis=1).sum()\n",
    "\n",
    "#         current_weights = [current_weight] * (num_triples-num_unk)\n",
    "\n",
    "#         while len(current_weights) != num_triples:\n",
    "\n",
    "#             current_weights.append(unk_weight_str)\n",
    "            \n",
    "#         per_trace_weights.append(current_weights)\n",
    "          \n",
    "#     per_trace_weights = np.array(per_trace_weights)\n",
    "    \n",
    "#     while per_trace_weights.shape[0] != longest_trace:\n",
    "#         per_trace_weights = np.concatenate([per_trace_weights,unk_weight],axis=0)\n",
    "        \n",
    "#     padded_trace = utils.pad_trace(trace,max_padding=max_padding,longest_trace=longest_trace,unk=unk)\n",
    "    \n",
    "#     processed_triples.append(triple)\n",
    "#     processed_traces.append(padded_trace)\n",
    "#     processed_weights.append(per_trace_weights)"
   ]
  },
  {
   "cell_type": "code",
   "execution_count": null,
   "id": "fresh-gasoline",
   "metadata": {},
   "outputs": [],
   "source": []
  },
  {
   "cell_type": "code",
   "execution_count": null,
   "id": "minute-operation",
   "metadata": {},
   "outputs": [],
   "source": [
    "# all_triples = np.array(processed_triples)\n",
    "# all_traces = np.array(processed_traces)\n",
    "# all_weights = np.array(processed_weights)\n",
    "#traces: (NUM_TRIPLES,LONGEST_TRACE,MAX_PADDING,3)\n",
    "#weights: (NUM_TRIPLES,LONGEST_TRACE,MAX_PADDING)"
   ]
  },
  {
   "cell_type": "code",
   "execution_count": null,
   "id": "valued-census",
   "metadata": {},
   "outputs": [],
   "source": []
  },
  {
   "cell_type": "code",
   "execution_count": null,
   "id": "constant-community",
   "metadata": {},
   "outputs": [],
   "source": []
  },
  {
   "cell_type": "code",
   "execution_count": null,
   "id": "breathing-catalyst",
   "metadata": {},
   "outputs": [],
   "source": []
  },
  {
   "cell_type": "code",
   "execution_count": null,
   "id": "worldwide-control",
   "metadata": {},
   "outputs": [],
   "source": [
    "# idx = 2\n",
    "# current_traces = all_traces[idx]\n",
    "# current_weights = all_weights[idx]\n",
    "\n",
    "### pred_exp = np.array([['<http://example.org/data#MotherPaul>', 'child',\n",
    "#          '<http://example.org/data#BrotherPaul>'],\n",
    "#         ['<http://example.org/data#FatherPaul>', 'child',\n",
    "#          '<http://example.org/data#BrotherPaul>']\n",
    "#         ])\n",
    "\n",
    "# pred_exp = np.array(\n",
    "#     [['<http://example.org/data#MotherPaul>', 'spouse',\n",
    "#          '<http://example.org/data#FatherPaul>']])\n",
    "# def precision_recall(pred_exp,current_traces,current_weights):\n",
    "    \n",
    "#     n = len(pred_exp)\n",
    "\n",
    "#     relevance_scores = np.zeros(longest_trace) #numerator of graded recall\n",
    "\n",
    "#     for i in range(n):\n",
    "\n",
    "#         current_pred = pred_exp[i]\n",
    "\n",
    "#         for j in range(len(current_traces)):\n",
    "\n",
    "#             unpadded_traces = remove_padding_np(current_traces[j],'UNK_ENT','UNK_REL')\n",
    "#             unpadded_weights = current_weights[j][current_weights[j] != 'UNK_WEIGHT']\n",
    "\n",
    "#             indices = (unpadded_traces == current_pred).all(axis=1)\n",
    "\n",
    "#             sum_weights = sum([float(num) for num in unpadded_weights[indices]])\n",
    "\n",
    "#             relevance_scores[j] += sum_weights\n",
    "\n",
    "#     max_relevance_score = max(relevance_scores)\n",
    "#     max_idx = np.argmax(relevance_scores)\n",
    "\n",
    "#     total_sum = sum([float(weight) for weight in current_weights[max_idx] if weight != 'UNK_WEIGHT'])\n",
    "\n",
    "#     precision = max_relevance_score/n\n",
    "#     recall = max_relevance_score/total_sum\n",
    "    \n",
    "#     return precision, recall"
   ]
  },
  {
   "cell_type": "code",
   "execution_count": null,
   "id": "furnished-material",
   "metadata": {},
   "outputs": [],
   "source": []
  },
  {
   "cell_type": "code",
   "execution_count": null,
   "id": "greater-expansion",
   "metadata": {},
   "outputs": [],
   "source": []
  },
  {
   "cell_type": "code",
   "execution_count": null,
   "id": "operational-modeling",
   "metadata": {},
   "outputs": [],
   "source": [
    "#d1,d2,_ = (all_traces[2] != ['UNK_ENT','UNK_REL','UNK_ENT']).nonzero()\n",
    "#all_traces[2][d1,d2]"
   ]
  },
  {
   "cell_type": "code",
   "execution_count": null,
   "id": "interracial-latter",
   "metadata": {},
   "outputs": [],
   "source": [
    "#import tensorflow as tf"
   ]
  },
  {
   "cell_type": "code",
   "execution_count": null,
   "id": "latter-burton",
   "metadata": {},
   "outputs": [],
   "source": [
    "#tf_pred_exp = tf.convert_to_tensor(pred_exp)"
   ]
  },
  {
   "cell_type": "code",
   "execution_count": null,
   "id": "bibliographic-coral",
   "metadata": {},
   "outputs": [],
   "source": [
    "#tf_traces_i = tf.convert_to_tensor(all_traces[2])"
   ]
  },
  {
   "cell_type": "code",
   "execution_count": null,
   "id": "abstract-devil",
   "metadata": {},
   "outputs": [],
   "source": []
  },
  {
   "cell_type": "code",
   "execution_count": null,
   "id": "honey-damage",
   "metadata": {},
   "outputs": [],
   "source": []
  },
  {
   "cell_type": "code",
   "execution_count": null,
   "id": "incorporate-clear",
   "metadata": {},
   "outputs": [],
   "source": [
    "#triples2idx = utils.array2idx(all_triples,ent2idx,rel2idx)"
   ]
  },
  {
   "cell_type": "code",
   "execution_count": null,
   "id": "indirect-terry",
   "metadata": {},
   "outputs": [],
   "source": [
    "#traces2idx = utils.array2idx(all_traces,ent2idx,rel2idx)"
   ]
  },
  {
   "cell_type": "code",
   "execution_count": null,
   "id": "refined-crash",
   "metadata": {},
   "outputs": [],
   "source": []
  },
  {
   "cell_type": "code",
   "execution_count": null,
   "id": "nervous-upper",
   "metadata": {},
   "outputs": [],
   "source": [
    "#import RGCN"
   ]
  },
  {
   "cell_type": "code",
   "execution_count": null,
   "id": "residential-berlin",
   "metadata": {},
   "outputs": [],
   "source": [
    "# model = RGCN.get_RGCN_Model(\n",
    "#     num_entities=NUM_ENTITIES,\n",
    "#     num_relations=NUM_RELATIONS,\n",
    "#     embedding_dim=10,\n",
    "#     output_dim=10,\n",
    "#     seed=123\n",
    "# )\n",
    "\n",
    "# model.load_weights(os.path.join('..','data','weights',DATASET,DATASET+'_'+RULE+'.h5'))"
   ]
  },
  {
   "cell_type": "code",
   "execution_count": null,
   "id": "cloudy-symbol",
   "metadata": {},
   "outputs": [],
   "source": [
    "# ALL_INDICES = tf.reshape(tf.range(0,NUM_ENTITIES,1,dtype=tf.int64), (1,-1))\n",
    "\n",
    "# ADJACENCY_DATA = tf.concat([triples2idx,traces2idx.reshape(-1,3)],axis=0)\n",
    "# adj_mats = utils.get_adj_mats(ADJACENCY_DATA,NUM_ENTITIES,NUM_RELATIONS)"
   ]
  },
  {
   "cell_type": "code",
   "execution_count": null,
   "id": "boolean-spirituality",
   "metadata": {},
   "outputs": [],
   "source": []
  },
  {
   "cell_type": "code",
   "execution_count": null,
   "id": "faced-branch",
   "metadata": {},
   "outputs": [],
   "source": []
  },
  {
   "cell_type": "code",
   "execution_count": null,
   "id": "starting-diploma",
   "metadata": {},
   "outputs": [],
   "source": []
  },
  {
   "cell_type": "code",
   "execution_count": null,
   "id": "orange-creation",
   "metadata": {},
   "outputs": [],
   "source": []
  }
 ],
 "metadata": {
  "kernelspec": {
   "display_name": "Python 3",
   "language": "python",
   "name": "python3"
  },
  "language_info": {
   "codemirror_mode": {
    "name": "ipython",
    "version": 3
   },
   "file_extension": ".py",
   "mimetype": "text/x-python",
   "name": "python",
   "nbconvert_exporter": "python",
   "pygments_lexer": "ipython3",
   "version": "3.7.9"
  }
 },
 "nbformat": 4,
 "nbformat_minor": 5
}
