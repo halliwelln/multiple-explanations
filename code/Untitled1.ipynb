{
 "cells": [
  {
   "cell_type": "code",
   "execution_count": 1,
   "id": "selected-appearance",
   "metadata": {},
   "outputs": [],
   "source": [
    "%matplotlib inline\n",
    "import matplotlib.pyplot as plt\n",
    "import numpy as np\n",
    "import utils\n",
    "import os\n",
    "import pandas as pd\n",
    "import json"
   ]
  },
  {
   "cell_type": "code",
   "execution_count": null,
   "id": "blank-slovakia",
   "metadata": {},
   "outputs": [],
   "source": [
    "DATASET = 'french_royalty'\n",
    "rules = ['child','parent','spouse','brother','sister','grandparent', 'full_data']"
   ]
  },
  {
   "cell_type": "code",
   "execution_count": null,
   "id": "duplicate-preview",
   "metadata": {},
   "outputs": [],
   "source": [
    "counts = dict(zip(rules,np.zeros(len(rules))))\n",
    "counts['UNK_REL'] = 0\n",
    "\n",
    "for rule in rules:\n",
    "    \n",
    "    data = np.load(os.path.join('..','data',DATASET+'.npz'))\n",
    "\n",
    "    triples,traces,weights,entities,relations = utils.get_data(data,rule)\n",
    "    \n",
    "    num_triples = triples.shape[0]\n",
    "    \n",
    "    print(f'{rule}: {num_triples}')\n",
    "    counts[rule] += triples.shape[0]\n",
    "    counts[rule + '_num_entities'] = len(entities)\n",
    "\n",
    "    for i in range(len(traces)):\n",
    "\n",
    "        for j in range(len(traces[i])):\n",
    "            \n",
    "            for k in range(len(traces[i,j])):\n",
    "                \n",
    "                rel = traces[i,j,k][1]\n",
    "                \n",
    "                counts[rel] += 1\n",
    "            \n",
    "#             rels = traces[i,j][:,1]\n",
    "        \n",
    "#             if (rels == 'UNK_REL').sum() != 2 :\n",
    "\n",
    "#                 rels = '_'.join(rels)\n",
    "                \n",
    "#                 if rels in counts:\n",
    "#                     counts[rels] += 1\n",
    "#                 else:\n",
    "#                     counts[rels] = 1\n",
    "#     print('\\n')              \n",
    "#     print(f'rule {rule} counts: {counts}')\n",
    "#     print('\\n')"
   ]
  },
  {
   "cell_type": "code",
   "execution_count": null,
   "id": "hollywood-practice",
   "metadata": {},
   "outputs": [],
   "source": [
    "counts"
   ]
  },
  {
   "cell_type": "code",
   "execution_count": null,
   "id": "practical-israeli",
   "metadata": {},
   "outputs": [],
   "source": [
    "total = 0\n",
    "for rule in rules:\n",
    "    total += counts[rule]\n",
    "total - counts['full_data']"
   ]
  },
  {
   "cell_type": "code",
   "execution_count": null,
   "id": "electronic-ballot",
   "metadata": {},
   "outputs": [],
   "source": []
  },
  {
   "cell_type": "code",
   "execution_count": null,
   "id": "brilliant-clark",
   "metadata": {},
   "outputs": [],
   "source": [
    "(traces[i][0] != unk).all(axis=1)"
   ]
  },
  {
   "cell_type": "code",
   "execution_count": null,
   "id": "equivalent-canadian",
   "metadata": {},
   "outputs": [],
   "source": [
    "unk = np.array([['UNK_ENT', 'UNK_REL', 'UNK_ENT']])"
   ]
  },
  {
   "cell_type": "code",
   "execution_count": null,
   "id": "comprehensive-poultry",
   "metadata": {},
   "outputs": [],
   "source": [
    "327 / (327 + 41 + 23)"
   ]
  },
  {
   "cell_type": "code",
   "execution_count": null,
   "id": "appropriate-nebraska",
   "metadata": {},
   "outputs": [],
   "source": [
    "# num_true_triples = []\n",
    "\n",
    "# for i in range(len(traces)):\n",
    "#     num_explanations = 0\n",
    "#     for j in range(len(traces[i])):\n",
    "\n",
    "#         current_trace = traces[i][j]\n",
    "\n",
    "#         num_triples = (current_trace != unk).all(axis=1).sum()\n",
    "\n",
    "#         if  num_triples > 0:\n",
    "#             num_explanations += 1\n",
    "#             num_true_triples.append(num_triples)"
   ]
  },
  {
   "cell_type": "code",
   "execution_count": null,
   "id": "local-serbia",
   "metadata": {},
   "outputs": [],
   "source": []
  },
  {
   "cell_type": "code",
   "execution_count": 2,
   "id": "helpful-sleeve",
   "metadata": {},
   "outputs": [],
   "source": [
    "DATASET = 'french_royalty'"
   ]
  },
  {
   "cell_type": "code",
   "execution_count": 83,
   "id": "marine-toolbox",
   "metadata": {},
   "outputs": [],
   "source": [
    "RULE = 'brother'    \n",
    "\n",
    "data = np.load(os.path.join('..','data',DATASET+'.npz'))\n",
    "\n",
    "triples,traces,weights,entities,relations = utils.get_data(data,RULE)"
   ]
  },
  {
   "cell_type": "code",
   "execution_count": 85,
   "id": "regulated-article",
   "metadata": {},
   "outputs": [
    {
     "data": {
      "text/plain": [
       "array([['0.3', '0.3'],\n",
       "       ['0.3', '0.3'],\n",
       "       ['0.3', '0.3'],\n",
       "       ['0.9', '0.9'],\n",
       "       ['0.9', '0.9'],\n",
       "       ['0.8', 'UNK_WEIGHT'],\n",
       "       ['UNK_WEIGHT', 'UNK_WEIGHT'],\n",
       "       ['UNK_WEIGHT', 'UNK_WEIGHT'],\n",
       "       ['UNK_WEIGHT', 'UNK_WEIGHT'],\n",
       "       ['UNK_WEIGHT', 'UNK_WEIGHT'],\n",
       "       ['UNK_WEIGHT', 'UNK_WEIGHT'],\n",
       "       ['UNK_WEIGHT', 'UNK_WEIGHT'],\n",
       "       ['UNK_WEIGHT', 'UNK_WEIGHT'],\n",
       "       ['UNK_WEIGHT', 'UNK_WEIGHT'],\n",
       "       ['UNK_WEIGHT', 'UNK_WEIGHT'],\n",
       "       ['UNK_WEIGHT', 'UNK_WEIGHT'],\n",
       "       ['UNK_WEIGHT', 'UNK_WEIGHT'],\n",
       "       ['UNK_WEIGHT', 'UNK_WEIGHT']], dtype='<U32')"
      ]
     },
     "execution_count": 85,
     "metadata": {},
     "output_type": "execute_result"
    }
   ],
   "source": [
    "weights[0]"
   ]
  },
  {
   "cell_type": "code",
   "execution_count": 86,
   "id": "prostate-deadline",
   "metadata": {},
   "outputs": [],
   "source": [
    "explaine_data = np.load(\n",
    "    os.path.join('..','data','preds',DATASET,\n",
    "        'explaine_'+DATASET+'_'+RULE+'_preds.npz'),allow_pickle=True)"
   ]
  },
  {
   "cell_type": "code",
   "execution_count": 87,
   "id": "outer-france",
   "metadata": {},
   "outputs": [],
   "source": [
    "explaine_test_idx = explaine_data['test_idx']\n",
    "\n",
    "explaine_true_exps = traces[explaine_test_idx]\n",
    "explaine_true_weights = weights[explaine_test_idx]\n",
    "\n",
    "explaine_preds = explaine_data['preds']"
   ]
  },
  {
   "cell_type": "code",
   "execution_count": 96,
   "id": "present-ethernet",
   "metadata": {},
   "outputs": [],
   "source": [
    "i = 0\n",
    "explaine_true_exp = explaine_true_exps[i]\n",
    "explaine_pred = explaine_preds[i]\n",
    "true_weight = explaine_true_weights[i]"
   ]
  },
  {
   "cell_type": "code",
   "execution_count": 107,
   "id": "relevant-civilian",
   "metadata": {},
   "outputs": [
    {
     "data": {
      "text/plain": [
       "array([0. , 0.6, 0. , 0. , 1.8, 0. , 0. , 0. , 0. , 0. , 0. , 0. , 0. ,\n",
       "       0. , 0. , 0. , 0. , 0. ])"
      ]
     },
     "execution_count": 107,
     "metadata": {},
     "output_type": "execute_result"
    }
   ],
   "source": [
    "(np.array(jaccards) == max(jaccards)) * all_weights"
   ]
  },
  {
   "cell_type": "code",
   "execution_count": 110,
   "id": "mighty-large",
   "metadata": {},
   "outputs": [
    {
     "data": {
      "text/plain": [
       "0.8363171355498721"
      ]
     },
     "execution_count": 110,
     "metadata": {},
     "output_type": "execute_result"
    }
   ],
   "source": [
    "327 / (327 + 17 + 47)"
   ]
  },
  {
   "cell_type": "code",
   "execution_count": 99,
   "id": "august-clinic",
   "metadata": {},
   "outputs": [],
   "source": [
    "current_traces = explaine_true_exp\n",
    "pred_exp = explaine_pred\n",
    "jaccards = []\n",
    "all_weights = []\n",
    "\n",
    "for i in range(len(current_traces)):\n",
    "    \n",
    "    true_exp = utils.remove_padding_np(current_traces[i],'UNK_ENT','UNK_REL')\n",
    "\n",
    "    weight = true_weight[i][true_weight[i] != \"UNK_WEIGHT\"]\n",
    "    \n",
    "    sum_weights = sum([float(num) for num in weight])\n",
    "\n",
    "    all_weights.append(sum_weights)\n",
    "\n",
    "    jaccard = utils.jaccard_score_np(true_exp, pred_exp)\n",
    "\n",
    "    jaccards.append(jaccard)"
   ]
  },
  {
   "cell_type": "code",
   "execution_count": null,
   "id": "allied-croatia",
   "metadata": {},
   "outputs": [],
   "source": []
  },
  {
   "cell_type": "code",
   "execution_count": 7,
   "id": "pacific-calculator",
   "metadata": {},
   "outputs": [],
   "source": [
    "n = len(explaine_pred)\n",
    "\n",
    "unk = np.array([['UNK_ENT', 'UNK_REL', 'UNK_ENT']])"
   ]
  },
  {
   "cell_type": "code",
   "execution_count": 8,
   "id": "national-casino",
   "metadata": {},
   "outputs": [],
   "source": [
    "num_true_triples = []\n",
    "num_explanations = 0\n",
    "\n",
    "for i in range(len(explaine_true_exp)):\n",
    "\n",
    "    current_trace = explaine_true_exp[i]\n",
    "\n",
    "    num_triples = (current_trace != unk).all(axis=1).sum()\n",
    "\n",
    "    if  num_triples > 0:\n",
    "        \n",
    "        num_explanations += 1\n",
    "        num_true_triples.append(num_triples)"
   ]
  },
  {
   "cell_type": "code",
   "execution_count": 9,
   "id": "christian-mailing",
   "metadata": {},
   "outputs": [],
   "source": [
    "relevance_scores = np.zeros(num_explanations)"
   ]
  },
  {
   "cell_type": "code",
   "execution_count": 10,
   "id": "working-january",
   "metadata": {},
   "outputs": [],
   "source": [
    "for i in range(n):\n",
    "\n",
    "    current_pred = explaine_pred[i]\n",
    "\n",
    "    for j in range(num_explanations):\n",
    "\n",
    "        unpadded_traces = utils.remove_padding_np(explaine_true_exp[j],'UNK_ENT','UNK_REL')\n",
    "\n",
    "        unpadded_weights = true_weight[j][true_weight[j] != 'UNK_WEIGHT']\n",
    "\n",
    "        indices = (unpadded_traces == current_pred).all(axis=1)\n",
    "\n",
    "        sum_weights = sum([float(num) for num in unpadded_weights[indices]])\n",
    "\n",
    "        relevance_scores[j] += sum_weights"
   ]
  },
  {
   "cell_type": "code",
   "execution_count": 11,
   "id": "blind-deputy",
   "metadata": {},
   "outputs": [],
   "source": [
    "num_true_triples = np.array(num_true_triples)"
   ]
  },
  {
   "cell_type": "code",
   "execution_count": 17,
   "id": "catholic-jonathan",
   "metadata": {},
   "outputs": [],
   "source": [
    "prec = relevance_scores / (n * .9)"
   ]
  },
  {
   "cell_type": "code",
   "execution_count": 18,
   "id": "verbal-print",
   "metadata": {},
   "outputs": [],
   "source": [
    "recal = relevance_scores / (num_true_triples * .9)"
   ]
  },
  {
   "cell_type": "code",
   "execution_count": 30,
   "id": "coral-fleece",
   "metadata": {},
   "outputs": [
    {
     "data": {
      "text/plain": [
       "0.5925921481484815"
      ]
     },
     "execution_count": 30,
     "metadata": {},
     "output_type": "execute_result"
    }
   ],
   "source": [
    "np.max(2*(prec * recal) / (prec + recal + .000001))"
   ]
  },
  {
   "cell_type": "code",
   "execution_count": 40,
   "id": "immune-component",
   "metadata": {},
   "outputs": [
    {
     "data": {
      "text/plain": [
       "array([ True,  True, False, False, False])"
      ]
     },
     "execution_count": 40,
     "metadata": {},
     "output_type": "execute_result"
    }
   ],
   "source": [
    "np.array([0.9,0.9,0,0,0.8]) == 0.9"
   ]
  },
  {
   "cell_type": "code",
   "execution_count": null,
   "id": "logical-jimmy",
   "metadata": {},
   "outputs": [],
   "source": []
  },
  {
   "cell_type": "code",
   "execution_count": null,
   "id": "competitive-builder",
   "metadata": {},
   "outputs": [],
   "source": [
    "triples[:,1] == 'spouse'"
   ]
  },
  {
   "cell_type": "code",
   "execution_count": null,
   "id": "subsequent-prediction",
   "metadata": {},
   "outputs": [],
   "source": [
    "explaine_data = np.load(\n",
    "    os.path.join('..','data','preds',DATASET,\n",
    "        'explaine_'+DATASET+'_'+RULE+'_preds.npz'),allow_pickle=True)"
   ]
  },
  {
   "cell_type": "code",
   "execution_count": null,
   "id": "subject-oklahoma",
   "metadata": {},
   "outputs": [],
   "source": [
    "explaine_test_idx = explaine_data['test_idx']\n",
    "explaine_true_triples = triples[explaine_test_idx]\n",
    "explaine_true_exps = traces[explaine_test_idx]\n",
    "explaine_preds = explaine_data['preds']"
   ]
  },
  {
   "cell_type": "code",
   "execution_count": null,
   "id": "structural-wagner",
   "metadata": {},
   "outputs": [],
   "source": [
    "i = 102\n",
    "print(explaine_true_triples[i])\n",
    "print(explaine_preds[i])"
   ]
  },
  {
   "cell_type": "code",
   "execution_count": null,
   "id": "opening-knight",
   "metadata": {},
   "outputs": [],
   "source": [
    "d = {'spouse_spouse': 327, 'spouse_child_child': 41, 'spouse_child_parent': 23}"
   ]
  },
  {
   "cell_type": "code",
   "execution_count": null,
   "id": "golden-kernel",
   "metadata": {},
   "outputs": [],
   "source": [
    "keys = ['_'.join(k.split('_')[1:]) for k,_ in d.items()]\n",
    "values = list(d.values())\n",
    "\n",
    "\n",
    "fig, ax = plt.subplots(figsize=(8,4))\n",
    "ax.bar(keys,values)\n",
    "ax.set_xticklabels(labels=keys,rotation = (45), fontsize = 14)"
   ]
  },
  {
   "cell_type": "code",
   "execution_count": null,
   "id": "superior-advance",
   "metadata": {},
   "outputs": [],
   "source": [
    "gnn_data = np.load(\n",
    "    os.path.join('..','data','preds',DATASET,\n",
    "        'gnn_explainer_'+DATASET+'_'+RULE+'_preds.npz'),allow_pickle=True)"
   ]
  },
  {
   "cell_type": "code",
   "execution_count": null,
   "id": "silver-uzbekistan",
   "metadata": {},
   "outputs": [],
   "source": [
    "UNK_ENT_ID = 'UNK_ENT'\n",
    "UNK_REL_ID = 'UNK_REL'\n",
    "UNK_WEIGHT_ID = 'UNK_WEIGHT'\n",
    "MAX_TRACE = data['max_trace']"
   ]
  },
  {
   "cell_type": "code",
   "execution_count": null,
   "id": "interesting-diesel",
   "metadata": {},
   "outputs": [],
   "source": [
    "gnn_test_idx = gnn_data['test_idx']\n",
    "gnn_true_triples = triples[gnn_test_idx]\n",
    "gnn_true_exps = traces[gnn_test_idx]\n",
    "gnn_true_weights = weights[gnn_test_idx]\n",
    "\n",
    "gnn_preds = gnn_data['preds']\n",
    "\n",
    "num_gnn_triples = gnn_true_exps.shape[0]"
   ]
  },
  {
   "cell_type": "code",
   "execution_count": null,
   "id": "legislative-geology",
   "metadata": {},
   "outputs": [],
   "source": [
    "predicate_counts = {}\n",
    "correct_counts = {}\n",
    "for i in range(num_gnn_triples):\n",
    "    \n",
    "    gnn_true_triple = gnn_true_triples[i]\n",
    "    gnn_true_exp = gnn_true_exps[i]\n",
    "    gnn_pred = gnn_preds[i]\n",
    "    true_weight = gnn_true_weights[i]\n",
    "    \n",
    "    max_jaccard,max_idx = utils.max_jaccard_np(gnn_true_exp,gnn_pred,UNK_ENT_ID,UNK_REL_ID,return_idx=True)\n",
    "    \n",
    "    max_predicates = gnn_true_triple[1] +'_' + '_'.join([p for p in gnn_true_exp[max_idx,:,1] if p != 'UNK_REL'])\n",
    "    \n",
    "    if max_jaccard < 1:\n",
    "\n",
    "        if max_predicates in predicate_counts:\n",
    "            predicate_counts[max_predicates] += 1\n",
    "        else:\n",
    "            predicate_counts[max_predicates] = 1\n",
    "            \n",
    "    else:\n",
    "        \n",
    "        if max_predicates in correct_counts:\n",
    "            correct_counts[max_predicates] += 1\n",
    "        else:\n",
    "            correct_counts[max_predicates] = 1"
   ]
  },
  {
   "cell_type": "code",
   "execution_count": null,
   "id": "local-invite",
   "metadata": {},
   "outputs": [],
   "source": [
    "with open(os.path.join('..','data','predicate_weights.json'),'r') as f:\n",
    "    predicate_weights = json.load(f)    "
   ]
  },
  {
   "cell_type": "code",
   "execution_count": null,
   "id": "forty-franchise",
   "metadata": {},
   "outputs": [],
   "source": [
    "weight_counts = {}\n",
    "\n",
    "for k,count in predicate_counts.items():\n",
    "    \n",
    "    str_weight = predicate_weights[k]\n",
    "    \n",
    "    if str_weight in weight_counts:\n",
    "        weight_counts[str_weight] += count\n",
    "    else:\n",
    "        weight_counts[str_weight] = count"
   ]
  },
  {
   "cell_type": "code",
   "execution_count": null,
   "id": "systematic-transport",
   "metadata": {},
   "outputs": [],
   "source": [
    "correct_weight_counts = {}\n",
    "\n",
    "for k,count in correct_counts.items():\n",
    "    \n",
    "    str_weight = predicate_weights[k]\n",
    "    \n",
    "    if str_weight in correct_weight_counts:\n",
    "        correct_weight_counts[str_weight] += count\n",
    "    else:\n",
    "        correct_weight_counts[str_weight] = count"
   ]
  },
  {
   "cell_type": "code",
   "execution_count": null,
   "id": "valuable-rebound",
   "metadata": {},
   "outputs": [],
   "source": []
  },
  {
   "cell_type": "code",
   "execution_count": null,
   "id": "streaming-algebra",
   "metadata": {},
   "outputs": [],
   "source": [
    "weight_counts"
   ]
  },
  {
   "cell_type": "code",
   "execution_count": null,
   "id": "electrical-hardware",
   "metadata": {},
   "outputs": [],
   "source": [
    "# weight_sum = []\n",
    "\n",
    "# for i in range(len(weights[0])):\n",
    "    \n",
    "#     summm = 0.0\n",
    "    \n",
    "#     for j in weights[0][i]:\n",
    "        \n",
    "#         if j != 'UNK_WEIGHT':\n",
    "#             summm += float(j)\n",
    "#     weight_sum.append(summm)\n",
    "\n",
    "# weight_sum"
   ]
  },
  {
   "cell_type": "code",
   "execution_count": null,
   "id": "ongoing-hebrew",
   "metadata": {},
   "outputs": [],
   "source": [
    "set(predicate_weights.values())"
   ]
  },
  {
   "cell_type": "code",
   "execution_count": null,
   "id": "classical-condition",
   "metadata": {},
   "outputs": [],
   "source": []
  },
  {
   "cell_type": "code",
   "execution_count": null,
   "id": "intelligent-water",
   "metadata": {},
   "outputs": [],
   "source": []
  },
  {
   "cell_type": "code",
   "execution_count": null,
   "id": "threaded-baghdad",
   "metadata": {},
   "outputs": [],
   "source": []
  },
  {
   "cell_type": "code",
   "execution_count": null,
   "id": "distinguished-state",
   "metadata": {},
   "outputs": [],
   "source": []
  },
  {
   "cell_type": "code",
   "execution_count": null,
   "id": "technological-soccer",
   "metadata": {},
   "outputs": [],
   "source": []
  },
  {
   "cell_type": "code",
   "execution_count": null,
   "id": "basic-worcester",
   "metadata": {},
   "outputs": [],
   "source": [
    "#['UNK_REL', 'child', 'parent', 'spouse']"
   ]
  },
  {
   "cell_type": "code",
   "execution_count": null,
   "id": "phantom-serum",
   "metadata": {},
   "outputs": [],
   "source": [
    "\n",
    "\n",
    "# explaine_data = np.load(\n",
    "#     os.path.join('..','data','preds',DATASET,\n",
    "#         'explaine_'+DATASET+'_'+RULE+'_preds.npz'),allow_pickle=True)"
   ]
  },
  {
   "cell_type": "code",
   "execution_count": null,
   "id": "swedish-title",
   "metadata": {},
   "outputs": [],
   "source": []
  },
  {
   "cell_type": "code",
   "execution_count": null,
   "id": "flexible-delta",
   "metadata": {},
   "outputs": [],
   "source": [
    "#triples[(triples[:,0] == '<http://dbpedia.org/resource/Louis_VII_of_France>')][12]"
   ]
  },
  {
   "cell_type": "code",
   "execution_count": null,
   "id": "ready-tract",
   "metadata": {},
   "outputs": [],
   "source": [
    "# [['<http://dbpedia.org/resource/Agnes_of_France,_Byzantine_Empress>',\n",
    "#          'grandparent',\n",
    "#          '<http://dbpedia.org/resource/Louis_VI_of_France>'],\n",
    "#         ['<http://dbpedia.org/resource/Louis_VII_of_France>', 'parent',\n",
    "#          '<http://dbpedia.org/resource/Louis_VI_of_France>']],\n",
    "\n",
    "# array([[['<http://dbpedia.org/resource/Adela_of_Champagne>', 'child',\n",
    "#          '<http://dbpedia.org/resource/Agnes_of_France,_Byzantine_Empress>'],\n",
    "#         ['<http://dbpedia.org/resource/Louis_VII_of_France>', 'spouse',\n",
    "#          '<http://dbpedia.org/resource/Adela_of_Champagne>']],\n"
   ]
  },
  {
   "cell_type": "code",
   "execution_count": null,
   "id": "accessory-roulette",
   "metadata": {},
   "outputs": [],
   "source": [
    "#traces[(triples[:,0] == '<http://dbpedia.org/resource/Louis_VII_of_France>')][12]"
   ]
  },
  {
   "cell_type": "code",
   "execution_count": null,
   "id": "affiliated-spread",
   "metadata": {},
   "outputs": [],
   "source": [
    "import RGCN\n",
    "\n",
    "RULE = 'full_data'\n",
    "\n",
    "full_data = np.load(os.path.join('..','data',DATASET+'.npz'))\n",
    "\n",
    "full_triples,full_traces,full_weights,full_entities,full_relations = utils.get_data(full_data,RULE)\n",
    "\n",
    "full_model = RGCN.get_RGCN_Model(\n",
    "    num_entities=len(full_entities),\n",
    "    num_relations=len(full_relations),\n",
    "    embedding_dim=10,\n",
    "    output_dim=10,\n",
    "    seed=123\n",
    ")\n",
    "\n",
    "NUM_ENTITIES_FULL = len(full_entities)\n",
    "NUM_RELATIONS_FULL = len(full_relations)\n",
    "\n",
    "full_ent2idx = dict(zip(full_entities, range(NUM_ENTITIES_FULL)))\n",
    "full_rel2idx = dict(zip(full_relations, range(NUM_RELATIONS_FULL)))\n",
    "\n",
    "full_model.load_weights(os.path.join('..','data','weights',DATASET,DATASET+'_'+RULE+'.h5'))"
   ]
  },
  {
   "cell_type": "code",
   "execution_count": null,
   "id": "initial-iraqi",
   "metadata": {},
   "outputs": [],
   "source": [
    "full_embeddings = full_model.get_layer('entity_embeddings').get_weights()[0]"
   ]
  },
  {
   "cell_type": "code",
   "execution_count": null,
   "id": "floppy-lottery",
   "metadata": {},
   "outputs": [],
   "source": [
    "RULE = 'full_data'\n",
    "\n",
    "data = np.load(os.path.join('..','data',DATASET+'.npz'))\n",
    "\n",
    "triples,traces,weights,entities,relations = utils.get_data(data,RULE)\n",
    "\n",
    "model = RGCN.get_RGCN_Model(\n",
    "    num_entities=len(entities),\n",
    "    num_relations=len(relations),\n",
    "    embedding_dim=10,\n",
    "    output_dim=10,\n",
    "    seed=123\n",
    ")\n",
    "\n",
    "\n",
    "NUM_ENTITIES = len(entities)\n",
    "NUM_RELATIONS = len(relations)\n",
    "\n",
    "ent2idx = dict(zip(entities, range(NUM_ENTITIES)))\n",
    "rel2idx = dict(zip(relations, range(NUM_RELATIONS)))\n",
    "\n",
    "model.load_weights(os.path.join('..','data','weights',DATASET,DATASET+'_'+RULE+'.h5'))"
   ]
  },
  {
   "cell_type": "code",
   "execution_count": null,
   "id": "returning-commons",
   "metadata": {},
   "outputs": [],
   "source": [
    "spouse_embeddings = model.get_layer('entity_embeddings').get_weights()[0]"
   ]
  },
  {
   "cell_type": "code",
   "execution_count": null,
   "id": "static-prerequisite",
   "metadata": {},
   "outputs": [],
   "source": []
  },
  {
   "cell_type": "code",
   "execution_count": null,
   "id": "double-swedish",
   "metadata": {},
   "outputs": [],
   "source": [
    "intersect, comm1, comm2 = np.intersect1d(full_entities,entities,return_indices=True)"
   ]
  },
  {
   "cell_type": "code",
   "execution_count": null,
   "id": "pacific-salem",
   "metadata": {},
   "outputs": [],
   "source": []
  },
  {
   "cell_type": "code",
   "execution_count": null,
   "id": "known-birthday",
   "metadata": {},
   "outputs": [],
   "source": [
    "XX = np.sum(np.square(full_embeddings[comm1]), axis=1)[:,np.newaxis]\n",
    "YY = np.sum(np.square(spouse_embeddings), axis=1)\n",
    "\n",
    "distances = XX + YY - 2 * np.dot(full_embeddings[comm1], spouse_embeddings.T)"
   ]
  },
  {
   "cell_type": "code",
   "execution_count": null,
   "id": "surprising-approval",
   "metadata": {},
   "outputs": [],
   "source": [
    "np.mean(distances)"
   ]
  },
  {
   "cell_type": "code",
   "execution_count": null,
   "id": "sufficient-deposit",
   "metadata": {},
   "outputs": [],
   "source": []
  },
  {
   "cell_type": "code",
   "execution_count": null,
   "id": "miniature-truth",
   "metadata": {},
   "outputs": [],
   "source": []
  },
  {
   "cell_type": "code",
   "execution_count": null,
   "id": "little-teddy",
   "metadata": {},
   "outputs": [],
   "source": []
  },
  {
   "cell_type": "code",
   "execution_count": null,
   "id": "characteristic-performance",
   "metadata": {},
   "outputs": [],
   "source": []
  },
  {
   "cell_type": "code",
   "execution_count": null,
   "id": "regular-munich",
   "metadata": {},
   "outputs": [],
   "source": []
  },
  {
   "cell_type": "code",
   "execution_count": null,
   "id": "applied-nightlife",
   "metadata": {},
   "outputs": [],
   "source": []
  },
  {
   "cell_type": "code",
   "execution_count": null,
   "id": "early-gamma",
   "metadata": {},
   "outputs": [],
   "source": []
  },
  {
   "cell_type": "code",
   "execution_count": null,
   "id": "catholic-threshold",
   "metadata": {},
   "outputs": [],
   "source": [
    "from SPARQLWrapper import SPARQLWrapper, XML\n",
    "from rdflib import Graph"
   ]
  },
  {
   "cell_type": "code",
   "execution_count": null,
   "id": "similar-excuse",
   "metadata": {},
   "outputs": [],
   "source": [
    "limit = 1000\n",
    "i = 0"
   ]
  },
  {
   "cell_type": "code",
   "execution_count": null,
   "id": "rational-steering",
   "metadata": {},
   "outputs": [],
   "source": [
    "sparql = SPARQLWrapper(\"http://dbpedia.org/sparql\")\n",
    "sparql.setQuery(f\"\"\"\n",
    "    PREFIX dbo: <http://dbpedia.org/ontology/>\n",
    "    PREFIX foaf: <http://xmlns.com/foaf/0.1/>\n",
    "    CONSTRUCT{{\n",
    "    ?x\n",
    "    dbo:child ?child .\n",
    "    }}\n",
    "    WHERE {{\n",
    "    ?x a dbo:Royalty .\n",
    "    OPTIONAL {{?x dbo:child ?child }}\n",
    "    }}\n",
    "    \"\"\")\n"
   ]
  },
  {
   "cell_type": "code",
   "execution_count": null,
   "id": "equal-miniature",
   "metadata": {},
   "outputs": [],
   "source": []
  },
  {
   "cell_type": "code",
   "execution_count": null,
   "id": "swiss-syndicate",
   "metadata": {},
   "outputs": [],
   "source": [
    "sparql.setReturnFormat(XML)"
   ]
  },
  {
   "cell_type": "code",
   "execution_count": null,
   "id": "undefined-curtis",
   "metadata": {},
   "outputs": [],
   "source": [
    "results = sparql.query().convert().serialize(destination='/Users/nhalliwe/Desktop/test',\n",
    "            format='xml'\n",
    "            )"
   ]
  },
  {
   "cell_type": "code",
   "execution_count": null,
   "id": "apart-harvey",
   "metadata": {},
   "outputs": [],
   "source": [
    "# PREFIX dbo: <http://dbpedia.org/ontology/>\n",
    "# PREFIX foaf: <http://xmlns.com/foaf/0.1/>\n",
    "\n",
    "# CONSTRUCT{ \n",
    "#      ?x dbo:parent ?parent ;\n",
    "#      dbo:child ?child ;\n",
    "#      dbo:spouse ?spouse ;\n",
    "#      foaf:gender ?gender ;\n",
    "#  }\n",
    "# WHERE {\n",
    "#   OPTIONAL {?x dbo:parent ?parent }\n",
    "#   OPTIONAL {?x dbo:spouse ?spousea }\n",
    "#   OPTIONAL {?x foaf:gender ?gender }\n",
    "#   OPTIONAL {?x dbo:child ?child } \n",
    "\n",
    "#   FILTER regex(?x,\"England\")\n",
    "# }\n",
    "#rename file with .ttl"
   ]
  },
  {
   "cell_type": "code",
   "execution_count": null,
   "id": "touched-chemical",
   "metadata": {},
   "outputs": [],
   "source": [
    "# PREFIX dbo: <http://dbpedia.org/ontology/>\n",
    "# PREFIX foaf: <http://xmlns.com/foaf/0.1/>\n",
    "\n",
    "# CONSTRUCT{ \n",
    "#      ?x dbo:parent ?parent ;\n",
    "#      dbo:child ?child ;\n",
    "#      dbo:spouse ?spouse ;\n",
    "#      foaf:gender ?gender ;\n",
    "#  }\n",
    "# WHERE {\n",
    "#   ?x dbo:parent ?parent .\n",
    "#   ?x dbo:spouse ?spouse .\n",
    "#   ?x foaf:gender ?gender .\n",
    "#   ?x dbo:child ?child .\n",
    "\n",
    "#   FILTER regex(?x,\"England\")\n",
    "# }\n",
    "#small english"
   ]
  },
  {
   "cell_type": "code",
   "execution_count": null,
   "id": "overall-neighborhood",
   "metadata": {},
   "outputs": [],
   "source": []
  },
  {
   "cell_type": "code",
   "execution_count": null,
   "id": "suspected-lesbian",
   "metadata": {},
   "outputs": [],
   "source": [
    "from rdflib import Graph\n",
    "from rdflib import plugin\n",
    "import rdflib"
   ]
  },
  {
   "cell_type": "code",
   "execution_count": null,
   "id": "expired-transmission",
   "metadata": {},
   "outputs": [],
   "source": [
    "plugin.register(\n",
    "    'sparql', rdflib.query.Processor,\n",
    "    'rdfextras.sparql.processor', 'Processor')\n",
    "plugin.register(\n",
    "    'sparql', rdflib.query.Result,\n",
    "    'rdfextras.sparql.query', 'SPARQLQueryResult')"
   ]
  },
  {
   "cell_type": "code",
   "execution_count": null,
   "id": "consolidated-broadway",
   "metadata": {},
   "outputs": [],
   "source": [
    "g = Graph(base='http://www.w3.org/2000/01/rdf-schema#')"
   ]
  },
  {
   "cell_type": "code",
   "execution_count": null,
   "id": "hungry-williams",
   "metadata": {},
   "outputs": [],
   "source": [
    "g.parse('/Users/nhalliwe/Desktop/full_test',format='xml')"
   ]
  },
  {
   "cell_type": "code",
   "execution_count": null,
   "id": "systematic-configuration",
   "metadata": {},
   "outputs": [],
   "source": [
    "query = \"\"\"\n",
    "PREFIX dbo: <http://dbpedia.org/ontology/>\n",
    "PREFIX foaf: <http://xmlns.com/foaf/0.1/>\n",
    "    \n",
    "CONSTRUCT{{\n",
    "    ?x\n",
    "    dbo:parent ?parent ;\n",
    "    dbo:child ?child ;\n",
    "    dbo:spouse ?spouse ;\n",
    "    foaf:gender ?gender .\n",
    "    }}\n",
    "WHERE {{\n",
    "    ?x a dbo:Royalty .\n",
    "    OPTIONAL {{?x dbo:parent ?parent }}\n",
    "    OPTIONAL {{?x dbo:spouse ?spouse }}\n",
    "    OPTIONAL {{?x foaf:gender ?gender }}\n",
    "    OPTIONAL {{?x dbo:child ?child }}\n",
    "\"\"\""
   ]
  },
  {
   "cell_type": "code",
   "execution_count": null,
   "id": "lucky-slovenia",
   "metadata": {},
   "outputs": [],
   "source": [
    "# for row in g.query(query):µ\n",
    "#     print(row['*'])\n",
    "\n",
    "g.query(query)#.serialize(destination='/Users/nhalliwe/Desktop/test',format='xml')"
   ]
  },
  {
   "cell_type": "code",
   "execution_count": null,
   "id": "urban-academy",
   "metadata": {},
   "outputs": [],
   "source": [
    "#g.parse('/Users/nhalliwe/Desktop/Explain-KG/data/rules/full_royalty',format='xml')"
   ]
  },
  {
   "cell_type": "code",
   "execution_count": null,
   "id": "identical-standing",
   "metadata": {},
   "outputs": [],
   "source": [
    "#g.parse('/Users/nhalliwe/Desktop/test',format='xml')"
   ]
  },
  {
   "cell_type": "code",
   "execution_count": null,
   "id": "northern-savage",
   "metadata": {},
   "outputs": [],
   "source": [
    "#g.serialize(destination='/Users/nhalliwe/Desktop/full_test',format='xml')"
   ]
  },
  {
   "cell_type": "code",
   "execution_count": null,
   "id": "functioning-island",
   "metadata": {},
   "outputs": [],
   "source": []
  },
  {
   "cell_type": "code",
   "execution_count": null,
   "id": "celtic-adrian",
   "metadata": {},
   "outputs": [],
   "source": []
  },
  {
   "cell_type": "code",
   "execution_count": null,
   "id": "norman-field",
   "metadata": {},
   "outputs": [],
   "source": [
    "# triple_lookup = {}\n",
    "# longest_trace = -1\n",
    "# max_padding = 3\n",
    "\n",
    "# for i in unique_idx:\n",
    "    \n",
    "#     triple = triples[i]\n",
    "    \n",
    "#     indices = (triples == triple).all(axis=1)\n",
    "        \n",
    "#     triple_lookup[str(triple)] = indices\n",
    "    \n",
    "#     sum_indices = indices.sum()\n",
    "    \n",
    "#     if sum_indices > longest_trace:\n",
    "        \n",
    "#         longest_trace = sum_indices"
   ]
  },
  {
   "cell_type": "code",
   "execution_count": null,
   "id": "tropical-video",
   "metadata": {},
   "outputs": [],
   "source": [
    "# processed_triples = []\n",
    "# processed_weights = []\n",
    "# processed_traces = []\n",
    "# unk = np.array([['UNK_ENT','UNK_REL','UNK_ENT']])\n",
    "# unk_weight_str = 'UNK_WEIGHT'\n",
    "# unk_weight = np.array([[unk_weight_str] * max_padding])\n",
    "\n",
    "# for idx in unique_idx:\n",
    "    \n",
    "#     triple = triples[idx]\n",
    "    \n",
    "#     trace_indices = triple_lookup[str(triple)]\n",
    "#     trace = traces[trace_indices]\n",
    "#     weight = weights[trace_indices]\n",
    "    \n",
    "#     per_trace_weights = []\n",
    "\n",
    "#     for i in range(len(trace)):\n",
    "\n",
    "#         num_triples = trace[i].shape[0]\n",
    "#         current_weight = weights[trace_indices][i]\n",
    "\n",
    "#         num_unk = (trace[i] == unk).all(axis=1).sum()\n",
    "\n",
    "#         current_weights = [current_weight] * (num_triples-num_unk)\n",
    "\n",
    "#         while len(current_weights) != num_triples:\n",
    "\n",
    "#             current_weights.append(unk_weight_str)\n",
    "            \n",
    "#         per_trace_weights.append(current_weights)\n",
    "          \n",
    "#     per_trace_weights = np.array(per_trace_weights)\n",
    "    \n",
    "#     while per_trace_weights.shape[0] != longest_trace:\n",
    "#         per_trace_weights = np.concatenate([per_trace_weights,unk_weight],axis=0)\n",
    "        \n",
    "#     padded_trace = utils.pad_trace(trace,max_padding=max_padding,longest_trace=longest_trace,unk=unk)\n",
    "    \n",
    "#     processed_triples.append(triple)\n",
    "#     processed_traces.append(padded_trace)\n",
    "#     processed_weights.append(per_trace_weights)"
   ]
  },
  {
   "cell_type": "code",
   "execution_count": null,
   "id": "hungry-longitude",
   "metadata": {},
   "outputs": [],
   "source": []
  },
  {
   "cell_type": "code",
   "execution_count": null,
   "id": "vanilla-bloom",
   "metadata": {},
   "outputs": [],
   "source": [
    "# all_triples = np.array(processed_triples)\n",
    "# all_traces = np.array(processed_traces)\n",
    "# all_weights = np.array(processed_weights)\n",
    "#traces: (NUM_TRIPLES,LONGEST_TRACE,MAX_PADDING,3)\n",
    "#weights: (NUM_TRIPLES,LONGEST_TRACE,MAX_PADDING)"
   ]
  },
  {
   "cell_type": "code",
   "execution_count": null,
   "id": "sealed-respect",
   "metadata": {},
   "outputs": [],
   "source": []
  },
  {
   "cell_type": "code",
   "execution_count": null,
   "id": "democratic-movement",
   "metadata": {},
   "outputs": [],
   "source": []
  },
  {
   "cell_type": "code",
   "execution_count": null,
   "id": "behind-constitution",
   "metadata": {},
   "outputs": [],
   "source": []
  },
  {
   "cell_type": "code",
   "execution_count": null,
   "id": "attractive-elite",
   "metadata": {},
   "outputs": [],
   "source": [
    "# idx = 2\n",
    "# current_traces = all_traces[idx]\n",
    "# current_weights = all_weights[idx]\n",
    "\n",
    "### pred_exp = np.array([['<http://example.org/data#MotherPaul>', 'child',\n",
    "#          '<http://example.org/data#BrotherPaul>'],\n",
    "#         ['<http://example.org/data#FatherPaul>', 'child',\n",
    "#          '<http://example.org/data#BrotherPaul>']\n",
    "#         ])\n",
    "\n",
    "# pred_exp = np.array(\n",
    "#     [['<http://example.org/data#MotherPaul>', 'spouse',\n",
    "#          '<http://example.org/data#FatherPaul>']])\n",
    "# def precision_recall(pred_exp,current_traces,current_weights):\n",
    "    \n",
    "#     n = len(pred_exp)\n",
    "\n",
    "#     relevance_scores = np.zeros(longest_trace) #numerator of graded recall\n",
    "\n",
    "#     for i in range(n):\n",
    "\n",
    "#         current_pred = pred_exp[i]\n",
    "\n",
    "#         for j in range(len(current_traces)):\n",
    "\n",
    "#             unpadded_traces = remove_padding_np(current_traces[j],'UNK_ENT','UNK_REL')\n",
    "#             unpadded_weights = current_weights[j][current_weights[j] != 'UNK_WEIGHT']\n",
    "\n",
    "#             indices = (unpadded_traces == current_pred).all(axis=1)\n",
    "\n",
    "#             sum_weights = sum([float(num) for num in unpadded_weights[indices]])\n",
    "\n",
    "#             relevance_scores[j] += sum_weights\n",
    "\n",
    "#     max_relevance_score = max(relevance_scores)\n",
    "#     max_idx = np.argmax(relevance_scores)\n",
    "\n",
    "#     total_sum = sum([float(weight) for weight in current_weights[max_idx] if weight != 'UNK_WEIGHT'])\n",
    "\n",
    "#     precision = max_relevance_score/n\n",
    "#     recall = max_relevance_score/total_sum\n",
    "    \n",
    "#     return precision, recall"
   ]
  },
  {
   "cell_type": "code",
   "execution_count": null,
   "id": "expanded-means",
   "metadata": {},
   "outputs": [],
   "source": []
  },
  {
   "cell_type": "code",
   "execution_count": null,
   "id": "sustained-citizen",
   "metadata": {},
   "outputs": [],
   "source": []
  },
  {
   "cell_type": "code",
   "execution_count": null,
   "id": "geological-level",
   "metadata": {},
   "outputs": [],
   "source": [
    "#d1,d2,_ = (all_traces[2] != ['UNK_ENT','UNK_REL','UNK_ENT']).nonzero()\n",
    "#all_traces[2][d1,d2]"
   ]
  },
  {
   "cell_type": "code",
   "execution_count": null,
   "id": "polished-fossil",
   "metadata": {},
   "outputs": [],
   "source": [
    "#import tensorflow as tf"
   ]
  },
  {
   "cell_type": "code",
   "execution_count": null,
   "id": "neither-above",
   "metadata": {},
   "outputs": [],
   "source": [
    "#tf_pred_exp = tf.convert_to_tensor(pred_exp)"
   ]
  },
  {
   "cell_type": "code",
   "execution_count": null,
   "id": "interim-phase",
   "metadata": {},
   "outputs": [],
   "source": [
    "#tf_traces_i = tf.convert_to_tensor(all_traces[2])"
   ]
  },
  {
   "cell_type": "code",
   "execution_count": null,
   "id": "published-sandwich",
   "metadata": {},
   "outputs": [],
   "source": []
  },
  {
   "cell_type": "code",
   "execution_count": null,
   "id": "resistant-active",
   "metadata": {},
   "outputs": [],
   "source": []
  },
  {
   "cell_type": "code",
   "execution_count": null,
   "id": "corrected-symposium",
   "metadata": {},
   "outputs": [],
   "source": [
    "#triples2idx = utils.array2idx(all_triples,ent2idx,rel2idx)"
   ]
  },
  {
   "cell_type": "code",
   "execution_count": null,
   "id": "noble-labor",
   "metadata": {},
   "outputs": [],
   "source": [
    "#traces2idx = utils.array2idx(all_traces,ent2idx,rel2idx)"
   ]
  },
  {
   "cell_type": "code",
   "execution_count": null,
   "id": "legitimate-aviation",
   "metadata": {},
   "outputs": [],
   "source": []
  },
  {
   "cell_type": "code",
   "execution_count": null,
   "id": "engaging-keyboard",
   "metadata": {},
   "outputs": [],
   "source": [
    "#import RGCN"
   ]
  },
  {
   "cell_type": "code",
   "execution_count": null,
   "id": "silver-bryan",
   "metadata": {},
   "outputs": [],
   "source": [
    "# model = RGCN.get_RGCN_Model(\n",
    "#     num_entities=NUM_ENTITIES,\n",
    "#     num_relations=NUM_RELATIONS,\n",
    "#     embedding_dim=10,\n",
    "#     output_dim=10,\n",
    "#     seed=123\n",
    "# )\n",
    "\n",
    "# model.load_weights(os.path.join('..','data','weights',DATASET,DATASET+'_'+RULE+'.h5'))"
   ]
  },
  {
   "cell_type": "code",
   "execution_count": null,
   "id": "thermal-france",
   "metadata": {},
   "outputs": [],
   "source": [
    "# ALL_INDICES = tf.reshape(tf.range(0,NUM_ENTITIES,1,dtype=tf.int64), (1,-1))\n",
    "\n",
    "# ADJACENCY_DATA = tf.concat([triples2idx,traces2idx.reshape(-1,3)],axis=0)\n",
    "# adj_mats = utils.get_adj_mats(ADJACENCY_DATA,NUM_ENTITIES,NUM_RELATIONS)"
   ]
  },
  {
   "cell_type": "code",
   "execution_count": null,
   "id": "prospective-malpractice",
   "metadata": {},
   "outputs": [],
   "source": []
  },
  {
   "cell_type": "code",
   "execution_count": null,
   "id": "plastic-feedback",
   "metadata": {},
   "outputs": [],
   "source": []
  },
  {
   "cell_type": "code",
   "execution_count": null,
   "id": "traditional-dealer",
   "metadata": {},
   "outputs": [],
   "source": []
  },
  {
   "cell_type": "code",
   "execution_count": null,
   "id": "wireless-channel",
   "metadata": {},
   "outputs": [],
   "source": []
  }
 ],
 "metadata": {
  "kernelspec": {
   "display_name": "Python 3",
   "language": "python",
   "name": "python3"
  },
  "language_info": {
   "codemirror_mode": {
    "name": "ipython",
    "version": 3
   },
   "file_extension": ".py",
   "mimetype": "text/x-python",
   "name": "python",
   "nbconvert_exporter": "python",
   "pygments_lexer": "ipython3",
   "version": "3.7.9"
  }
 },
 "nbformat": 4,
 "nbformat_minor": 5
}
