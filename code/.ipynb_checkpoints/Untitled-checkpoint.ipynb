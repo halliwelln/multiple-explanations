{
 "cells": [
  {
   "cell_type": "code",
   "execution_count": 1,
   "id": "dressed-sympathy",
   "metadata": {},
   "outputs": [],
   "source": [
    "%matplotlib inline\n",
    "import matplotlib.pyplot as plt\n",
    "import pandas as pd\n",
    "import os\n",
    "import numpy as np\n",
    "import json\n",
    "import seaborn as sns"
   ]
  },
  {
   "cell_type": "code",
   "execution_count": 2,
   "id": "configured-testing",
   "metadata": {},
   "outputs": [],
   "source": [
    "data = pd.read_csv(os.path.join('..','data','experiment_data.csv'))"
   ]
  },
  {
   "cell_type": "code",
   "execution_count": null,
   "id": "environmental-surprise",
   "metadata": {},
   "outputs": [],
   "source": []
  },
  {
   "cell_type": "code",
   "execution_count": 3,
   "id": "optional-routine",
   "metadata": {},
   "outputs": [],
   "source": [
    "best = 'Very intuitive, an explanation I could give or expect'\n",
    "second_best = 'Intuitive'\n",
    "middle = 'Neither intuitive or unintuitive'\n",
    "second_worst = 'Unintuitive'\n",
    "worst = 'Not intuitive at all, not an explanation I would give or expect'\n",
    "\n",
    "data = data.replace(best,4).replace(second_best,3).replace(middle,2).replace(second_worst,1).replace(worst,0)"
   ]
  },
  {
   "cell_type": "code",
   "execution_count": 4,
   "id": "neither-suspension",
   "metadata": {},
   "outputs": [],
   "source": [
    "filter_questions = data.iloc[:,1:4]\n",
    "filter_questions.columns = ['Native_Language', 'Nationality','Gender']\n",
    "filter_questions = filter_questions.iloc[4:]"
   ]
  },
  {
   "cell_type": "code",
   "execution_count": null,
   "id": "impressive-recommendation",
   "metadata": {},
   "outputs": [],
   "source": []
  },
  {
   "cell_type": "code",
   "execution_count": 5,
   "id": "reflected-germany",
   "metadata": {},
   "outputs": [],
   "source": [
    "#filter_questions['Native_Language'] = filter_questions['Native_Language'].apply(lambda x:x.title())\n",
    "# filter_questions['Nationality'] = filter_questions['Nationality'].apply(lambda x:x.title())\n",
    "# filter_questions.groupby(by=['Nationality']).agg(['count'])"
   ]
  },
  {
   "cell_type": "code",
   "execution_count": null,
   "id": "removable-poker",
   "metadata": {},
   "outputs": [],
   "source": []
  },
  {
   "cell_type": "code",
   "execution_count": 6,
   "id": "derived-argentina",
   "metadata": {},
   "outputs": [],
   "source": [
    "cols = [col for col in data.columns if \n",
    "        (col != 'Timestamp') and ('Optional' not in col)\n",
    "                and (not col.startswith('Do') and (not col.startswith('What'))\n",
    "                and (not col.startswith('Any')) and (not col.startswith('Unnamed')))]\n",
    "\n",
    "#drop great grandparent\n",
    "cols = cols[4:]"
   ]
  },
  {
   "cell_type": "code",
   "execution_count": 7,
   "id": "collectible-exhibition",
   "metadata": {},
   "outputs": [],
   "source": [
    "clean_data = data.loc[:,cols]"
   ]
  },
  {
   "cell_type": "code",
   "execution_count": 8,
   "id": "fabulous-writing",
   "metadata": {},
   "outputs": [],
   "source": [
    "all_cols = [\n",
    "    'aunt_aunt_brother',\n",
    "    'aunt_child_grandparent',\n",
    "    'aunt_parent_sister',\n",
    "    'aunt_aunt_sister',\n",
    "    'uncle_brother_uncle',\n",
    "    'uncle_child_grandparent',\n",
    "    'uncle_brother_parent',\n",
    "    'uncle_sister_uncle',\n",
    "    'spouse_spouse',\n",
    "    'spouse_child_parent',\n",
    "    'brother_child_uncle',\n",
    "    'brother_child_parent',\n",
    "    'brother_brother_sister',\n",
    "    'brother_aunt_aunt',\n",
    "    'brother_grandparent_grandparent',\n",
    "    'brother_parent_parent',\n",
    "    'brother_sister_sister',\n",
    "    'brother_uncle_uncle',\n",
    "    'sister_brother',\n",
    "    'sister_brother_sister',\n",
    "    'sister_aunt_child',\n",
    "    'sister_child_parent',\n",
    "    'sister_aunt_aunt',\n",
    "    'sister_brother_brother',\n",
    "    'sister_grandparent_grandparent',\n",
    "    'sister_parent_parent',\n",
    "    'sister_uncle_uncle',\n",
    "    'grandparent_brother_grandparent',\n",
    "    'grandparent_grandparent_spouse',\n",
    "    'grandparent_parent_parent',\n",
    "    'grandparent_grandparent_sister',\n",
    "    'grandparent_aunt_child',\n",
    "    'grandparent_child_parent',\n",
    "    'grandparent_child_uncle',\n",
    "    'grandparent_child_child',\n",
    "    'child_child_sister',\n",
    "    'child_brother_uncle',\n",
    "    'child_brother_child',\n",
    "    'child_grandparent_parent',\n",
    "    'child_aunt_sister',\n",
    "    'child_parent_spouse',\n",
    "    'child_parent',\n",
    "    'child_aunt_brother',\n",
    "    'child_brother_parent',\n",
    "    'child_child_grandparent',\n",
    "    'child_parent_sister',\n",
    "    'parent_brother_parent',\n",
    "    'parent_child_grandparent',\n",
    "    'parent_parent_spouse',\n",
    "    'parent_parent_sister',\n",
    "    'parent_aunt_sister',\n",
    "    'parent_brother_child',\n",
    "    'parent_grandparent_parent',\n",
    "    'parent_child_sister',\n",
    "    'parent_brother_uncle',\n",
    "    'parent_child',\n",
    "    'parent_child_spouse'\n",
    "]"
   ]
  },
  {
   "cell_type": "code",
   "execution_count": 9,
   "id": "animal-toronto",
   "metadata": {},
   "outputs": [],
   "source": [
    "clean_data.columns = all_cols"
   ]
  },
  {
   "cell_type": "code",
   "execution_count": null,
   "id": "anticipated-alarm",
   "metadata": {},
   "outputs": [],
   "source": []
  },
  {
   "cell_type": "code",
   "execution_count": 10,
   "id": "finite-simon",
   "metadata": {},
   "outputs": [],
   "source": [
    "clean_data.insert(18,'spouse_child_child',clean_data['grandparent_child_child'].values)\n",
    "clean_data.insert(27,'brother_sister',clean_data['sister_brother'].values)\n",
    "clean_data.insert(28,'brother_brother_brother',clean_data['sister_brother_brother'].values)\n",
    "clean_data.insert(30,'sister_sister_sister',clean_data['brother_sister_sister'].values)\n",
    "clean_data.insert(60,'child_child_spouse',clean_data['parent_child_spouse'].values)"
   ]
  },
  {
   "cell_type": "code",
   "execution_count": null,
   "id": "narrative-stranger",
   "metadata": {},
   "outputs": [],
   "source": []
  },
  {
   "cell_type": "code",
   "execution_count": null,
   "id": "finished-denmark",
   "metadata": {},
   "outputs": [],
   "source": []
  },
  {
   "cell_type": "code",
   "execution_count": null,
   "id": "wireless-rating",
   "metadata": {},
   "outputs": [],
   "source": []
  },
  {
   "cell_type": "code",
   "execution_count": null,
   "id": "million-performer",
   "metadata": {},
   "outputs": [],
   "source": []
  },
  {
   "cell_type": "code",
   "execution_count": null,
   "id": "prospective-agent",
   "metadata": {},
   "outputs": [],
   "source": []
  },
  {
   "cell_type": "code",
   "execution_count": null,
   "id": "abroad-variation",
   "metadata": {},
   "outputs": [],
   "source": []
  },
  {
   "cell_type": "code",
   "execution_count": null,
   "id": "lonely-unemployment",
   "metadata": {},
   "outputs": [],
   "source": []
  },
  {
   "cell_type": "code",
   "execution_count": null,
   "id": "facial-synthetic",
   "metadata": {},
   "outputs": [],
   "source": []
  },
  {
   "cell_type": "code",
   "execution_count": null,
   "id": "charged-girlfriend",
   "metadata": {},
   "outputs": [],
   "source": []
  },
  {
   "cell_type": "code",
   "execution_count": null,
   "id": "objective-margin",
   "metadata": {},
   "outputs": [],
   "source": []
  },
  {
   "cell_type": "code",
   "execution_count": null,
   "id": "unique-population",
   "metadata": {},
   "outputs": [],
   "source": []
  },
  {
   "cell_type": "code",
   "execution_count": 11,
   "id": "attractive-thesis",
   "metadata": {},
   "outputs": [],
   "source": [
    "no_aunt_uncle_cols = [col for col in clean_data.columns if ('aunt' not in col) and ('uncle' not in col)]"
   ]
  },
  {
   "cell_type": "code",
   "execution_count": 12,
   "id": "proved-academy",
   "metadata": {},
   "outputs": [],
   "source": [
    "no_aunt_uncle_data = clean_data[no_aunt_uncle_cols]"
   ]
  },
  {
   "cell_type": "code",
   "execution_count": 13,
   "id": "universal-warrant",
   "metadata": {},
   "outputs": [],
   "source": [
    "values = (no_aunt_uncle_data).mean(axis=0)/4"
   ]
  },
  {
   "cell_type": "code",
   "execution_count": 14,
   "id": "opponent-artwork",
   "metadata": {},
   "outputs": [],
   "source": [
    "#predicate_weights = dict((clean_data/4).mean(axis=0))\n",
    "def round_weights(x):\n",
    "    return round(x*10)/10\n",
    "\n",
    "predicate_weights = dict(round_weights(values))"
   ]
  },
  {
   "cell_type": "code",
   "execution_count": 33,
   "id": "destroyed-mention",
   "metadata": {},
   "outputs": [],
   "source": [
    "with open(os.path.join('..','data','predicate_weights.json'),'w') as f:\n",
    "    json.dump(predicate_weights,f)    "
   ]
  },
  {
   "cell_type": "code",
   "execution_count": 16,
   "id": "modified-mathematics",
   "metadata": {},
   "outputs": [],
   "source": [
    "#(no_aunt_uncle_data).mean(axis=0)/4"
   ]
  },
  {
   "cell_type": "code",
   "execution_count": null,
   "id": "excellent-atmosphere",
   "metadata": {},
   "outputs": [],
   "source": []
  },
  {
   "cell_type": "code",
   "execution_count": null,
   "id": "engaging-timothy",
   "metadata": {},
   "outputs": [],
   "source": []
  },
  {
   "cell_type": "code",
   "execution_count": null,
   "id": "silver-target",
   "metadata": {},
   "outputs": [],
   "source": [
    "def bar_plot(values):\n",
    "    \n",
    "    std_error = np.std(values, ddof=1) / np.sqrt(len(values))\n",
    "    \n",
    "    ticks = np.arange(len(values))\n",
    "    \n",
    "    explanations = []\n",
    "\n",
    "    for i in values.index:\n",
    "\n",
    "        split_str = i.split('_')\n",
    "\n",
    "        relation = split_str[0]\n",
    "        \n",
    "        explanations.append('_'.join(split_str[1:]))\n",
    "\n",
    "    fig, ax = plt.subplots(figsize=(10,4))\n",
    "\n",
    "    ax.bar(x=ticks, \n",
    "           height=values,\n",
    "           yerr=std_error,\n",
    "          capsize=4)\n",
    "    \n",
    "    ax.set_xticks(ticks=ticks)\n",
    "    ax.set_xticklabels(labels=explanations,rotation = (45), fontsize = 10)\n",
    "    \n",
    "    ax.set_title(relation.title())\n",
    "    plt.savefig(os.path.join('..','plots',f\"{relation}.pdf\"),bbox_inches='tight')"
   ]
  },
  {
   "cell_type": "code",
   "execution_count": null,
   "id": "competent-tackle",
   "metadata": {},
   "outputs": [],
   "source": [
    "def get_idx(rule):\n",
    "    return [idx for idx,i in enumerate(values.index) if i.startswith(rule)]\n",
    "\n",
    "# aunt_idx = get_idx('aunt')\n",
    "# bar_plot(values[aunt_idx])\n",
    "# uncle_idx = get_idx('uncle')\n",
    "# bar_plot(values[uncle_idx])"
   ]
  },
  {
   "cell_type": "code",
   "execution_count": null,
   "id": "auburn-premises",
   "metadata": {},
   "outputs": [],
   "source": []
  },
  {
   "cell_type": "code",
   "execution_count": null,
   "id": "sensitive-marine",
   "metadata": {},
   "outputs": [],
   "source": [
    "spouse_idx = get_idx('spouse')\n",
    "bar_plot(values[spouse_idx])"
   ]
  },
  {
   "cell_type": "code",
   "execution_count": null,
   "id": "likely-rover",
   "metadata": {},
   "outputs": [],
   "source": [
    "brother_idx = get_idx('brother')\n",
    "bar_plot(values[brother_idx])"
   ]
  },
  {
   "cell_type": "code",
   "execution_count": null,
   "id": "ongoing-carry",
   "metadata": {},
   "outputs": [],
   "source": [
    "sister_idx = get_idx('sister')\n",
    "bar_plot(values[sister_idx])"
   ]
  },
  {
   "cell_type": "code",
   "execution_count": null,
   "id": "conscious-tanzania",
   "metadata": {},
   "outputs": [],
   "source": [
    "grandparent_idx = get_idx('grandparent')\n",
    "bar_plot(values[grandparent_idx])"
   ]
  },
  {
   "cell_type": "code",
   "execution_count": null,
   "id": "compliant-password",
   "metadata": {},
   "outputs": [],
   "source": [
    "child_idx = get_idx('child')\n",
    "bar_plot(values[child_idx])"
   ]
  },
  {
   "cell_type": "code",
   "execution_count": null,
   "id": "tutorial-cyprus",
   "metadata": {},
   "outputs": [],
   "source": [
    "parent_idx = get_idx('parent')\n",
    "bar_plot(values[parent_idx])"
   ]
  },
  {
   "cell_type": "code",
   "execution_count": null,
   "id": "decent-membership",
   "metadata": {},
   "outputs": [],
   "source": []
  },
  {
   "cell_type": "code",
   "execution_count": null,
   "id": "arranged-buffer",
   "metadata": {},
   "outputs": [],
   "source": []
  },
  {
   "cell_type": "code",
   "execution_count": null,
   "id": "cellular-edwards",
   "metadata": {},
   "outputs": [],
   "source": []
  },
  {
   "cell_type": "code",
   "execution_count": null,
   "id": "chemical-tackle",
   "metadata": {},
   "outputs": [],
   "source": [
    "\n",
    "# clean_data.insert(4,'aunt_grandparent_parent',clean_data['child_grandparent_parent'].values)\n",
    "# clean_data.insert(5,'aunt_brother_parent',clean_data['uncle_brother_parent'].values)\n",
    "# clean_data.insert(6,'aunt_sister_uncle',clean_data['uncle_sister_uncle'].values)\n",
    "# clean_data.insert(7,'aunt_brother_uncle',clean_data['uncle_brother_uncle'].values)\n",
    "\n",
    "# clean_data.insert(12,'uncle_aunt_brother',clean_data['aunt_aunt_brother'].values)\n",
    "# clean_data.insert(13,'uncle_aunt_sister',clean_data['aunt_aunt_sister'].values)\n",
    "# clean_data.insert(14,'uncle_grandparent_parent',clean_data['child_grandparent_parent'].values)\n",
    "# clean_data.insert(15,'uncle_parent_sister',clean_data['aunt_parent_sister'].values)\n",
    "\n",
    "\n",
    "# clean_data.insert(27,'brother_sister',clean_data['sister_brother'].values)\n",
    "# clean_data.insert(28,'brother_aunt_child',clean_data['sister_aunt_child'].values)\n",
    "# clean_data.insert(28,'brother_brother_brother',clean_data['sister_brother_brother'].values)\n",
    "\n",
    "# clean_data.insert(30,'sister_sister_sister',clean_data['brother_sister_sister'].values)\n",
    "# clean_data.insert(40,'sister_child_uncle',clean_data['brother_child_uncle'].values)\n",
    "\n",
    "# clean_data.insert(39,'grandparent_parent_uncle',clean_data['grandparent_child_uncle'].values)\n",
    "# clean_data.insert(40,'grandparent_aunt_parent',clean_data['grandparent_aunt_child'].values)\n",
    "\n",
    "# clean_data.insert(62,'child_sister_uncle',clean_data['uncle_sister_uncle'].values)\n",
    "# clean_data.insert(63,'child_child_spouse',clean_data['parent_child_spouse'].values)\n",
    "\n",
    "# clean_data.insert(75,'parent_aunt_brother',clean_data['parent_aunt_sister'].values)\n",
    "# clean_data.insert(76,'parent_sister_uncle',clean_data['parent_brother_uncle'].values)"
   ]
  },
  {
   "cell_type": "code",
   "execution_count": null,
   "id": "alpha-cosmetic",
   "metadata": {},
   "outputs": [],
   "source": [
    "#dict((clean_data/5).mean(axis=0))"
   ]
  },
  {
   "cell_type": "code",
   "execution_count": null,
   "id": "cognitive-setup",
   "metadata": {},
   "outputs": [],
   "source": []
  },
  {
   "cell_type": "code",
   "execution_count": null,
   "id": "sitting-greek",
   "metadata": {},
   "outputs": [],
   "source": [
    "#full = pd.concat([filter_questions,clean_data],axis=1)\n",
    "#full.groupby(by=['Nationality','Native_Language']).agg(['mean'])"
   ]
  },
  {
   "cell_type": "code",
   "execution_count": null,
   "id": "preliminary-punishment",
   "metadata": {},
   "outputs": [],
   "source": []
  },
  {
   "cell_type": "code",
   "execution_count": null,
   "id": "secret-chile",
   "metadata": {},
   "outputs": [],
   "source": []
  },
  {
   "cell_type": "code",
   "execution_count": null,
   "id": "fancy-offense",
   "metadata": {},
   "outputs": [],
   "source": []
  },
  {
   "cell_type": "code",
   "execution_count": null,
   "id": "continuous-bicycle",
   "metadata": {},
   "outputs": [],
   "source": []
  },
  {
   "cell_type": "code",
   "execution_count": null,
   "id": "hired-gilbert",
   "metadata": {},
   "outputs": [],
   "source": []
  },
  {
   "cell_type": "code",
   "execution_count": null,
   "id": "ceramic-queen",
   "metadata": {},
   "outputs": [],
   "source": []
  },
  {
   "cell_type": "code",
   "execution_count": null,
   "id": "genetic-supplement",
   "metadata": {},
   "outputs": [],
   "source": []
  },
  {
   "cell_type": "code",
   "execution_count": null,
   "id": "artistic-financing",
   "metadata": {},
   "outputs": [],
   "source": []
  },
  {
   "cell_type": "code",
   "execution_count": null,
   "id": "further-vocabulary",
   "metadata": {},
   "outputs": [],
   "source": []
  },
  {
   "cell_type": "code",
   "execution_count": null,
   "id": "radical-clinic",
   "metadata": {},
   "outputs": [],
   "source": []
  },
  {
   "cell_type": "code",
   "execution_count": null,
   "id": "cardiac-toyota",
   "metadata": {},
   "outputs": [],
   "source": [
    "#clean_data.iloc[:,:41].describe().T"
   ]
  },
  {
   "cell_type": "code",
   "execution_count": null,
   "id": "creative-mississippi",
   "metadata": {},
   "outputs": [],
   "source": [
    "#clean_data.iloc[:,41:].describe().T"
   ]
  },
  {
   "cell_type": "code",
   "execution_count": null,
   "id": "minute-radical",
   "metadata": {},
   "outputs": [],
   "source": []
  },
  {
   "cell_type": "code",
   "execution_count": null,
   "id": "unsigned-reviewer",
   "metadata": {},
   "outputs": [],
   "source": []
  },
  {
   "cell_type": "code",
   "execution_count": null,
   "id": "prerequisite-rubber",
   "metadata": {},
   "outputs": [],
   "source": [
    "# from scipy.stats import spearmanr\n",
    "\n",
    "# rho, _ = spearmanr(clean_data[filter_questions['Native_Language']=='French'].mean(axis=0),\n",
    "#                   clean_data[filter_questions['Native_Language']=='English'].mean(axis=0))\n",
    "\n",
    "# print(rho)"
   ]
  },
  {
   "cell_type": "code",
   "execution_count": null,
   "id": "faced-davis",
   "metadata": {},
   "outputs": [],
   "source": [
    "# from scipy.stats import mannwhitneyu\n",
    "\n",
    "# stat, p = mannwhitneyu(clean_data[filter_questions['Native_Language']=='French'].mean(axis=0),\n",
    "#                        clean_data[filter_questions['Native_Language']=='English'].mean(axis=0))\n",
    "\n",
    "# print('stat=%.3f, p=%.3f' % (stat, p))\n",
    "# if p > 0.05:\n",
    "#     print('Probably the same distribution')\n",
    "# else:\n",
    "#     print('Probably different distributions')"
   ]
  },
  {
   "cell_type": "code",
   "execution_count": null,
   "id": "bored-sydney",
   "metadata": {},
   "outputs": [],
   "source": [
    "# from scipy.stats import ttest_ind\n",
    "\n",
    "# stat, p = ttest_ind(clean_data[filter_questions['Native_Language']=='French'].mean(axis=0),\n",
    "#                        clean_data[filter_questions['Native_Language']=='English'].mean(axis=0))\n",
    "# print('stat=%.3f, p=%.3f' % (stat, p))\n",
    "# if p > 0.05:\n",
    "#     print('Probably the same distribution')\n",
    "# else:\n",
    "#     print('Probably different distributions')"
   ]
  },
  {
   "cell_type": "code",
   "execution_count": null,
   "id": "handmade-scoop",
   "metadata": {},
   "outputs": [],
   "source": []
  },
  {
   "cell_type": "code",
   "execution_count": null,
   "id": "filled-malawi",
   "metadata": {},
   "outputs": [],
   "source": []
  },
  {
   "cell_type": "code",
   "execution_count": null,
   "id": "liable-grill",
   "metadata": {},
   "outputs": [],
   "source": []
  },
  {
   "cell_type": "code",
   "execution_count": null,
   "id": "colored-boundary",
   "metadata": {},
   "outputs": [],
   "source": []
  },
  {
   "cell_type": "code",
   "execution_count": null,
   "id": "settled-copying",
   "metadata": {},
   "outputs": [],
   "source": []
  },
  {
   "cell_type": "code",
   "execution_count": null,
   "id": "entertaining-vienna",
   "metadata": {},
   "outputs": [],
   "source": [
    "# RULE = 'spouse'\n",
    "# DATASET = 'simpsons'\n",
    "# gnn_data = np.load(\n",
    "#     os.path.join('..','data','preds',DATASET,\n",
    "#         'gnn_explainer_'+DATASET+'_'+RULE+'_preds.npz'),allow_pickle=True)"
   ]
  },
  {
   "cell_type": "code",
   "execution_count": null,
   "id": "sapphire-italian",
   "metadata": {},
   "outputs": [],
   "source": [
    "# for pred in gnn_data['preds']:\n",
    "#     print(pred.shape)"
   ]
  },
  {
   "cell_type": "code",
   "execution_count": null,
   "id": "wrong-alfred",
   "metadata": {},
   "outputs": [],
   "source": []
  },
  {
   "cell_type": "code",
   "execution_count": null,
   "id": "functional-crash",
   "metadata": {},
   "outputs": [],
   "source": []
  },
  {
   "cell_type": "code",
   "execution_count": null,
   "id": "comfortable-communication",
   "metadata": {},
   "outputs": [],
   "source": []
  },
  {
   "cell_type": "code",
   "execution_count": null,
   "id": "likely-might",
   "metadata": {},
   "outputs": [],
   "source": []
  },
  {
   "cell_type": "code",
   "execution_count": null,
   "id": "aboriginal-brunei",
   "metadata": {},
   "outputs": [],
   "source": []
  },
  {
   "cell_type": "code",
   "execution_count": null,
   "id": "lesser-munich",
   "metadata": {},
   "outputs": [],
   "source": []
  },
  {
   "cell_type": "code",
   "execution_count": null,
   "id": "leading-physics",
   "metadata": {},
   "outputs": [],
   "source": []
  },
  {
   "cell_type": "code",
   "execution_count": null,
   "id": "involved-commitment",
   "metadata": {},
   "outputs": [],
   "source": []
  },
  {
   "cell_type": "code",
   "execution_count": null,
   "id": "forced-supplement",
   "metadata": {},
   "outputs": [],
   "source": []
  },
  {
   "cell_type": "code",
   "execution_count": null,
   "id": "varied-neighborhood",
   "metadata": {},
   "outputs": [],
   "source": []
  }
 ],
 "metadata": {
  "kernelspec": {
   "display_name": "Python 3",
   "language": "python",
   "name": "python3"
  },
  "language_info": {
   "codemirror_mode": {
    "name": "ipython",
    "version": 3
   },
   "file_extension": ".py",
   "mimetype": "text/x-python",
   "name": "python",
   "nbconvert_exporter": "python",
   "pygments_lexer": "ipython3",
   "version": "3.7.9"
  }
 },
 "nbformat": 4,
 "nbformat_minor": 5
}
