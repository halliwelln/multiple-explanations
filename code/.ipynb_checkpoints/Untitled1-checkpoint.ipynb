{
 "cells": [
  {
   "cell_type": "code",
   "execution_count": 1,
   "id": "grave-monthly",
   "metadata": {},
   "outputs": [],
   "source": [
    "import numpy as np\n",
    "import utils\n",
    "import os\n",
    "import pandas as pd"
   ]
  },
  {
   "cell_type": "code",
   "execution_count": 2,
   "id": "higher-issue",
   "metadata": {},
   "outputs": [],
   "source": [
    "DATASET = 'paul_dataset'\n",
    "RULE = 'spouse'"
   ]
  },
  {
   "cell_type": "code",
   "execution_count": 3,
   "id": "emotional-survey",
   "metadata": {},
   "outputs": [],
   "source": [
    "data = np.load(os.path.join('..','data',DATASET+'.npz'))\n",
    "\n",
    "triples,traces,weights,entities,relations = utils.get_data(data,RULE)\n",
    "\n",
    "NUM_ENTITIES = len(entities)\n",
    "NUM_RELATIONS = len(relations)\n",
    "\n",
    "ent2idx = dict(zip(entities, range(NUM_ENTITIES)))\n",
    "rel2idx = dict(zip(relations, range(NUM_RELATIONS)))\n",
    "\n",
    "idx2ent = dict(zip(range(NUM_ENTITIES),entities))\n",
    "idx2rel = dict(zip(range(NUM_RELATIONS),relations))\n",
    "\n",
    "unk_ent_id = ent2idx['UNK_ENT']\n",
    "unk_rel_id = rel2idx['UNK_REL']"
   ]
  },
  {
   "cell_type": "code",
   "execution_count": 221,
   "id": "productive-investigator",
   "metadata": {},
   "outputs": [],
   "source": [
    "#padded_triples = utils.pad(triples,'UNK_ENT','UNK_REL',max_shape=3)\n",
    "\n",
    "weights = np.array([.99,.99,.5,.5,.5,.99,.5,.99,.5,.99,.5,.99,.5,.99,.5,.5,.5,.99,.5,.5,.99,.99,.99,.99])"
   ]
  },
  {
   "cell_type": "code",
   "execution_count": 5,
   "id": "bizarre-button",
   "metadata": {},
   "outputs": [],
   "source": [
    "_,unique_idx = np.unique(triples,axis=0,return_index=True)"
   ]
  },
  {
   "cell_type": "code",
   "execution_count": 6,
   "id": "frequent-advantage",
   "metadata": {},
   "outputs": [],
   "source": [
    "#BUILD WEIGHTS ARRAY\n",
    "-#INTEGRATE INTO BUILD_DATASET.PY -> ADD FULL DATASET TO .FILES"
   ]
  },
  {
   "cell_type": "code",
   "execution_count": 72,
   "id": "acknowledged-final",
   "metadata": {},
   "outputs": [],
   "source": [
    "triple_lookup = {}\n",
    "longest_trace = -1\n",
    "max_padding = 3\n",
    "\n",
    "for i in range(len(triples)):\n",
    "    \n",
    "    triple = triples[i]\n",
    "    \n",
    "    indices = (triples == triple).all(axis=1)\n",
    "        \n",
    "    triple_lookup[str(triple)] = indices\n",
    "    \n",
    "    sum_indices = indices.sum()\n",
    "    \n",
    "    if sum_indices > longest_trace:\n",
    "        \n",
    "        longest_trace = sum_indices"
   ]
  },
  {
   "cell_type": "code",
   "execution_count": 222,
   "id": "sensitive-nowhere",
   "metadata": {},
   "outputs": [],
   "source": [
    "processed_triples = []\n",
    "processed_weights = []\n",
    "processed_traces = []\n",
    "\n",
    "for idx in unique_idx:\n",
    "    \n",
    "    triple = triples[idx]\n",
    "    \n",
    "    trace_indices = triple_lookup[str(triple)]\n",
    "    trace = traces[trace_indices]\n",
    "    weight = weights[trace_indices]\n",
    "        \n",
    "    #padded_weight = utils.pad_weights(weight,longest_trace=longest_trace)\n",
    "    padded_trace = utils.pad_trace(trace,max_padding=max_padding,longest_trace=longest_trace)\n",
    "    \n",
    "    weight = np.ones(padded_trace.shape[:2]) * weight[0]\n",
    "    \n",
    "    processed_triples.append(triple)\n",
    "    processed_traces.append(padded_trace)\n",
    "    processed_weights.append(weight)"
   ]
  },
  {
   "cell_type": "code",
   "execution_count": 143,
   "id": "generous-occupation",
   "metadata": {},
   "outputs": [],
   "source": [
    "all_triples = np.array(processed_triples)\n",
    "all_traces = np.array(processed_traces)\n",
    "all_weights = np.array(processed_weights)\n",
    "#traces: (NUM_TRIPLES,LONGEST_TRACE,MAX_PADDING,3)\n",
    "#weights: (NUM_TRIPLES,LONGEST_TRACE,MAX_PADDING)"
   ]
  },
  {
   "cell_type": "code",
   "execution_count": 181,
   "id": "extraordinary-apparatus",
   "metadata": {},
   "outputs": [
    {
     "data": {
      "text/plain": [
       "array([[1., 1., 1.],\n",
       "       [1., 1., 1.],\n",
       "       [1., 1., 1.],\n",
       "       [1., 1., 1.]])"
      ]
     },
     "execution_count": 181,
     "metadata": {},
     "output_type": "execute_result"
    }
   ],
   "source": [
    "np.ones(padded_trace.shape[:2])"
   ]
  },
  {
   "cell_type": "code",
   "execution_count": 224,
   "id": "developmental-hepatitis",
   "metadata": {},
   "outputs": [
    {
     "data": {
      "text/plain": [
       "array([0.5 , 0.5 , 0.99])"
      ]
     },
     "execution_count": 224,
     "metadata": {},
     "output_type": "execute_result"
    }
   ],
   "source": [
    "weights[trace_indices]"
   ]
  },
  {
   "cell_type": "code",
   "execution_count": 225,
   "id": "identified-palestine",
   "metadata": {},
   "outputs": [
    {
     "data": {
      "text/plain": [
       "array([[['<http://example.org/data#Paul>', 'child',\n",
       "         '<http://example.org/data#DaughterPaul>'],\n",
       "        ['<http://example.org/data#DaughterPaul>', 'parent',\n",
       "         '<http://example.org/data#SpousePaul>'],\n",
       "        ['UNK_ENT', 'UNK_REL', 'UNK_ENT']],\n",
       "\n",
       "       [['<http://example.org/data#Paul>', 'child',\n",
       "         '<http://example.org/data#SonPaul>'],\n",
       "        ['<http://example.org/data#SonPaul>', 'parent',\n",
       "         '<http://example.org/data#SpousePaul>'],\n",
       "        ['UNK_ENT', 'UNK_REL', 'UNK_ENT']],\n",
       "\n",
       "       [['<http://example.org/data#Paul>', 'spouse',\n",
       "         '<http://example.org/data#SpousePaul>'],\n",
       "        ['UNK_ENT', 'UNK_REL', 'UNK_ENT'],\n",
       "        ['UNK_ENT', 'UNK_REL', 'UNK_ENT']]], dtype='<U42')"
      ]
     },
     "execution_count": 225,
     "metadata": {},
     "output_type": "execute_result"
    }
   ],
   "source": [
    "trace"
   ]
  },
  {
   "cell_type": "code",
   "execution_count": null,
   "id": "thirty-ceremony",
   "metadata": {},
   "outputs": [],
   "source": []
  },
  {
   "cell_type": "code",
   "execution_count": null,
   "id": "proof-profile",
   "metadata": {},
   "outputs": [],
   "source": []
  },
  {
   "cell_type": "code",
   "execution_count": null,
   "id": "hungarian-transcription",
   "metadata": {},
   "outputs": [],
   "source": []
  }
 ],
 "metadata": {
  "kernelspec": {
   "display_name": "Python 3",
   "language": "python",
   "name": "python3"
  },
  "language_info": {
   "codemirror_mode": {
    "name": "ipython",
    "version": 3
   },
   "file_extension": ".py",
   "mimetype": "text/x-python",
   "name": "python",
   "nbconvert_exporter": "python",
   "pygments_lexer": "ipython3",
   "version": "3.7.9"
  }
 },
 "nbformat": 4,
 "nbformat_minor": 5
}
