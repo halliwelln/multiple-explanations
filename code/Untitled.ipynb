{
 "cells": [
  {
   "cell_type": "code",
   "execution_count": 1,
   "id": "optimum-boutique",
   "metadata": {},
   "outputs": [],
   "source": [
    "import pandas as pd\n",
    "import os\n",
    "import numpy as np"
   ]
  },
  {
   "cell_type": "code",
   "execution_count": null,
   "id": "employed-microphone",
   "metadata": {},
   "outputs": [],
   "source": [
    "data = pd.read_csv(os.path.join('..','data','experiment_data.csv'))"
   ]
  },
  {
   "cell_type": "code",
   "execution_count": null,
   "id": "embedded-contract",
   "metadata": {},
   "outputs": [],
   "source": [
    "best = 'Strongly agree, and this is one of the best explanations to use'\n",
    "second_best = 'Agree that this is a good explanation'\n",
    "middle = 'Neither agree nor disagree that this is a good explanation'\n",
    "second_worst = 'Disagree that this is a good explanation'\n",
    "worst = 'Strongly disagree, and this is one of the worst explanations to use'\n",
    "\n",
    "data = data.replace(best,5).replace(second_best,4).replace(middle,3).replace(second_worst,2).replace(worst,1)"
   ]
  },
  {
   "cell_type": "code",
   "execution_count": null,
   "id": "spread-imperial",
   "metadata": {},
   "outputs": [],
   "source": [
    "cols = [col for col in data.columns if (col != 'Timestamp') and ('Optional' not in col) and (not col.startswith('Owen'))]"
   ]
  },
  {
   "cell_type": "code",
   "execution_count": null,
   "id": "streaming-matter",
   "metadata": {},
   "outputs": [],
   "source": [
    "clean_data = data.loc[:,cols]"
   ]
  },
  {
   "cell_type": "code",
   "execution_count": null,
   "id": "intended-advertising",
   "metadata": {},
   "outputs": [],
   "source": [
    "clean_data"
   ]
  },
  {
   "cell_type": "code",
   "execution_count": null,
   "id": "sought-adventure",
   "metadata": {},
   "outputs": [],
   "source": []
  },
  {
   "cell_type": "code",
   "execution_count": 90,
   "id": "combined-digest",
   "metadata": {},
   "outputs": [],
   "source": [
    "# array = [1,3,8,2]\n",
    "# k = 10\n",
    "\n",
    "# array = [3,9,13,7]\n",
    "# k = 8\n",
    "\n",
    "array = [4,2,6,5,2]\n",
    "# k = 4\n",
    "\n",
    "# d = set()\n",
    "\n",
    "# for i in array:\n",
    "#     print(i)\n",
    "#     print(k-i)\n",
    "#     if k - i in d:\n",
    "#         print(True)\n",
    "#     d.add(i)\n",
    "#     print(d)"
   ]
  },
  {
   "cell_type": "code",
   "execution_count": null,
   "id": "still-atmosphere",
   "metadata": {},
   "outputs": [],
   "source": []
  },
  {
   "cell_type": "code",
   "execution_count": 2,
   "id": "small-active",
   "metadata": {},
   "outputs": [],
   "source": [
    "file_name = os.path.join('..','data','traces','entailment.ttl')"
   ]
  },
  {
   "cell_type": "code",
   "execution_count": null,
   "id": "cellular-funeral",
   "metadata": {},
   "outputs": [],
   "source": []
  },
  {
   "cell_type": "code",
   "execution_count": 8,
   "id": "raising-chicken",
   "metadata": {},
   "outputs": [],
   "source": [
    "def parse_ttl(file_name, max_padding):\n",
    "    \n",
    "    lines = []\n",
    "\n",
    "    with open(file_name, 'r') as f:\n",
    "        for line in f:\n",
    "            lines.append(line)\n",
    "\n",
    "    ground_truth = []\n",
    "    traces = []\n",
    "    weights = []\n",
    "\n",
    "    for idx in range(len(lines)):\n",
    "\n",
    "        if \"graph us:construct\" in lines[idx]:\n",
    "\n",
    "            split_source = lines[idx+1].split()\n",
    "\n",
    "            source_rel = split_source[1].split(':')[1]\n",
    "\n",
    "            source_tup = [split_source[0],source_rel,split_source[2]]\n",
    "\n",
    "            weight = float(lines[idx+2].split()[2][1:4])\n",
    "\n",
    "        exp_triples = []\n",
    "\n",
    "        if 'graph us:where' in lines[idx]:\n",
    "\n",
    "            while lines[idx+1] != '} \\n':\n",
    "\n",
    "                split_exp = lines[idx+1].split()\n",
    "\n",
    "                exp_rel = split_exp[1].split(':')[1]\n",
    "\n",
    "                exp_triple = [split_exp[0],exp_rel,split_exp[2]]\n",
    "\n",
    "                exp_triples.append(exp_triple)\n",
    "\n",
    "                idx+=1\n",
    "\n",
    "        if len(source_tup) and len(exp_triples):\n",
    "\n",
    "            if len(exp_triples) < max_padding:\n",
    "\n",
    "                while len(exp_triples) != max_padding:\n",
    "\n",
    "                    pad = np.array(['UNK_ENT', 'UNK_REL', 'UNK_ENT'])\n",
    "                    exp_triples.append(pad)\n",
    "\n",
    "            ground_truth.append(np.array(source_tup))\n",
    "            traces.append(np.array(exp_triples))\n",
    "            weights.append(weight)\n",
    "            \n",
    "    return np.array(ground_truth),np.array(traces),np.array(weights)"
   ]
  },
  {
   "cell_type": "code",
   "execution_count": 9,
   "id": "fuzzy-engineering",
   "metadata": {},
   "outputs": [],
   "source": [
    "ground_truth, traces, weights = parse_ttl(file_name,2)"
   ]
  },
  {
   "cell_type": "code",
   "execution_count": null,
   "id": "affecting-thermal",
   "metadata": {},
   "outputs": [],
   "source": []
  },
  {
   "cell_type": "code",
   "execution_count": 97,
   "id": "potential-neutral",
   "metadata": {},
   "outputs": [],
   "source": [
    "_, unique_idx = np.unique(ground_truth, axis=0, return_index=True)"
   ]
  },
  {
   "cell_type": "code",
   "execution_count": null,
   "id": "convenient-redhead",
   "metadata": {},
   "outputs": [],
   "source": []
  },
  {
   "cell_type": "code",
   "execution_count": 149,
   "id": "executive-artwork",
   "metadata": {},
   "outputs": [],
   "source": [
    "spouse_idx = traces[unique_idx][:,0,:][:,1] == 'spouse'"
   ]
  },
  {
   "cell_type": "code",
   "execution_count": 157,
   "id": "revolutionary-referral",
   "metadata": {},
   "outputs": [
    {
     "data": {
      "text/plain": [
       "array([[['<http://example.org/data#Paul>', 'child',\n",
       "         '<http://example.org/data#SonPaul>'],\n",
       "        ['<http://example.org/data#SonPaul>', 'parent',\n",
       "         '<http://example.org/data#SpousePaul>']]], dtype='<U42')"
      ]
     },
     "execution_count": 157,
     "metadata": {},
     "output_type": "execute_result"
    }
   ],
   "source": [
    "traces[unique_idx][~spouse_idx]"
   ]
  },
  {
   "cell_type": "code",
   "execution_count": null,
   "id": "grave-shame",
   "metadata": {},
   "outputs": [],
   "source": []
  },
  {
   "cell_type": "code",
   "execution_count": null,
   "id": "weighted-chambers",
   "metadata": {},
   "outputs": [],
   "source": []
  }
 ],
 "metadata": {
  "kernelspec": {
   "display_name": "Python 3",
   "language": "python",
   "name": "python3"
  },
  "language_info": {
   "codemirror_mode": {
    "name": "ipython",
    "version": 3
   },
   "file_extension": ".py",
   "mimetype": "text/x-python",
   "name": "python",
   "nbconvert_exporter": "python",
   "pygments_lexer": "ipython3",
   "version": "3.7.9"
  }
 },
 "nbformat": 4,
 "nbformat_minor": 5
}
