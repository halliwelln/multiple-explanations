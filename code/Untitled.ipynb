{
 "cells": [
  {
   "cell_type": "code",
   "execution_count": 1,
   "id": "color-retention",
   "metadata": {},
   "outputs": [],
   "source": [
    "%matplotlib inline\n",
    "import matplotlib.pyplot as plt\n",
    "import pandas as pd\n",
    "import os\n",
    "import numpy as np\n",
    "import json\n",
    "import seaborn as sns"
   ]
  },
  {
   "cell_type": "code",
   "execution_count": 2,
   "id": "complete-honor",
   "metadata": {},
   "outputs": [],
   "source": [
    "data = pd.read_csv(os.path.join('..','data','experiment_data.csv'))"
   ]
  },
  {
   "cell_type": "code",
   "execution_count": null,
   "id": "cellular-stack",
   "metadata": {},
   "outputs": [],
   "source": []
  },
  {
   "cell_type": "code",
   "execution_count": 3,
   "id": "alpha-promotion",
   "metadata": {},
   "outputs": [],
   "source": [
    "best = 'Very intuitive, an explanation I could give or expect'\n",
    "second_best = 'Intuitive'\n",
    "middle = 'Neither intuitive or unintuitive'\n",
    "second_worst = 'Unintuitive'\n",
    "worst = 'Not intuitive at all, not an explanation I would give or expect'\n",
    "\n",
    "data = data.replace(best,4).replace(second_best,3).replace(middle,2).replace(second_worst,1).replace(worst,0)"
   ]
  },
  {
   "cell_type": "code",
   "execution_count": 4,
   "id": "approximate-facing",
   "metadata": {},
   "outputs": [],
   "source": [
    "filter_questions = data.iloc[:,1:4]\n",
    "filter_questions.columns = ['Native_Language', 'Nationality','Gender']\n",
    "filter_questions = filter_questions.iloc[4:]"
   ]
  },
  {
   "cell_type": "code",
   "execution_count": null,
   "id": "looking-jesus",
   "metadata": {},
   "outputs": [],
   "source": []
  },
  {
   "cell_type": "code",
   "execution_count": 5,
   "id": "caroline-update",
   "metadata": {},
   "outputs": [],
   "source": [
    "#filter_questions['Native_Language'] = filter_questions['Native_Language'].apply(lambda x:x.title())\n",
    "# filter_questions['Nationality'] = filter_questions['Nationality'].apply(lambda x:x.title())\n",
    "# filter_questions.groupby(by=['Nationality']).agg(['count'])"
   ]
  },
  {
   "cell_type": "code",
   "execution_count": null,
   "id": "stone-breakdown",
   "metadata": {},
   "outputs": [],
   "source": []
  },
  {
   "cell_type": "code",
   "execution_count": 6,
   "id": "following-ribbon",
   "metadata": {},
   "outputs": [],
   "source": [
    "cols = [col for col in data.columns if \n",
    "        (col != 'Timestamp') and ('Optional' not in col)\n",
    "                and (not col.startswith('Do') and (not col.startswith('What'))\n",
    "                and (not col.startswith('Any')) and (not col.startswith('Unnamed')))]\n",
    "\n",
    "#drop great grandparent\n",
    "cols = cols[4:]"
   ]
  },
  {
   "cell_type": "code",
   "execution_count": 7,
   "id": "extensive-sheet",
   "metadata": {},
   "outputs": [],
   "source": [
    "clean_data = data.loc[:,cols]"
   ]
  },
  {
   "cell_type": "code",
   "execution_count": 8,
   "id": "growing-wagon",
   "metadata": {},
   "outputs": [],
   "source": [
    "all_cols = [\n",
    "    'aunt_aunt_brother',\n",
    "    'aunt_child_grandparent',\n",
    "    'aunt_parent_sister',\n",
    "    'aunt_aunt_sister',\n",
    "    'uncle_brother_uncle',\n",
    "    'uncle_child_grandparent',\n",
    "    'uncle_brother_parent',\n",
    "    'uncle_sister_uncle',\n",
    "    'spouse_spouse',\n",
    "    'spouse_child_parent',\n",
    "    'brother_child_uncle',\n",
    "    'brother_child_parent',\n",
    "    'brother_brother_sister',\n",
    "    'brother_aunt_aunt',\n",
    "    'brother_grandparent_grandparent',\n",
    "    'brother_parent_parent',\n",
    "    'brother_sister_sister',\n",
    "    'brother_uncle_uncle',\n",
    "    'sister_brother',\n",
    "    'sister_brother_sister',\n",
    "    'sister_aunt_child',\n",
    "    'sister_child_parent',\n",
    "    'sister_aunt_aunt',\n",
    "    'sister_brother_brother',\n",
    "    'sister_grandparent_grandparent',\n",
    "    'sister_parent_parent',\n",
    "    'sister_uncle_uncle',\n",
    "    'grandparent_brother_grandparent',\n",
    "    'grandparent_grandparent_spouse',\n",
    "    'grandparent_parent_parent',\n",
    "    'grandparent_grandparent_sister',\n",
    "    'grandparent_aunt_child',\n",
    "    'grandparent_child_parent',\n",
    "    'grandparent_child_uncle',\n",
    "    'grandparent_child_child',\n",
    "    'child_child_sister',\n",
    "    'child_brother_uncle',\n",
    "    'child_brother_child',\n",
    "    'child_grandparent_parent',\n",
    "    'child_aunt_sister',\n",
    "    'child_parent_spouse',\n",
    "    'child_parent',\n",
    "    'child_aunt_brother',\n",
    "    'child_brother_parent',\n",
    "    'child_child_grandparent',\n",
    "    'child_parent_sister',\n",
    "    'parent_brother_parent',\n",
    "    'parent_child_grandparent',\n",
    "    'parent_parent_spouse',\n",
    "    'parent_parent_sister',\n",
    "    'parent_aunt_sister',\n",
    "    'parent_brother_child',\n",
    "    'parent_grandparent_parent',\n",
    "    'parent_child_sister',\n",
    "    'parent_brother_uncle',\n",
    "    'parent_child',\n",
    "    'parent_child_spouse'\n",
    "]"
   ]
  },
  {
   "cell_type": "code",
   "execution_count": 9,
   "id": "physical-september",
   "metadata": {},
   "outputs": [],
   "source": [
    "clean_data.columns = all_cols"
   ]
  },
  {
   "cell_type": "code",
   "execution_count": null,
   "id": "responsible-attraction",
   "metadata": {},
   "outputs": [],
   "source": []
  },
  {
   "cell_type": "code",
   "execution_count": 10,
   "id": "limited-debate",
   "metadata": {},
   "outputs": [],
   "source": [
    "clean_data.insert(18,'spouse_child_child',clean_data['grandparent_child_child'].values)\n",
    "clean_data.insert(27,'brother_sister',clean_data['sister_brother'].values)\n",
    "clean_data.insert(28,'brother_brother_brother',clean_data['sister_brother_brother'].values)\n",
    "clean_data.insert(30,'sister_sister_sister',clean_data['brother_sister_sister'].values)\n",
    "clean_data.insert(60,'child_child_spouse',clean_data['parent_child_spouse'].values)"
   ]
  },
  {
   "cell_type": "code",
   "execution_count": null,
   "id": "secondary-father",
   "metadata": {},
   "outputs": [],
   "source": []
  },
  {
   "cell_type": "code",
   "execution_count": null,
   "id": "little-acquisition",
   "metadata": {},
   "outputs": [],
   "source": []
  },
  {
   "cell_type": "code",
   "execution_count": null,
   "id": "quiet-semiconductor",
   "metadata": {},
   "outputs": [],
   "source": []
  },
  {
   "cell_type": "code",
   "execution_count": null,
   "id": "republican-figure",
   "metadata": {},
   "outputs": [],
   "source": []
  },
  {
   "cell_type": "code",
   "execution_count": null,
   "id": "banner-tobago",
   "metadata": {},
   "outputs": [],
   "source": []
  },
  {
   "cell_type": "code",
   "execution_count": null,
   "id": "strange-transcript",
   "metadata": {},
   "outputs": [],
   "source": []
  },
  {
   "cell_type": "code",
   "execution_count": null,
   "id": "burning-wesley",
   "metadata": {},
   "outputs": [],
   "source": []
  },
  {
   "cell_type": "code",
   "execution_count": null,
   "id": "applicable-prescription",
   "metadata": {},
   "outputs": [],
   "source": []
  },
  {
   "cell_type": "code",
   "execution_count": null,
   "id": "known-russell",
   "metadata": {},
   "outputs": [],
   "source": []
  },
  {
   "cell_type": "code",
   "execution_count": null,
   "id": "advance-window",
   "metadata": {},
   "outputs": [],
   "source": []
  },
  {
   "cell_type": "code",
   "execution_count": null,
   "id": "confused-brazilian",
   "metadata": {},
   "outputs": [],
   "source": []
  },
  {
   "cell_type": "code",
   "execution_count": 11,
   "id": "urban-hampton",
   "metadata": {},
   "outputs": [],
   "source": [
    "no_aunt_uncle_cols = [col for col in clean_data.columns if ('aunt' not in col) and ('uncle' not in col)]"
   ]
  },
  {
   "cell_type": "code",
   "execution_count": 12,
   "id": "artistic-timothy",
   "metadata": {},
   "outputs": [],
   "source": [
    "no_aunt_uncle_data = clean_data[no_aunt_uncle_cols]"
   ]
  },
  {
   "cell_type": "code",
   "execution_count": 13,
   "id": "helpful-colonial",
   "metadata": {},
   "outputs": [],
   "source": [
    "values = (no_aunt_uncle_data).mean(axis=0)/4"
   ]
  },
  {
   "cell_type": "code",
   "execution_count": 14,
   "id": "graduate-homework",
   "metadata": {},
   "outputs": [],
   "source": [
    "#predicate_weights = dict((clean_data/4).mean(axis=0))\n",
    "def round_weights(x):\n",
    "    return round(x*10)/10\n",
    "\n",
    "predicate_weights = dict(round_weights(values))"
   ]
  },
  {
   "cell_type": "code",
   "execution_count": 33,
   "id": "athletic-florida",
   "metadata": {},
   "outputs": [],
   "source": [
    "with open(os.path.join('..','data','predicate_weights.json'),'w') as f:\n",
    "    json.dump(predicate_weights,f)    "
   ]
  },
  {
   "cell_type": "code",
   "execution_count": 16,
   "id": "later-signal",
   "metadata": {},
   "outputs": [],
   "source": [
    "#(no_aunt_uncle_data).mean(axis=0)/4"
   ]
  },
  {
   "cell_type": "code",
   "execution_count": 71,
   "id": "premium-carolina",
   "metadata": {},
   "outputs": [
    {
     "data": {
      "text/plain": [
       "{'spouse_spouse': 0.8,\n",
       " 'spouse_child_parent': 0.5,\n",
       " 'brother_child_parent': 0.8,\n",
       " 'brother_brother_sister': 0.6,\n",
       " 'brother_grandparent_grandparent': 0.3,\n",
       " 'brother_parent_parent': 0.9,\n",
       " 'brother_sister_sister': 0.7,\n",
       " 'spouse_child_child': 0.9,\n",
       " 'sister_brother': 0.8,\n",
       " 'sister_brother_sister': 0.7,\n",
       " 'sister_child_parent': 0.8,\n",
       " 'sister_brother_brother': 0.7,\n",
       " 'sister_grandparent_grandparent': 0.2,\n",
       " 'sister_parent_parent': 0.9,\n",
       " 'brother_sister': 0.8,\n",
       " 'brother_brother_brother': 0.7,\n",
       " 'sister_sister_sister': 0.7,\n",
       " 'grandparent_brother_grandparent': 0.6,\n",
       " 'grandparent_grandparent_spouse': 0.7,\n",
       " 'grandparent_parent_parent': 0.9,\n",
       " 'grandparent_grandparent_sister': 0.6,\n",
       " 'grandparent_child_parent': 0.9,\n",
       " 'grandparent_child_child': 0.9,\n",
       " 'child_child_sister': 0.7,\n",
       " 'child_brother_child': 0.7,\n",
       " 'child_grandparent_parent': 0.4,\n",
       " 'child_parent_spouse': 0.7,\n",
       " 'child_parent': 0.9,\n",
       " 'child_brother_parent': 0.7,\n",
       " 'child_child_grandparent': 0.4,\n",
       " 'child_parent_sister': 0.7,\n",
       " 'parent_brother_parent': 0.7,\n",
       " 'parent_child_grandparent': 0.3,\n",
       " 'parent_parent_spouse': 0.7,\n",
       " 'parent_parent_sister': 0.7,\n",
       " 'parent_brother_child': 0.7,\n",
       " 'parent_grandparent_parent': 0.3,\n",
       " 'parent_child_sister': 0.7,\n",
       " 'parent_child': 0.9,\n",
       " 'child_child_spouse': 0.7,\n",
       " 'parent_child_spouse': 0.7}"
      ]
     },
     "execution_count": 71,
     "metadata": {},
     "output_type": "execute_result"
    }
   ],
   "source": [
    "predicate_weights"
   ]
  },
  {
   "cell_type": "code",
   "execution_count": null,
   "id": "chronic-offer",
   "metadata": {},
   "outputs": [],
   "source": []
  },
  {
   "cell_type": "code",
   "execution_count": null,
   "id": "welcome-ordinance",
   "metadata": {},
   "outputs": [],
   "source": [
    "def bar_plot(values):\n",
    "    \n",
    "    std_error = np.std(values, ddof=1) / np.sqrt(len(values))\n",
    "    \n",
    "    ticks = np.arange(len(values))\n",
    "    \n",
    "    explanations = []\n",
    "\n",
    "    for i in values.index:\n",
    "\n",
    "        split_str = i.split('_')\n",
    "\n",
    "        relation = split_str[0]\n",
    "        \n",
    "        explanations.append('_'.join(split_str[1:]))\n",
    "\n",
    "    fig, ax = plt.subplots(figsize=(10,4))\n",
    "\n",
    "    ax.bar(x=ticks, \n",
    "           height=values,\n",
    "           yerr=std_error,\n",
    "          capsize=4)\n",
    "    \n",
    "    ax.set_xticks(ticks=ticks)\n",
    "    ax.set_xticklabels(labels=explanations,rotation = (45), fontsize = 10)\n",
    "    \n",
    "    ax.set_title(relation.title())\n",
    "    plt.savefig(os.path.join('..','plots',f\"{relation}.pdf\"),bbox_inches='tight')"
   ]
  },
  {
   "cell_type": "code",
   "execution_count": null,
   "id": "sticky-trade",
   "metadata": {},
   "outputs": [],
   "source": [
    "def get_idx(rule):\n",
    "    return [idx for idx,i in enumerate(values.index) if i.startswith(rule)]\n",
    "\n",
    "# aunt_idx = get_idx('aunt')\n",
    "# bar_plot(values[aunt_idx])\n",
    "# uncle_idx = get_idx('uncle')\n",
    "# bar_plot(values[uncle_idx])"
   ]
  },
  {
   "cell_type": "code",
   "execution_count": null,
   "id": "allied-technique",
   "metadata": {},
   "outputs": [],
   "source": []
  },
  {
   "cell_type": "code",
   "execution_count": null,
   "id": "seasonal-athletics",
   "metadata": {},
   "outputs": [],
   "source": [
    "spouse_idx = get_idx('spouse')\n",
    "bar_plot(values[spouse_idx])"
   ]
  },
  {
   "cell_type": "code",
   "execution_count": null,
   "id": "conscious-legend",
   "metadata": {},
   "outputs": [],
   "source": [
    "brother_idx = get_idx('brother')\n",
    "bar_plot(values[brother_idx])"
   ]
  },
  {
   "cell_type": "code",
   "execution_count": null,
   "id": "young-baptist",
   "metadata": {},
   "outputs": [],
   "source": [
    "sister_idx = get_idx('sister')\n",
    "bar_plot(values[sister_idx])"
   ]
  },
  {
   "cell_type": "code",
   "execution_count": null,
   "id": "demonstrated-christianity",
   "metadata": {},
   "outputs": [],
   "source": [
    "grandparent_idx = get_idx('grandparent')\n",
    "bar_plot(values[grandparent_idx])"
   ]
  },
  {
   "cell_type": "code",
   "execution_count": null,
   "id": "widespread-finnish",
   "metadata": {},
   "outputs": [],
   "source": [
    "child_idx = get_idx('child')\n",
    "bar_plot(values[child_idx])"
   ]
  },
  {
   "cell_type": "code",
   "execution_count": null,
   "id": "tracked-teddy",
   "metadata": {},
   "outputs": [],
   "source": [
    "parent_idx = get_idx('parent')\n",
    "bar_plot(values[parent_idx])"
   ]
  },
  {
   "cell_type": "code",
   "execution_count": null,
   "id": "stopped-undergraduate",
   "metadata": {},
   "outputs": [],
   "source": []
  },
  {
   "cell_type": "code",
   "execution_count": null,
   "id": "integral-eating",
   "metadata": {},
   "outputs": [],
   "source": []
  },
  {
   "cell_type": "code",
   "execution_count": null,
   "id": "major-honey",
   "metadata": {},
   "outputs": [],
   "source": []
  },
  {
   "cell_type": "code",
   "execution_count": null,
   "id": "interior-laptop",
   "metadata": {},
   "outputs": [],
   "source": [
    "\n",
    "# clean_data.insert(4,'aunt_grandparent_parent',clean_data['child_grandparent_parent'].values)\n",
    "# clean_data.insert(5,'aunt_brother_parent',clean_data['uncle_brother_parent'].values)\n",
    "# clean_data.insert(6,'aunt_sister_uncle',clean_data['uncle_sister_uncle'].values)\n",
    "# clean_data.insert(7,'aunt_brother_uncle',clean_data['uncle_brother_uncle'].values)\n",
    "\n",
    "# clean_data.insert(12,'uncle_aunt_brother',clean_data['aunt_aunt_brother'].values)\n",
    "# clean_data.insert(13,'uncle_aunt_sister',clean_data['aunt_aunt_sister'].values)\n",
    "# clean_data.insert(14,'uncle_grandparent_parent',clean_data['child_grandparent_parent'].values)\n",
    "# clean_data.insert(15,'uncle_parent_sister',clean_data['aunt_parent_sister'].values)\n",
    "\n",
    "\n",
    "# clean_data.insert(27,'brother_sister',clean_data['sister_brother'].values)\n",
    "# clean_data.insert(28,'brother_aunt_child',clean_data['sister_aunt_child'].values)\n",
    "# clean_data.insert(28,'brother_brother_brother',clean_data['sister_brother_brother'].values)\n",
    "\n",
    "# clean_data.insert(30,'sister_sister_sister',clean_data['brother_sister_sister'].values)\n",
    "# clean_data.insert(40,'sister_child_uncle',clean_data['brother_child_uncle'].values)\n",
    "\n",
    "# clean_data.insert(39,'grandparent_parent_uncle',clean_data['grandparent_child_uncle'].values)\n",
    "# clean_data.insert(40,'grandparent_aunt_parent',clean_data['grandparent_aunt_child'].values)\n",
    "\n",
    "# clean_data.insert(62,'child_sister_uncle',clean_data['uncle_sister_uncle'].values)\n",
    "# clean_data.insert(63,'child_child_spouse',clean_data['parent_child_spouse'].values)\n",
    "\n",
    "# clean_data.insert(75,'parent_aunt_brother',clean_data['parent_aunt_sister'].values)\n",
    "# clean_data.insert(76,'parent_sister_uncle',clean_data['parent_brother_uncle'].values)"
   ]
  },
  {
   "cell_type": "code",
   "execution_count": null,
   "id": "japanese-billy",
   "metadata": {},
   "outputs": [],
   "source": [
    "#dict((clean_data/5).mean(axis=0))"
   ]
  },
  {
   "cell_type": "code",
   "execution_count": null,
   "id": "consolidated-budget",
   "metadata": {},
   "outputs": [],
   "source": []
  },
  {
   "cell_type": "code",
   "execution_count": null,
   "id": "loved-major",
   "metadata": {},
   "outputs": [],
   "source": [
    "#full = pd.concat([filter_questions,clean_data],axis=1)\n",
    "#full.groupby(by=['Nationality','Native_Language']).agg(['mean'])"
   ]
  },
  {
   "cell_type": "code",
   "execution_count": null,
   "id": "understanding-college",
   "metadata": {},
   "outputs": [],
   "source": []
  },
  {
   "cell_type": "code",
   "execution_count": null,
   "id": "molecular-republican",
   "metadata": {},
   "outputs": [],
   "source": []
  },
  {
   "cell_type": "code",
   "execution_count": null,
   "id": "nasty-hawaiian",
   "metadata": {},
   "outputs": [],
   "source": []
  },
  {
   "cell_type": "code",
   "execution_count": null,
   "id": "informal-promise",
   "metadata": {},
   "outputs": [],
   "source": []
  },
  {
   "cell_type": "code",
   "execution_count": null,
   "id": "finnish-cliff",
   "metadata": {},
   "outputs": [],
   "source": []
  },
  {
   "cell_type": "code",
   "execution_count": null,
   "id": "close-aaron",
   "metadata": {},
   "outputs": [],
   "source": []
  },
  {
   "cell_type": "code",
   "execution_count": null,
   "id": "together-destruction",
   "metadata": {},
   "outputs": [],
   "source": []
  },
  {
   "cell_type": "code",
   "execution_count": null,
   "id": "iraqi-evolution",
   "metadata": {},
   "outputs": [],
   "source": []
  },
  {
   "cell_type": "code",
   "execution_count": null,
   "id": "opposed-highway",
   "metadata": {},
   "outputs": [],
   "source": []
  },
  {
   "cell_type": "code",
   "execution_count": null,
   "id": "unlike-humanity",
   "metadata": {},
   "outputs": [],
   "source": []
  },
  {
   "cell_type": "code",
   "execution_count": null,
   "id": "equipped-omaha",
   "metadata": {},
   "outputs": [],
   "source": [
    "#clean_data.iloc[:,:41].describe().T"
   ]
  },
  {
   "cell_type": "code",
   "execution_count": null,
   "id": "equal-president",
   "metadata": {},
   "outputs": [],
   "source": [
    "#clean_data.iloc[:,41:].describe().T"
   ]
  },
  {
   "cell_type": "code",
   "execution_count": null,
   "id": "delayed-aggregate",
   "metadata": {},
   "outputs": [],
   "source": []
  },
  {
   "cell_type": "code",
   "execution_count": null,
   "id": "widespread-registrar",
   "metadata": {},
   "outputs": [],
   "source": []
  },
  {
   "cell_type": "code",
   "execution_count": null,
   "id": "turkish-junction",
   "metadata": {},
   "outputs": [],
   "source": [
    "# from scipy.stats import spearmanr\n",
    "\n",
    "# rho, _ = spearmanr(clean_data[filter_questions['Native_Language']=='French'].mean(axis=0),\n",
    "#                   clean_data[filter_questions['Native_Language']=='English'].mean(axis=0))\n",
    "\n",
    "# print(rho)"
   ]
  },
  {
   "cell_type": "code",
   "execution_count": null,
   "id": "injured-audit",
   "metadata": {},
   "outputs": [],
   "source": [
    "# from scipy.stats import mannwhitneyu\n",
    "\n",
    "# stat, p = mannwhitneyu(clean_data[filter_questions['Native_Language']=='French'].mean(axis=0),\n",
    "#                        clean_data[filter_questions['Native_Language']=='English'].mean(axis=0))\n",
    "\n",
    "# print('stat=%.3f, p=%.3f' % (stat, p))\n",
    "# if p > 0.05:\n",
    "#     print('Probably the same distribution')\n",
    "# else:\n",
    "#     print('Probably different distributions')"
   ]
  },
  {
   "cell_type": "code",
   "execution_count": null,
   "id": "subtle-ranch",
   "metadata": {},
   "outputs": [],
   "source": [
    "# from scipy.stats import ttest_ind\n",
    "\n",
    "# stat, p = ttest_ind(clean_data[filter_questions['Native_Language']=='French'].mean(axis=0),\n",
    "#                        clean_data[filter_questions['Native_Language']=='English'].mean(axis=0))\n",
    "# print('stat=%.3f, p=%.3f' % (stat, p))\n",
    "# if p > 0.05:\n",
    "#     print('Probably the same distribution')\n",
    "# else:\n",
    "#     print('Probably different distributions')"
   ]
  },
  {
   "cell_type": "code",
   "execution_count": null,
   "id": "applied-jordan",
   "metadata": {},
   "outputs": [],
   "source": []
  },
  {
   "cell_type": "code",
   "execution_count": null,
   "id": "relevant-gather",
   "metadata": {},
   "outputs": [],
   "source": []
  },
  {
   "cell_type": "code",
   "execution_count": null,
   "id": "vertical-recruitment",
   "metadata": {},
   "outputs": [],
   "source": []
  },
  {
   "cell_type": "code",
   "execution_count": null,
   "id": "compliant-shield",
   "metadata": {},
   "outputs": [],
   "source": []
  },
  {
   "cell_type": "code",
   "execution_count": null,
   "id": "spare-genesis",
   "metadata": {},
   "outputs": [],
   "source": []
  },
  {
   "cell_type": "code",
   "execution_count": null,
   "id": "settled-sitting",
   "metadata": {},
   "outputs": [],
   "source": [
    "# RULE = 'spouse'\n",
    "# DATASET = 'simpsons'\n",
    "# gnn_data = np.load(\n",
    "#     os.path.join('..','data','preds',DATASET,\n",
    "#         'gnn_explainer_'+DATASET+'_'+RULE+'_preds.npz'),allow_pickle=True)"
   ]
  },
  {
   "cell_type": "code",
   "execution_count": null,
   "id": "listed-warren",
   "metadata": {},
   "outputs": [],
   "source": [
    "# for pred in gnn_data['preds']:\n",
    "#     print(pred.shape)"
   ]
  },
  {
   "cell_type": "code",
   "execution_count": null,
   "id": "weighted-dispatch",
   "metadata": {},
   "outputs": [],
   "source": []
  },
  {
   "cell_type": "code",
   "execution_count": null,
   "id": "large-empty",
   "metadata": {},
   "outputs": [],
   "source": []
  },
  {
   "cell_type": "code",
   "execution_count": null,
   "id": "italic-pizza",
   "metadata": {},
   "outputs": [],
   "source": []
  },
  {
   "cell_type": "code",
   "execution_count": null,
   "id": "fitting-gasoline",
   "metadata": {},
   "outputs": [],
   "source": []
  },
  {
   "cell_type": "code",
   "execution_count": null,
   "id": "subtle-italic",
   "metadata": {},
   "outputs": [],
   "source": []
  },
  {
   "cell_type": "code",
   "execution_count": null,
   "id": "fixed-multimedia",
   "metadata": {},
   "outputs": [],
   "source": []
  },
  {
   "cell_type": "code",
   "execution_count": null,
   "id": "equipped-remains",
   "metadata": {},
   "outputs": [],
   "source": []
  },
  {
   "cell_type": "code",
   "execution_count": null,
   "id": "international-dimension",
   "metadata": {},
   "outputs": [],
   "source": []
  },
  {
   "cell_type": "code",
   "execution_count": null,
   "id": "everyday-company",
   "metadata": {},
   "outputs": [],
   "source": []
  },
  {
   "cell_type": "code",
   "execution_count": null,
   "id": "innocent-advisory",
   "metadata": {},
   "outputs": [],
   "source": []
  }
 ],
 "metadata": {
  "kernelspec": {
   "display_name": "Python 3",
   "language": "python",
   "name": "python3"
  },
  "language_info": {
   "codemirror_mode": {
    "name": "ipython",
    "version": 3
   },
   "file_extension": ".py",
   "mimetype": "text/x-python",
   "name": "python",
   "nbconvert_exporter": "python",
   "pygments_lexer": "ipython3",
   "version": "3.7.9"
  }
 },
 "nbformat": 4,
 "nbformat_minor": 5
}
