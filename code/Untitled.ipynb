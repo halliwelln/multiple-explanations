{
 "cells": [
  {
   "cell_type": "code",
   "execution_count": 1,
   "id": "turkish-backup",
   "metadata": {},
   "outputs": [],
   "source": [
    "import pandas as pd\n",
    "import os\n",
    "import numpy as np"
   ]
  },
  {
   "cell_type": "code",
   "execution_count": 2,
   "id": "delayed-capture",
   "metadata": {},
   "outputs": [],
   "source": [
    "#data = pd.read_csv(os.path.join('..','data','experiment_data.csv'))\n",
    "data = pd.read_csv('/Users/nhalliwe/Downloads/experiment_data.csv')"
   ]
  },
  {
   "cell_type": "code",
   "execution_count": null,
   "id": "confident-murder",
   "metadata": {},
   "outputs": [],
   "source": []
  },
  {
   "cell_type": "code",
   "execution_count": null,
   "id": "photographic-corrections",
   "metadata": {},
   "outputs": [],
   "source": []
  },
  {
   "cell_type": "code",
   "execution_count": 3,
   "id": "painted-radical",
   "metadata": {},
   "outputs": [],
   "source": [
    "best = 'Very intuitive, an explanation I could give or expect'\n",
    "second_best = 'Intuitive'\n",
    "middle = 'Neither intuitive or unintuitive'\n",
    "second_worst = 'Unintuitive'\n",
    "worst = 'Not intuitive at all, not an explanation I would give or expect'\n",
    "\n",
    "data = data.replace(best,5).replace(second_best,4).replace(middle,3).replace(second_worst,2).replace(worst,1)"
   ]
  },
  {
   "cell_type": "code",
   "execution_count": null,
   "id": "understood-arbor",
   "metadata": {},
   "outputs": [],
   "source": []
  },
  {
   "cell_type": "code",
   "execution_count": 4,
   "id": "false-guatemala",
   "metadata": {},
   "outputs": [],
   "source": [
    "cols = [col for col in data.columns if \n",
    "        (col != 'Timestamp') and ('Optional' not in col) \n",
    "                and (not col.startswith('Do') and (not col.startswith('What'))\n",
    "                and (not col.startswith('Any')) and (not col.startswith('Unnamed')))]\n",
    "\n",
    "#drop great grandparent\n",
    "cols = cols[4:]"
   ]
  },
  {
   "cell_type": "code",
   "execution_count": 5,
   "id": "interracial-scope",
   "metadata": {},
   "outputs": [],
   "source": [
    "clean_data = data.loc[:,cols]"
   ]
  },
  {
   "cell_type": "code",
   "execution_count": 6,
   "id": "missing-smart",
   "metadata": {},
   "outputs": [],
   "source": [
    "#(clean_data/5).mean(axis=0)"
   ]
  },
  {
   "cell_type": "code",
   "execution_count": null,
   "id": "legendary-campbell",
   "metadata": {},
   "outputs": [],
   "source": []
  },
  {
   "cell_type": "code",
   "execution_count": null,
   "id": "running-kitty",
   "metadata": {},
   "outputs": [],
   "source": []
  },
  {
   "cell_type": "code",
   "execution_count": null,
   "id": "sufficient-sleeping",
   "metadata": {},
   "outputs": [],
   "source": []
  },
  {
   "cell_type": "code",
   "execution_count": null,
   "id": "ideal-guide",
   "metadata": {},
   "outputs": [],
   "source": []
  },
  {
   "cell_type": "code",
   "execution_count": null,
   "id": "owned-attraction",
   "metadata": {},
   "outputs": [],
   "source": []
  },
  {
   "cell_type": "code",
   "execution_count": null,
   "id": "finished-positive",
   "metadata": {},
   "outputs": [],
   "source": []
  },
  {
   "cell_type": "code",
   "execution_count": null,
   "id": "flying-guinea",
   "metadata": {},
   "outputs": [],
   "source": []
  },
  {
   "cell_type": "code",
   "execution_count": null,
   "id": "dressed-induction",
   "metadata": {},
   "outputs": [],
   "source": []
  },
  {
   "cell_type": "code",
   "execution_count": null,
   "id": "premium-valve",
   "metadata": {},
   "outputs": [],
   "source": []
  },
  {
   "cell_type": "code",
   "execution_count": null,
   "id": "artistic-romantic",
   "metadata": {},
   "outputs": [],
   "source": []
  },
  {
   "cell_type": "code",
   "execution_count": 7,
   "id": "impressed-screening",
   "metadata": {},
   "outputs": [],
   "source": [
    "import utils"
   ]
  },
  {
   "cell_type": "code",
   "execution_count": 8,
   "id": "continued-authorization",
   "metadata": {},
   "outputs": [],
   "source": [
    "rule_file = 'spouse'\n",
    "MAX_PADDING = 3"
   ]
  },
  {
   "cell_type": "code",
   "execution_count": 69,
   "id": "answering-defensive",
   "metadata": {},
   "outputs": [],
   "source": [
    "triples,traces, weights = utils.parse_ttl(\n",
    "    file_name=os.path.join('..','data','traces',rule_file+'.ttl'),\n",
    "    max_padding=MAX_PADDING\n",
    ")"
   ]
  },
  {
   "cell_type": "code",
   "execution_count": 100,
   "id": "painful-brick",
   "metadata": {},
   "outputs": [],
   "source": [
    "_, unique_idx = np.unique(traces, axis=0,return_index=True)\n"
   ]
  },
  {
   "cell_type": "code",
   "execution_count": 101,
   "id": "coastal-launch",
   "metadata": {},
   "outputs": [
    {
     "data": {
      "text/plain": [
       "array([[['<http://example.org/data#BrotherInLawPaul>', 'spouse',\n",
       "         '<http://example.org/data#SisterPaul>'],\n",
       "        ['UNK_ENT', 'UNK_REL', 'UNK_ENT'],\n",
       "        ['UNK_ENT', 'UNK_REL', 'UNK_ENT']],\n",
       "\n",
       "       [['<http://example.org/data#BrotherPaul>', 'spouse',\n",
       "         '<http://example.org/data#SisterInLawPaul>'],\n",
       "        ['UNK_ENT', 'UNK_REL', 'UNK_ENT'],\n",
       "        ['UNK_ENT', 'UNK_REL', 'UNK_ENT']],\n",
       "\n",
       "       [['<http://example.org/data#FatherPaul>', 'child',\n",
       "         '<http://example.org/data#BrotherPaul>'],\n",
       "        ['<http://example.org/data#BrotherPaul>', 'parent',\n",
       "         '<http://example.org/data#MotherPaul>'],\n",
       "        ['UNK_ENT', 'UNK_REL', 'UNK_ENT']],\n",
       "\n",
       "       [['<http://example.org/data#FatherPaul>', 'child',\n",
       "         '<http://example.org/data#Paul>'],\n",
       "        ['<http://example.org/data#Paul>', 'parent',\n",
       "         '<http://example.org/data#MotherPaul>'],\n",
       "        ['UNK_ENT', 'UNK_REL', 'UNK_ENT']],\n",
       "\n",
       "       [['<http://example.org/data#FatherPaul>', 'child',\n",
       "         '<http://example.org/data#SisterPaul>'],\n",
       "        ['<http://example.org/data#SisterPaul>', 'parent',\n",
       "         '<http://example.org/data#MotherPaul>'],\n",
       "        ['UNK_ENT', 'UNK_REL', 'UNK_ENT']],\n",
       "\n",
       "       [['<http://example.org/data#FatherPaul>', 'spouse',\n",
       "         '<http://example.org/data#MotherPaul>'],\n",
       "        ['UNK_ENT', 'UNK_REL', 'UNK_ENT'],\n",
       "        ['UNK_ENT', 'UNK_REL', 'UNK_ENT']],\n",
       "\n",
       "       [['<http://example.org/data#GrandFatherPaul1>', 'child',\n",
       "         '<http://example.org/data#FatherPaul>'],\n",
       "        ['<http://example.org/data#FatherPaul>', 'parent',\n",
       "         '<http://example.org/data#GrandMotherPaul1>'],\n",
       "        ['UNK_ENT', 'UNK_REL', 'UNK_ENT']],\n",
       "\n",
       "       [['<http://example.org/data#GrandFatherPaul1>', 'spouse',\n",
       "         '<http://example.org/data#GrandMotherPaul1>'],\n",
       "        ['UNK_ENT', 'UNK_REL', 'UNK_ENT'],\n",
       "        ['UNK_ENT', 'UNK_REL', 'UNK_ENT']],\n",
       "\n",
       "       [['<http://example.org/data#GrandFatherPaul2>', 'child',\n",
       "         '<http://example.org/data#MotherPaul>'],\n",
       "        ['<http://example.org/data#MotherPaul>', 'parent',\n",
       "         '<http://example.org/data#GrandMotherPaul2>'],\n",
       "        ['UNK_ENT', 'UNK_REL', 'UNK_ENT']],\n",
       "\n",
       "       [['<http://example.org/data#GrandFatherPaul2>', 'spouse',\n",
       "         '<http://example.org/data#GrandMotherPaul2>'],\n",
       "        ['UNK_ENT', 'UNK_REL', 'UNK_ENT'],\n",
       "        ['UNK_ENT', 'UNK_REL', 'UNK_ENT']],\n",
       "\n",
       "       [['<http://example.org/data#GrandMotherPaul1>', 'child',\n",
       "         '<http://example.org/data#FatherPaul>'],\n",
       "        ['<http://example.org/data#FatherPaul>', 'parent',\n",
       "         '<http://example.org/data#GrandFatherPaul1>'],\n",
       "        ['UNK_ENT', 'UNK_REL', 'UNK_ENT']],\n",
       "\n",
       "       [['<http://example.org/data#GrandMotherPaul1>', 'spouse',\n",
       "         '<http://example.org/data#GrandFatherPaul1>'],\n",
       "        ['UNK_ENT', 'UNK_REL', 'UNK_ENT'],\n",
       "        ['UNK_ENT', 'UNK_REL', 'UNK_ENT']],\n",
       "\n",
       "       [['<http://example.org/data#GrandMotherPaul2>', 'child',\n",
       "         '<http://example.org/data#MotherPaul>'],\n",
       "        ['<http://example.org/data#MotherPaul>', 'parent',\n",
       "         '<http://example.org/data#GrandFatherPaul2>'],\n",
       "        ['UNK_ENT', 'UNK_REL', 'UNK_ENT']],\n",
       "\n",
       "       [['<http://example.org/data#GrandMotherPaul2>', 'spouse',\n",
       "         '<http://example.org/data#GrandFatherPaul2>'],\n",
       "        ['UNK_ENT', 'UNK_REL', 'UNK_ENT'],\n",
       "        ['UNK_ENT', 'UNK_REL', 'UNK_ENT']],\n",
       "\n",
       "       [['<http://example.org/data#MotherPaul>', 'child',\n",
       "         '<http://example.org/data#BrotherPaul>'],\n",
       "        ['<http://example.org/data#BrotherPaul>', 'parent',\n",
       "         '<http://example.org/data#FatherPaul>'],\n",
       "        ['UNK_ENT', 'UNK_REL', 'UNK_ENT']],\n",
       "\n",
       "       [['<http://example.org/data#MotherPaul>', 'child',\n",
       "         '<http://example.org/data#Paul>'],\n",
       "        ['<http://example.org/data#Paul>', 'parent',\n",
       "         '<http://example.org/data#FatherPaul>'],\n",
       "        ['UNK_ENT', 'UNK_REL', 'UNK_ENT']],\n",
       "\n",
       "       [['<http://example.org/data#MotherPaul>', 'child',\n",
       "         '<http://example.org/data#SisterPaul>'],\n",
       "        ['<http://example.org/data#SisterPaul>', 'parent',\n",
       "         '<http://example.org/data#FatherPaul>'],\n",
       "        ['UNK_ENT', 'UNK_REL', 'UNK_ENT']],\n",
       "\n",
       "       [['<http://example.org/data#MotherPaul>', 'spouse',\n",
       "         '<http://example.org/data#FatherPaul>'],\n",
       "        ['UNK_ENT', 'UNK_REL', 'UNK_ENT'],\n",
       "        ['UNK_ENT', 'UNK_REL', 'UNK_ENT']],\n",
       "\n",
       "       [['<http://example.org/data#Paul>', 'child',\n",
       "         '<http://example.org/data#DaughterPaul>'],\n",
       "        ['<http://example.org/data#DaughterPaul>', 'parent',\n",
       "         '<http://example.org/data#SpousePaul>'],\n",
       "        ['UNK_ENT', 'UNK_REL', 'UNK_ENT']],\n",
       "\n",
       "       [['<http://example.org/data#Paul>', 'child',\n",
       "         '<http://example.org/data#SonPaul>'],\n",
       "        ['<http://example.org/data#SonPaul>', 'parent',\n",
       "         '<http://example.org/data#SpousePaul>'],\n",
       "        ['UNK_ENT', 'UNK_REL', 'UNK_ENT']],\n",
       "\n",
       "       [['<http://example.org/data#Paul>', 'spouse',\n",
       "         '<http://example.org/data#SpousePaul>'],\n",
       "        ['UNK_ENT', 'UNK_REL', 'UNK_ENT'],\n",
       "        ['UNK_ENT', 'UNK_REL', 'UNK_ENT']],\n",
       "\n",
       "       [['<http://example.org/data#SisterInLawPaul>', 'spouse',\n",
       "         '<http://example.org/data#BrotherPaul>'],\n",
       "        ['UNK_ENT', 'UNK_REL', 'UNK_ENT'],\n",
       "        ['UNK_ENT', 'UNK_REL', 'UNK_ENT']],\n",
       "\n",
       "       [['<http://example.org/data#SisterPaul>', 'spouse',\n",
       "         '<http://example.org/data#BrotherInLawPaul>'],\n",
       "        ['UNK_ENT', 'UNK_REL', 'UNK_ENT'],\n",
       "        ['UNK_ENT', 'UNK_REL', 'UNK_ENT']],\n",
       "\n",
       "       [['<http://example.org/data#SpousePaul>', 'spouse',\n",
       "         '<http://example.org/data#Paul>'],\n",
       "        ['UNK_ENT', 'UNK_REL', 'UNK_ENT'],\n",
       "        ['UNK_ENT', 'UNK_REL', 'UNK_ENT']]], dtype='<U42')"
      ]
     },
     "execution_count": 101,
     "metadata": {},
     "output_type": "execute_result"
    }
   ],
   "source": [
    "traces[unique_idx]"
   ]
  },
  {
   "cell_type": "code",
   "execution_count": null,
   "id": "large-photography",
   "metadata": {},
   "outputs": [],
   "source": []
  },
  {
   "cell_type": "code",
   "execution_count": null,
   "id": "particular-riding",
   "metadata": {},
   "outputs": [],
   "source": []
  },
  {
   "cell_type": "code",
   "execution_count": null,
   "id": "plastic-habitat",
   "metadata": {},
   "outputs": [],
   "source": []
  },
  {
   "cell_type": "code",
   "execution_count": null,
   "id": "concerned-bobby",
   "metadata": {},
   "outputs": [],
   "source": []
  },
  {
   "cell_type": "code",
   "execution_count": null,
   "id": "aging-auction",
   "metadata": {},
   "outputs": [],
   "source": []
  },
  {
   "cell_type": "code",
   "execution_count": null,
   "id": "homeless-haiti",
   "metadata": {},
   "outputs": [],
   "source": []
  },
  {
   "cell_type": "code",
   "execution_count": null,
   "id": "encouraging-provider",
   "metadata": {},
   "outputs": [],
   "source": []
  },
  {
   "cell_type": "code",
   "execution_count": null,
   "id": "communist-tragedy",
   "metadata": {},
   "outputs": [],
   "source": []
  },
  {
   "cell_type": "code",
   "execution_count": null,
   "id": "considered-elephant",
   "metadata": {},
   "outputs": [],
   "source": []
  },
  {
   "cell_type": "code",
   "execution_count": null,
   "id": "conservative-procurement",
   "metadata": {},
   "outputs": [],
   "source": []
  },
  {
   "cell_type": "code",
   "execution_count": null,
   "id": "level-collect",
   "metadata": {},
   "outputs": [],
   "source": []
  }
 ],
 "metadata": {
  "kernelspec": {
   "display_name": "Python 3",
   "language": "python",
   "name": "python3"
  },
  "language_info": {
   "codemirror_mode": {
    "name": "ipython",
    "version": 3
   },
   "file_extension": ".py",
   "mimetype": "text/x-python",
   "name": "python",
   "nbconvert_exporter": "python",
   "pygments_lexer": "ipython3",
   "version": "3.7.9"
  }
 },
 "nbformat": 4,
 "nbformat_minor": 5
}
