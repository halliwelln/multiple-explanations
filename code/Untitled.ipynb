{
 "cells": [
  {
   "cell_type": "code",
   "execution_count": 1,
   "id": "timely-preliminary",
   "metadata": {},
   "outputs": [],
   "source": [
    "%matplotlib inline\n",
    "import matplotlib.pyplot as plt\n",
    "import pandas as pd\n",
    "import os\n",
    "import numpy as np\n",
    "import json\n",
    "import seaborn as sns"
   ]
  },
  {
   "cell_type": "code",
   "execution_count": 2,
   "id": "inner-chess",
   "metadata": {},
   "outputs": [],
   "source": [
    "data = pd.read_csv(os.path.join('..','data','experiment_data.csv'))"
   ]
  },
  {
   "cell_type": "code",
   "execution_count": null,
   "id": "promotional-approach",
   "metadata": {},
   "outputs": [],
   "source": []
  },
  {
   "cell_type": "code",
   "execution_count": 3,
   "id": "subsequent-atlantic",
   "metadata": {},
   "outputs": [],
   "source": [
    "best = 'Very intuitive, an explanation I could give or expect'\n",
    "second_best = 'Intuitive'\n",
    "middle = 'Neither intuitive or unintuitive'\n",
    "second_worst = 'Unintuitive'\n",
    "worst = 'Not intuitive at all, not an explanation I would give or expect'\n",
    "\n",
    "data = data.replace(best,4).replace(second_best,3).replace(middle,2).replace(second_worst,1).replace(worst,0)"
   ]
  },
  {
   "cell_type": "code",
   "execution_count": 4,
   "id": "biblical-ecology",
   "metadata": {},
   "outputs": [],
   "source": [
    "filter_questions = data.iloc[:,1:4]\n",
    "filter_questions.columns = ['Native_Language', 'Nationality','Gender']\n",
    "filter_questions = filter_questions.iloc[4:]"
   ]
  },
  {
   "cell_type": "code",
   "execution_count": null,
   "id": "consecutive-mexico",
   "metadata": {},
   "outputs": [],
   "source": []
  },
  {
   "cell_type": "code",
   "execution_count": 5,
   "id": "preliminary-maintenance",
   "metadata": {},
   "outputs": [],
   "source": [
    "#filter_questions['Native_Language'] = filter_questions['Native_Language'].apply(lambda x:x.title())\n",
    "# filter_questions['Nationality'] = filter_questions['Nationality'].apply(lambda x:x.title())\n",
    "# filter_questions.groupby(by=['Nationality']).agg(['count'])"
   ]
  },
  {
   "cell_type": "code",
   "execution_count": null,
   "id": "specified-michael",
   "metadata": {},
   "outputs": [],
   "source": []
  },
  {
   "cell_type": "code",
   "execution_count": 6,
   "id": "liked-promise",
   "metadata": {},
   "outputs": [],
   "source": [
    "cols = [col for col in data.columns if \n",
    "        (col != 'Timestamp') and ('Optional' not in col)\n",
    "                and (not col.startswith('Do') and (not col.startswith('What'))\n",
    "                and (not col.startswith('Any')) and (not col.startswith('Unnamed')))]\n",
    "\n",
    "#drop great grandparent\n",
    "cols = cols[4:]"
   ]
  },
  {
   "cell_type": "code",
   "execution_count": 7,
   "id": "characteristic-clinton",
   "metadata": {},
   "outputs": [],
   "source": [
    "clean_data = data.loc[:,cols]"
   ]
  },
  {
   "cell_type": "code",
   "execution_count": 8,
   "id": "distant-korea",
   "metadata": {},
   "outputs": [],
   "source": [
    "all_cols = [\n",
    "    'aunt_aunt_brother',\n",
    "    'aunt_child_grandparent',\n",
    "    'aunt_parent_sister',\n",
    "    'aunt_aunt_sister',\n",
    "    'uncle_brother_uncle',\n",
    "    'uncle_child_grandparent',\n",
    "    'uncle_brother_parent',\n",
    "    'uncle_sister_uncle',\n",
    "    'spouse_spouse',\n",
    "    'spouse_child_parent',\n",
    "    'brother_child_uncle',\n",
    "    'brother_child_parent',\n",
    "    'brother_brother_sister',\n",
    "    'brother_aunt_aunt',\n",
    "    'brother_grandparent_grandparent',\n",
    "    'brother_parent_parent',\n",
    "    'brother_sister_sister',\n",
    "    'brother_uncle_uncle',\n",
    "    'sister_brother',\n",
    "    'sister_brother_sister',\n",
    "    'sister_aunt_child',\n",
    "    'sister_child_parent',\n",
    "    'sister_aunt_aunt',\n",
    "    'sister_brother_brother',\n",
    "    'sister_grandparent_grandparent',\n",
    "    'sister_parent_parent',\n",
    "    'sister_uncle_uncle',\n",
    "    'grandparent_brother_grandparent',\n",
    "    'grandparent_grandparent_spouse',\n",
    "    'grandparent_parent_parent',\n",
    "    'grandparent_grandparent_sister',\n",
    "    'grandparent_aunt_child',\n",
    "    'grandparent_child_parent',\n",
    "    'grandparent_child_uncle',\n",
    "    'grandparent_child_child',\n",
    "    'child_child_sister',\n",
    "    'child_brother_uncle',\n",
    "    'child_brother_child',\n",
    "    'child_grandparent_parent',\n",
    "    'child_aunt_sister',\n",
    "    'child_parent_spouse',\n",
    "    'child_parent',\n",
    "    'child_aunt_brother',\n",
    "    'child_brother_parent',\n",
    "    'child_child_grandparent',\n",
    "    'child_parent_sister',\n",
    "    'parent_brother_parent',\n",
    "    'parent_child_grandparent',\n",
    "    'parent_parent_spouse',\n",
    "    'parent_parent_sister',\n",
    "    'parent_aunt_sister',\n",
    "    'parent_brother_child',\n",
    "    'parent_grandparent_parent',\n",
    "    'parent_child_sister',\n",
    "    'parent_brother_uncle',\n",
    "    'parent_child',\n",
    "    'parent_child_spouse'\n",
    "]"
   ]
  },
  {
   "cell_type": "code",
   "execution_count": 9,
   "id": "sonic-blank",
   "metadata": {},
   "outputs": [],
   "source": [
    "clean_data.columns = all_cols"
   ]
  },
  {
   "cell_type": "code",
   "execution_count": null,
   "id": "national-fellowship",
   "metadata": {},
   "outputs": [],
   "source": []
  },
  {
   "cell_type": "code",
   "execution_count": 10,
   "id": "attached-insertion",
   "metadata": {},
   "outputs": [],
   "source": [
    "clean_data.insert(18,'spouse_child_child',clean_data['grandparent_child_child'].values)\n",
    "clean_data.insert(27,'brother_sister',clean_data['sister_brother'].values)\n",
    "clean_data.insert(28,'brother_brother_brother',clean_data['sister_brother_brother'].values)\n",
    "clean_data.insert(30,'sister_sister_sister',clean_data['brother_sister_sister'].values)\n",
    "clean_data.insert(60,'child_child_spouse',clean_data['parent_child_spouse'].values)"
   ]
  },
  {
   "cell_type": "code",
   "execution_count": null,
   "id": "documented-trunk",
   "metadata": {},
   "outputs": [],
   "source": []
  },
  {
   "cell_type": "code",
   "execution_count": null,
   "id": "written-fence",
   "metadata": {},
   "outputs": [],
   "source": []
  },
  {
   "cell_type": "code",
   "execution_count": null,
   "id": "north-customer",
   "metadata": {},
   "outputs": [],
   "source": []
  },
  {
   "cell_type": "code",
   "execution_count": null,
   "id": "soviet-length",
   "metadata": {},
   "outputs": [],
   "source": []
  },
  {
   "cell_type": "code",
   "execution_count": null,
   "id": "involved-poland",
   "metadata": {},
   "outputs": [],
   "source": []
  },
  {
   "cell_type": "code",
   "execution_count": null,
   "id": "satisfactory-shakespeare",
   "metadata": {},
   "outputs": [],
   "source": []
  },
  {
   "cell_type": "code",
   "execution_count": null,
   "id": "alone-capability",
   "metadata": {},
   "outputs": [],
   "source": []
  },
  {
   "cell_type": "code",
   "execution_count": null,
   "id": "patient-samuel",
   "metadata": {},
   "outputs": [],
   "source": []
  },
  {
   "cell_type": "code",
   "execution_count": null,
   "id": "missing-knowing",
   "metadata": {},
   "outputs": [],
   "source": []
  },
  {
   "cell_type": "code",
   "execution_count": null,
   "id": "iraqi-latin",
   "metadata": {},
   "outputs": [],
   "source": []
  },
  {
   "cell_type": "code",
   "execution_count": null,
   "id": "funny-payday",
   "metadata": {},
   "outputs": [],
   "source": []
  },
  {
   "cell_type": "code",
   "execution_count": 11,
   "id": "turkish-stranger",
   "metadata": {},
   "outputs": [],
   "source": [
    "no_aunt_uncle_cols = [col for col in clean_data.columns if ('aunt' not in col) and ('uncle' not in col)]"
   ]
  },
  {
   "cell_type": "code",
   "execution_count": 12,
   "id": "american-delay",
   "metadata": {},
   "outputs": [],
   "source": [
    "no_aunt_uncle_data = clean_data[no_aunt_uncle_cols]"
   ]
  },
  {
   "cell_type": "code",
   "execution_count": 13,
   "id": "single-annex",
   "metadata": {},
   "outputs": [],
   "source": [
    "values = (no_aunt_uncle_data).mean(axis=0)/4"
   ]
  },
  {
   "cell_type": "code",
   "execution_count": 14,
   "id": "correct-montgomery",
   "metadata": {},
   "outputs": [],
   "source": [
    "#predicate_weights = dict((clean_data/4).mean(axis=0))\n",
    "def round_weights(x):\n",
    "    return round(x*10)/10\n",
    "\n",
    "predicate_weights = dict(round_weights(values))"
   ]
  },
  {
   "cell_type": "code",
   "execution_count": 15,
   "id": "right-louisville",
   "metadata": {},
   "outputs": [],
   "source": [
    "with open(os.path.join('..','data','predicate_weights.json'),'w') as f:\n",
    "    json.dump(predicate_weights,f)    "
   ]
  },
  {
   "cell_type": "code",
   "execution_count": 16,
   "id": "alert-immunology",
   "metadata": {},
   "outputs": [],
   "source": [
    "#(no_aunt_uncle_data).mean(axis=0)/4"
   ]
  },
  {
   "cell_type": "code",
   "execution_count": 25,
   "id": "martial-princeton",
   "metadata": {},
   "outputs": [
    {
     "data": {
      "text/plain": [
       "0.7"
      ]
     },
     "execution_count": 25,
     "metadata": {},
     "output_type": "execute_result"
    }
   ],
   "source": [
    "predicate_weights['parent_child_spouse']"
   ]
  },
  {
   "cell_type": "code",
   "execution_count": null,
   "id": "demographic-guidance",
   "metadata": {},
   "outputs": [],
   "source": []
  },
  {
   "cell_type": "code",
   "execution_count": null,
   "id": "concerned-pocket",
   "metadata": {},
   "outputs": [],
   "source": [
    "def bar_plot(values):\n",
    "    \n",
    "    std_error = np.std(values, ddof=1) / np.sqrt(len(values))\n",
    "    \n",
    "    ticks = np.arange(len(values))\n",
    "    \n",
    "    explanations = []\n",
    "\n",
    "    for i in values.index:\n",
    "\n",
    "        split_str = i.split('_')\n",
    "\n",
    "        relation = split_str[0]\n",
    "        \n",
    "        explanations.append('_'.join(split_str[1:]))\n",
    "\n",
    "    fig, ax = plt.subplots(figsize=(10,4))\n",
    "\n",
    "    ax.bar(x=ticks, \n",
    "           height=values,\n",
    "           yerr=std_error,\n",
    "          capsize=4)\n",
    "    \n",
    "    ax.set_xticks(ticks=ticks)\n",
    "    ax.set_xticklabels(labels=explanations,rotation = (45), fontsize = 10)\n",
    "    \n",
    "    ax.set_title(relation.title())\n",
    "    plt.savefig(os.path.join('..','plots',f\"{relation}.pdf\"),bbox_inches='tight')"
   ]
  },
  {
   "cell_type": "code",
   "execution_count": null,
   "id": "comprehensive-serum",
   "metadata": {},
   "outputs": [],
   "source": [
    "def get_idx(rule):\n",
    "    return [idx for idx,i in enumerate(values.index) if i.startswith(rule)]\n",
    "\n",
    "# aunt_idx = get_idx('aunt')\n",
    "# bar_plot(values[aunt_idx])\n",
    "# uncle_idx = get_idx('uncle')\n",
    "# bar_plot(values[uncle_idx])"
   ]
  },
  {
   "cell_type": "code",
   "execution_count": null,
   "id": "entertaining-refund",
   "metadata": {},
   "outputs": [],
   "source": []
  },
  {
   "cell_type": "code",
   "execution_count": null,
   "id": "israeli-portfolio",
   "metadata": {},
   "outputs": [],
   "source": [
    "spouse_idx = get_idx('spouse')\n",
    "bar_plot(values[spouse_idx])"
   ]
  },
  {
   "cell_type": "code",
   "execution_count": null,
   "id": "military-advertising",
   "metadata": {},
   "outputs": [],
   "source": [
    "brother_idx = get_idx('brother')\n",
    "bar_plot(values[brother_idx])"
   ]
  },
  {
   "cell_type": "code",
   "execution_count": null,
   "id": "cellular-cosmetic",
   "metadata": {},
   "outputs": [],
   "source": [
    "sister_idx = get_idx('sister')\n",
    "bar_plot(values[sister_idx])"
   ]
  },
  {
   "cell_type": "code",
   "execution_count": null,
   "id": "minute-cowboy",
   "metadata": {},
   "outputs": [],
   "source": [
    "grandparent_idx = get_idx('grandparent')\n",
    "bar_plot(values[grandparent_idx])"
   ]
  },
  {
   "cell_type": "code",
   "execution_count": null,
   "id": "sealed-marker",
   "metadata": {},
   "outputs": [],
   "source": [
    "child_idx = get_idx('child')\n",
    "bar_plot(values[child_idx])"
   ]
  },
  {
   "cell_type": "code",
   "execution_count": null,
   "id": "noble-limit",
   "metadata": {},
   "outputs": [],
   "source": [
    "parent_idx = get_idx('parent')\n",
    "bar_plot(values[parent_idx])"
   ]
  },
  {
   "cell_type": "code",
   "execution_count": null,
   "id": "fifteen-explosion",
   "metadata": {},
   "outputs": [],
   "source": []
  },
  {
   "cell_type": "code",
   "execution_count": null,
   "id": "united-intersection",
   "metadata": {},
   "outputs": [],
   "source": []
  },
  {
   "cell_type": "code",
   "execution_count": null,
   "id": "mental-candle",
   "metadata": {},
   "outputs": [],
   "source": []
  },
  {
   "cell_type": "code",
   "execution_count": null,
   "id": "alert-boring",
   "metadata": {},
   "outputs": [],
   "source": [
    "\n",
    "# clean_data.insert(4,'aunt_grandparent_parent',clean_data['child_grandparent_parent'].values)\n",
    "# clean_data.insert(5,'aunt_brother_parent',clean_data['uncle_brother_parent'].values)\n",
    "# clean_data.insert(6,'aunt_sister_uncle',clean_data['uncle_sister_uncle'].values)\n",
    "# clean_data.insert(7,'aunt_brother_uncle',clean_data['uncle_brother_uncle'].values)\n",
    "\n",
    "# clean_data.insert(12,'uncle_aunt_brother',clean_data['aunt_aunt_brother'].values)\n",
    "# clean_data.insert(13,'uncle_aunt_sister',clean_data['aunt_aunt_sister'].values)\n",
    "# clean_data.insert(14,'uncle_grandparent_parent',clean_data['child_grandparent_parent'].values)\n",
    "# clean_data.insert(15,'uncle_parent_sister',clean_data['aunt_parent_sister'].values)\n",
    "\n",
    "\n",
    "# clean_data.insert(27,'brother_sister',clean_data['sister_brother'].values)\n",
    "# clean_data.insert(28,'brother_aunt_child',clean_data['sister_aunt_child'].values)\n",
    "# clean_data.insert(28,'brother_brother_brother',clean_data['sister_brother_brother'].values)\n",
    "\n",
    "# clean_data.insert(30,'sister_sister_sister',clean_data['brother_sister_sister'].values)\n",
    "# clean_data.insert(40,'sister_child_uncle',clean_data['brother_child_uncle'].values)\n",
    "\n",
    "# clean_data.insert(39,'grandparent_parent_uncle',clean_data['grandparent_child_uncle'].values)\n",
    "# clean_data.insert(40,'grandparent_aunt_parent',clean_data['grandparent_aunt_child'].values)\n",
    "\n",
    "# clean_data.insert(62,'child_sister_uncle',clean_data['uncle_sister_uncle'].values)\n",
    "# clean_data.insert(63,'child_child_spouse',clean_data['parent_child_spouse'].values)\n",
    "\n",
    "# clean_data.insert(75,'parent_aunt_brother',clean_data['parent_aunt_sister'].values)\n",
    "# clean_data.insert(76,'parent_sister_uncle',clean_data['parent_brother_uncle'].values)"
   ]
  },
  {
   "cell_type": "code",
   "execution_count": null,
   "id": "grave-rocket",
   "metadata": {},
   "outputs": [],
   "source": [
    "#dict((clean_data/5).mean(axis=0))"
   ]
  },
  {
   "cell_type": "code",
   "execution_count": null,
   "id": "mexican-technique",
   "metadata": {},
   "outputs": [],
   "source": []
  },
  {
   "cell_type": "code",
   "execution_count": null,
   "id": "alert-triangle",
   "metadata": {},
   "outputs": [],
   "source": [
    "#full = pd.concat([filter_questions,clean_data],axis=1)\n",
    "#full.groupby(by=['Nationality','Native_Language']).agg(['mean'])"
   ]
  },
  {
   "cell_type": "code",
   "execution_count": null,
   "id": "portable-distinction",
   "metadata": {},
   "outputs": [],
   "source": []
  },
  {
   "cell_type": "code",
   "execution_count": null,
   "id": "european-legislature",
   "metadata": {},
   "outputs": [],
   "source": []
  },
  {
   "cell_type": "code",
   "execution_count": null,
   "id": "soviet-spyware",
   "metadata": {},
   "outputs": [],
   "source": []
  },
  {
   "cell_type": "code",
   "execution_count": null,
   "id": "communist-lexington",
   "metadata": {},
   "outputs": [],
   "source": []
  },
  {
   "cell_type": "code",
   "execution_count": null,
   "id": "alert-eclipse",
   "metadata": {},
   "outputs": [],
   "source": []
  },
  {
   "cell_type": "code",
   "execution_count": null,
   "id": "clear-delicious",
   "metadata": {},
   "outputs": [],
   "source": []
  },
  {
   "cell_type": "code",
   "execution_count": null,
   "id": "operational-breed",
   "metadata": {},
   "outputs": [],
   "source": []
  },
  {
   "cell_type": "code",
   "execution_count": null,
   "id": "annual-reform",
   "metadata": {},
   "outputs": [],
   "source": []
  },
  {
   "cell_type": "code",
   "execution_count": null,
   "id": "instructional-roots",
   "metadata": {},
   "outputs": [],
   "source": []
  },
  {
   "cell_type": "code",
   "execution_count": null,
   "id": "federal-bicycle",
   "metadata": {},
   "outputs": [],
   "source": []
  },
  {
   "cell_type": "code",
   "execution_count": null,
   "id": "quiet-fantasy",
   "metadata": {},
   "outputs": [],
   "source": [
    "#clean_data.iloc[:,:41].describe().T"
   ]
  },
  {
   "cell_type": "code",
   "execution_count": null,
   "id": "palestinian-police",
   "metadata": {},
   "outputs": [],
   "source": [
    "#clean_data.iloc[:,41:].describe().T"
   ]
  },
  {
   "cell_type": "code",
   "execution_count": null,
   "id": "adapted-warehouse",
   "metadata": {},
   "outputs": [],
   "source": []
  },
  {
   "cell_type": "code",
   "execution_count": null,
   "id": "changed-perfume",
   "metadata": {},
   "outputs": [],
   "source": []
  },
  {
   "cell_type": "code",
   "execution_count": null,
   "id": "united-baptist",
   "metadata": {},
   "outputs": [],
   "source": [
    "# from scipy.stats import spearmanr\n",
    "\n",
    "# rho, _ = spearmanr(clean_data[filter_questions['Native_Language']=='French'].mean(axis=0),\n",
    "#                   clean_data[filter_questions['Native_Language']=='English'].mean(axis=0))\n",
    "\n",
    "# print(rho)"
   ]
  },
  {
   "cell_type": "code",
   "execution_count": null,
   "id": "characteristic-porcelain",
   "metadata": {},
   "outputs": [],
   "source": [
    "# from scipy.stats import mannwhitneyu\n",
    "\n",
    "# stat, p = mannwhitneyu(clean_data[filter_questions['Native_Language']=='French'].mean(axis=0),\n",
    "#                        clean_data[filter_questions['Native_Language']=='English'].mean(axis=0))\n",
    "\n",
    "# print('stat=%.3f, p=%.3f' % (stat, p))\n",
    "# if p > 0.05:\n",
    "#     print('Probably the same distribution')\n",
    "# else:\n",
    "#     print('Probably different distributions')"
   ]
  },
  {
   "cell_type": "code",
   "execution_count": null,
   "id": "stunning-lyric",
   "metadata": {},
   "outputs": [],
   "source": [
    "# from scipy.stats import ttest_ind\n",
    "\n",
    "# stat, p = ttest_ind(clean_data[filter_questions['Native_Language']=='French'].mean(axis=0),\n",
    "#                        clean_data[filter_questions['Native_Language']=='English'].mean(axis=0))\n",
    "# print('stat=%.3f, p=%.3f' % (stat, p))\n",
    "# if p > 0.05:\n",
    "#     print('Probably the same distribution')\n",
    "# else:\n",
    "#     print('Probably different distributions')"
   ]
  },
  {
   "cell_type": "code",
   "execution_count": null,
   "id": "christian-small",
   "metadata": {},
   "outputs": [],
   "source": []
  },
  {
   "cell_type": "code",
   "execution_count": null,
   "id": "magnetic-mobile",
   "metadata": {},
   "outputs": [],
   "source": []
  },
  {
   "cell_type": "code",
   "execution_count": null,
   "id": "compatible-cycle",
   "metadata": {},
   "outputs": [],
   "source": []
  },
  {
   "cell_type": "code",
   "execution_count": null,
   "id": "composite-horse",
   "metadata": {},
   "outputs": [],
   "source": []
  },
  {
   "cell_type": "code",
   "execution_count": null,
   "id": "nearby-labor",
   "metadata": {},
   "outputs": [],
   "source": []
  },
  {
   "cell_type": "code",
   "execution_count": null,
   "id": "automatic-saver",
   "metadata": {},
   "outputs": [],
   "source": [
    "# RULE = 'spouse'\n",
    "# DATASET = 'simpsons'\n",
    "# gnn_data = np.load(\n",
    "#     os.path.join('..','data','preds',DATASET,\n",
    "#         'gnn_explainer_'+DATASET+'_'+RULE+'_preds.npz'),allow_pickle=True)"
   ]
  },
  {
   "cell_type": "code",
   "execution_count": null,
   "id": "stretch-stake",
   "metadata": {},
   "outputs": [],
   "source": [
    "# for pred in gnn_data['preds']:\n",
    "#     print(pred.shape)"
   ]
  },
  {
   "cell_type": "code",
   "execution_count": null,
   "id": "upset-toner",
   "metadata": {},
   "outputs": [],
   "source": []
  },
  {
   "cell_type": "code",
   "execution_count": null,
   "id": "specified-savannah",
   "metadata": {},
   "outputs": [],
   "source": []
  },
  {
   "cell_type": "code",
   "execution_count": null,
   "id": "experienced-defendant",
   "metadata": {},
   "outputs": [],
   "source": []
  },
  {
   "cell_type": "code",
   "execution_count": null,
   "id": "unique-spencer",
   "metadata": {},
   "outputs": [],
   "source": []
  },
  {
   "cell_type": "code",
   "execution_count": null,
   "id": "floating-program",
   "metadata": {},
   "outputs": [],
   "source": []
  },
  {
   "cell_type": "code",
   "execution_count": null,
   "id": "fifth-fraction",
   "metadata": {},
   "outputs": [],
   "source": []
  },
  {
   "cell_type": "code",
   "execution_count": null,
   "id": "finite-shame",
   "metadata": {},
   "outputs": [],
   "source": []
  },
  {
   "cell_type": "code",
   "execution_count": null,
   "id": "rental-console",
   "metadata": {},
   "outputs": [],
   "source": []
  },
  {
   "cell_type": "code",
   "execution_count": null,
   "id": "offensive-newfoundland",
   "metadata": {},
   "outputs": [],
   "source": []
  },
  {
   "cell_type": "code",
   "execution_count": null,
   "id": "preliminary-forwarding",
   "metadata": {},
   "outputs": [],
   "source": []
  }
 ],
 "metadata": {
  "kernelspec": {
   "display_name": "Python 3",
   "language": "python",
   "name": "python3"
  },
  "language_info": {
   "codemirror_mode": {
    "name": "ipython",
    "version": 3
   },
   "file_extension": ".py",
   "mimetype": "text/x-python",
   "name": "python",
   "nbconvert_exporter": "python",
   "pygments_lexer": "ipython3",
   "version": "3.7.9"
  }
 },
 "nbformat": 4,
 "nbformat_minor": 5
}
