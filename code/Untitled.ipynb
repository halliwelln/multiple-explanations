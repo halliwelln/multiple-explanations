{
 "cells": [
  {
   "cell_type": "code",
   "execution_count": 1,
   "id": "concerned-protocol",
   "metadata": {},
   "outputs": [],
   "source": [
    "import pandas as pd\n",
    "import os"
   ]
  },
  {
   "cell_type": "code",
   "execution_count": 2,
   "id": "failing-enforcement",
   "metadata": {},
   "outputs": [],
   "source": [
    "data = pd.read_csv(os.path.join('..','data','experiment_data.csv'))"
   ]
  },
  {
   "cell_type": "code",
   "execution_count": 33,
   "id": "specific-kenya",
   "metadata": {},
   "outputs": [],
   "source": [
    "best = 'Strongly agree, and this is one of the best explanations to use'\n",
    "second_best = 'Agree that this is a good explanation'\n",
    "middle = 'Neither agree nor disagree that this is a good explanation'\n",
    "second_worst = 'Disagree that this is a good explanation'\n",
    "worst = 'Strongly disagree, and this is one of the worst explanations to use'\n",
    "\n",
    "data = data.replace(best,5).replace(second_best,4).replace(middle,3).replace(second_worst,2).replace(worst,1)"
   ]
  },
  {
   "cell_type": "code",
   "execution_count": 41,
   "id": "after-affairs",
   "metadata": {},
   "outputs": [],
   "source": [
    "cols = [col for col in data.columns if (col != 'Timestamp') and ('Optional' not in col) and (not col.startswith('Owen'))]"
   ]
  },
  {
   "cell_type": "code",
   "execution_count": 42,
   "id": "forward-biography",
   "metadata": {},
   "outputs": [],
   "source": [
    "clean_data = data.loc[:,cols]"
   ]
  },
  {
   "cell_type": "code",
   "execution_count": 46,
   "id": "future-costs",
   "metadata": {},
   "outputs": [
    {
     "data": {
      "text/html": [
       "<div>\n",
       "<style scoped>\n",
       "    .dataframe tbody tr th:only-of-type {\n",
       "        vertical-align: middle;\n",
       "    }\n",
       "\n",
       "    .dataframe tbody tr th {\n",
       "        vertical-align: top;\n",
       "    }\n",
       "\n",
       "    .dataframe thead th {\n",
       "        text-align: right;\n",
       "    }\n",
       "</style>\n",
       "<table border=\"1\" class=\"dataframe\">\n",
       "  <thead>\n",
       "    <tr style=\"text-align: right;\">\n",
       "      <th></th>\n",
       "      <th>Do you have a degree in computer science?</th>\n",
       "      <th>Have you taken a course in Machine Learning?</th>\n",
       "      <th>Joan is the aunt of Paul because Joan is the aunt of Mike and Mike is the is the brother of Paul</th>\n",
       "      <th>Joan is the aunt of Paul because Joan is the sister of James and James is the is the parent of Paul</th>\n",
       "      <th>Joan is the aunt of Paul because Joan is the aunt of Ruth and Ruth is the is the sister of Paul</th>\n",
       "      <th>Albert is the uncle of Paul because Mike is the brother of Paul and Albert is the uncle of Mike</th>\n",
       "      <th>Albert is the uncle of Paul because James is the parent of Paul and James is the brother of Albert</th>\n",
       "      <th>Albert is the uncle of Paul because Albert is the uncle of Ruth and Ruth is the is the sister of Paul</th>\n",
       "      <th>Paul is the spouse of Linda because Linda is the spouse of Paul</th>\n",
       "      <th>Paul is the spouse of Linda because Bob is the child of Paul and Linda is the parent of Bob</th>\n",
       "      <th>...</th>\n",
       "      <th>Mary is the parent of Paul because Mary is the child of Owen and Owen is the grandparent of Paul</th>\n",
       "      <th>Mary is the parent of Paul because James is the parent of Paul and James is the spouse of Mary</th>\n",
       "      <th>Mary is the parent of Paul because Ruth is the sister of Paul and Mary is the parent of Ruth</th>\n",
       "      <th>Mary is the parent of Paul because Milly is the aunt of Paul and Milly is the sister of Mary</th>\n",
       "      <th>Mary is the parent of Paul because Mike is the brother of Paul and Mike is the child of Mary</th>\n",
       "      <th>Mary is the parent of Paul because Theresa is the grandparent of Paul and Theresa is the parent of Mary</th>\n",
       "      <th>Mary is the parent of Paul because Ruth is the sister of Paul and Ruth is the child of Mary</th>\n",
       "      <th>Mary is the parent of Paul because Jack is the uncle of Paul and Jack is the brother of Mary</th>\n",
       "      <th>Mary is the parent of Paul because Paul is the child of Mary</th>\n",
       "      <th>Mary is the parent of Paul because James is the spouse of Mary and Paul is the child of James</th>\n",
       "    </tr>\n",
       "  </thead>\n",
       "  <tbody>\n",
       "    <tr>\n",
       "      <th>0</th>\n",
       "      <td>Yes</td>\n",
       "      <td>Yes</td>\n",
       "      <td>3</td>\n",
       "      <td>5</td>\n",
       "      <td>3</td>\n",
       "      <td>3</td>\n",
       "      <td>5</td>\n",
       "      <td>3</td>\n",
       "      <td>5</td>\n",
       "      <td>4</td>\n",
       "      <td>...</td>\n",
       "      <td>1</td>\n",
       "      <td>4</td>\n",
       "      <td>3</td>\n",
       "      <td>2</td>\n",
       "      <td>3</td>\n",
       "      <td>2</td>\n",
       "      <td>2</td>\n",
       "      <td>2</td>\n",
       "      <td>5</td>\n",
       "      <td>4</td>\n",
       "    </tr>\n",
       "  </tbody>\n",
       "</table>\n",
       "<p>1 rows × 55 columns</p>\n",
       "</div>"
      ],
      "text/plain": [
       "  Do you have a degree in computer science?  \\\n",
       "0                                       Yes   \n",
       "\n",
       "  Have you taken a course in Machine Learning?  \\\n",
       "0                                          Yes   \n",
       "\n",
       "   Joan is the aunt of Paul because Joan is the aunt of Mike and Mike is the is the brother of Paul  \\\n",
       "0                                                  3                                                  \n",
       "\n",
       "   Joan is the aunt of Paul because Joan is the sister of James and James is the is the parent of Paul  \\\n",
       "0                                                  5                                                     \n",
       "\n",
       "   Joan is the aunt of Paul because Joan is the aunt of Ruth and Ruth is the is the sister of Paul  \\\n",
       "0                                                  3                                                 \n",
       "\n",
       "   Albert is the uncle of Paul because Mike is the brother of Paul and Albert is the uncle of Mike  \\\n",
       "0                                                  3                                                 \n",
       "\n",
       "   Albert is the uncle of Paul because James is the parent of Paul and James is the brother of Albert  \\\n",
       "0                                                  5                                                    \n",
       "\n",
       "   Albert is the uncle of Paul because Albert is the uncle of Ruth and Ruth is the is the sister of Paul  \\\n",
       "0                                                  3                                                       \n",
       "\n",
       "   Paul is the spouse of Linda because Linda is the spouse of Paul  \\\n",
       "0                                                  5                 \n",
       "\n",
       "   Paul is the spouse of Linda because Bob is the child of Paul and Linda is the parent of Bob  \\\n",
       "0                                                  4                                             \n",
       "\n",
       "   ...  \\\n",
       "0  ...   \n",
       "\n",
       "   Mary is the parent of Paul because Mary is the child of Owen and Owen is the grandparent of Paul  \\\n",
       "0                                                  1                                                  \n",
       "\n",
       "   Mary is the parent of Paul because James is the parent of Paul and James is the spouse of Mary  \\\n",
       "0                                                  4                                                \n",
       "\n",
       "   Mary is the parent of Paul because Ruth is the sister of Paul and Mary is the parent of Ruth  \\\n",
       "0                                                  3                                              \n",
       "\n",
       "   Mary is the parent of Paul because Milly is the aunt of Paul and Milly is the sister of Mary  \\\n",
       "0                                                  2                                              \n",
       "\n",
       "   Mary is the parent of Paul because Mike is the brother of Paul and Mike is the child of Mary  \\\n",
       "0                                                  3                                              \n",
       "\n",
       "   Mary is the parent of Paul because Theresa is the grandparent of Paul and Theresa is the parent of Mary  \\\n",
       "0                                                  2                                                         \n",
       "\n",
       "   Mary is the parent of Paul because Ruth is the sister of Paul and Ruth is the child of Mary  \\\n",
       "0                                                  2                                             \n",
       "\n",
       "   Mary is the parent of Paul because Jack is the uncle of Paul and Jack is the brother of Mary  \\\n",
       "0                                                  2                                              \n",
       "\n",
       "   Mary is the parent of Paul because Paul is the child of Mary  \\\n",
       "0                                                  5              \n",
       "\n",
       "   Mary is the parent of Paul because James is the spouse of Mary and Paul is the child of James  \n",
       "0                                                  4                                              \n",
       "\n",
       "[1 rows x 55 columns]"
      ]
     },
     "execution_count": 46,
     "metadata": {},
     "output_type": "execute_result"
    }
   ],
   "source": [
    "clean_data"
   ]
  },
  {
   "cell_type": "code",
   "execution_count": null,
   "id": "centered-episode",
   "metadata": {},
   "outputs": [],
   "source": []
  },
  {
   "cell_type": "code",
   "execution_count": null,
   "id": "latest-sapphire",
   "metadata": {},
   "outputs": [],
   "source": []
  }
 ],
 "metadata": {
  "kernelspec": {
   "display_name": "Python 3",
   "language": "python",
   "name": "python3"
  },
  "language_info": {
   "codemirror_mode": {
    "name": "ipython",
    "version": 3
   },
   "file_extension": ".py",
   "mimetype": "text/x-python",
   "name": "python",
   "nbconvert_exporter": "python",
   "pygments_lexer": "ipython3",
   "version": "3.7.9"
  }
 },
 "nbformat": 4,
 "nbformat_minor": 5
}
