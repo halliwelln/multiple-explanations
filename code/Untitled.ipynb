{
 "cells": [
  {
   "cell_type": "code",
   "execution_count": 1,
   "id": "agreed-pressure",
   "metadata": {},
   "outputs": [],
   "source": [
    "%matplotlib inline\n",
    "import matplotlib.pyplot as plt\n",
    "import pandas as pd\n",
    "import os\n",
    "import numpy as np\n",
    "import json\n",
    "import seaborn as sns\n"
   ]
  },
  {
   "cell_type": "code",
   "execution_count": 2,
   "id": "warming-publication",
   "metadata": {},
   "outputs": [],
   "source": [
    "data = pd.read_csv(os.path.join('..','data','experiment_data.csv'))"
   ]
  },
  {
   "cell_type": "code",
   "execution_count": null,
   "id": "educated-bidding",
   "metadata": {},
   "outputs": [],
   "source": []
  },
  {
   "cell_type": "code",
   "execution_count": null,
   "id": "minor-express",
   "metadata": {},
   "outputs": [],
   "source": [
    "best = 'Very intuitive, an explanation I could give or expect'\n",
    "second_best = 'Intuitive'\n",
    "middle = 'Neither intuitive or unintuitive'\n",
    "second_worst = 'Unintuitive'\n",
    "worst = 'Not intuitive at all, not an explanation I would give or expect'\n",
    "\n",
    "data = data.replace(best,5).replace(second_best,4).replace(middle,3).replace(second_worst,2).replace(worst,1)"
   ]
  },
  {
   "cell_type": "code",
   "execution_count": null,
   "id": "alternate-category",
   "metadata": {},
   "outputs": [],
   "source": [
    "filter_questions = data.iloc[:,1:4]\n",
    "filter_questions.columns = ['Native_Language', 'Nationality','Gender']\n",
    "#filter_questions = filter_questions.iloc[4:]"
   ]
  },
  {
   "cell_type": "code",
   "execution_count": null,
   "id": "separated-things",
   "metadata": {},
   "outputs": [],
   "source": []
  },
  {
   "cell_type": "code",
   "execution_count": null,
   "id": "imperial-watts",
   "metadata": {},
   "outputs": [],
   "source": [
    "#filter_questions[filter_questions['Native_Language'] == 'English']\n",
    "filter_questions['Native_Language'] = filter_questions['Native_Language'].apply(lambda x:x.title())\n",
    "filter_questions['Nationality'] = filter_questions['Nationality'].apply(lambda x:x.title())"
   ]
  },
  {
   "cell_type": "code",
   "execution_count": null,
   "id": "african-complement",
   "metadata": {},
   "outputs": [],
   "source": [
    "filter_questions.groupby(by=['Nationality','Native_Language']).agg(['count'])"
   ]
  },
  {
   "cell_type": "code",
   "execution_count": null,
   "id": "interpreted-laser",
   "metadata": {},
   "outputs": [],
   "source": [
    "cols = [col for col in data.columns if \n",
    "        (col != 'Timestamp') and ('Optional' not in col) \n",
    "                and (not col.startswith('Do') and (not col.startswith('What'))\n",
    "                and (not col.startswith('Any')) and (not col.startswith('Unnamed')))]\n",
    "\n",
    "#drop great grandparent\n",
    "cols = cols[4:]"
   ]
  },
  {
   "cell_type": "code",
   "execution_count": null,
   "id": "bound-shopping",
   "metadata": {},
   "outputs": [],
   "source": [
    "clean_data = data.loc[:,cols]"
   ]
  },
  {
   "cell_type": "code",
   "execution_count": null,
   "id": "orange-pizza",
   "metadata": {},
   "outputs": [],
   "source": [
    "all_cols = [\n",
    "    'aunt_aunt_brother',\n",
    "    'aunt_grandparent_child',\n",
    "    'aunt_sister_parent',\n",
    "    'aunt_aunt_sister',\n",
    "    'uncle_brother_uncle',\n",
    "    'uncle_grandparent_child',\n",
    "    'uncle_parent_brother',\n",
    "    'uncle_uncle_sister',\n",
    "    'spouse_spouse',\n",
    "    'spouse_child_parent',\n",
    "    'brother_uncle_child',\n",
    "    'brother_parent_child',\n",
    "    'brother_sister_brother',\n",
    "    'brother_aunt_aunt',\n",
    "    'brother_grandparent_grandparent',\n",
    "    'brother_parent_parent',\n",
    "    'brother_sister_sister',\n",
    "    'brother_uncle_uncle',\n",
    "    'sister_brother',\n",
    "    'sister_brother_sister',\n",
    "    'sister_child_aunt',\n",
    "    'sister_parent_child',\n",
    "    'sister_aunt_aunt',\n",
    "    'sister_brother_brother',\n",
    "    'sister_grandparent_grandparent',\n",
    "    'sister_parent_parent',\n",
    "    'sister_uncle_uncle',\n",
    "    'grandparent_brother_grandparent',\n",
    "    'grandparent_grandparent_spouse',\n",
    "    'grandparent_parent_parent',\n",
    "    'grandparent_sister_grandparent',\n",
    "    'grandparent_aunt_child',\n",
    "    'grandparent_parent_child',\n",
    "    'grandparent_uncle_child',\n",
    "    'grandparent_child_child',\n",
    "    'child_child_sister',\n",
    "    'child_brother_uncle',\n",
    "    'child_child_brother',\n",
    "    'child_parent_grandparent',\n",
    "    'child_sister_aunt',\n",
    "    'child_spouse_parent',\n",
    "    'child_parent',\n",
    "    'child_aunt_brother',\n",
    "    'child_brother_parent',\n",
    "    'child_grandparent_child',\n",
    "    'child_sister_parent',\n",
    "    'parent_brother_parent',\n",
    "    'parent_child_grandparent',\n",
    "    'parent_parent_spouse',\n",
    "    'parent_sister_parent',\n",
    "    'parent_aunt_sister',\n",
    "    'parent_brother_child',\n",
    "    'parent_grandparent_parent',\n",
    "    'parent_sister_child',\n",
    "    'parent_uncle_brother',\n",
    "    'parent_child',\n",
    "    'parent_spouse_child'\n",
    "]"
   ]
  },
  {
   "cell_type": "code",
   "execution_count": null,
   "id": "periodic-amsterdam",
   "metadata": {},
   "outputs": [],
   "source": [
    "#dict((clean_data/5).mean(axis=0))\n"
   ]
  },
  {
   "cell_type": "code",
   "execution_count": null,
   "id": "naval-manor",
   "metadata": {},
   "outputs": [],
   "source": [
    "clean_data.columns = all_cols\n",
    "values = (clean_data).mean(axis=0)\n"
   ]
  },
  {
   "cell_type": "code",
   "execution_count": null,
   "id": "incredible-wayne",
   "metadata": {},
   "outputs": [],
   "source": [
    "#full = pd.concat([filter_questions,clean_data],axis=1)\n"
   ]
  },
  {
   "cell_type": "code",
   "execution_count": null,
   "id": "portable-olive",
   "metadata": {},
   "outputs": [],
   "source": [
    "#full.groupby(by=['Nationality','Native_Language']).agg(['mean'])\n"
   ]
  },
  {
   "cell_type": "code",
   "execution_count": null,
   "id": "revised-hybrid",
   "metadata": {},
   "outputs": [],
   "source": []
  },
  {
   "cell_type": "code",
   "execution_count": null,
   "id": "outer-patrick",
   "metadata": {},
   "outputs": [],
   "source": [
    "predicate_weights = dict((clean_data/5).mean(axis=0))\n"
   ]
  },
  {
   "cell_type": "code",
   "execution_count": null,
   "id": "composed-isaac",
   "metadata": {},
   "outputs": [],
   "source": [
    "with open(os.path.join('..','data','predicate_weights.json'),'w') as f:\n",
    "    json.dump(predicate_weights,f)\n",
    "    "
   ]
  },
  {
   "cell_type": "code",
   "execution_count": null,
   "id": "pressing-russian",
   "metadata": {},
   "outputs": [],
   "source": [
    "#clean_data.describe()\n"
   ]
  },
  {
   "cell_type": "code",
   "execution_count": null,
   "id": "ancient-voice",
   "metadata": {},
   "outputs": [],
   "source": [
    "replace_dict = {'Français':'French','Française':'French'}\n",
    "\n",
    "filter_questions = filter_questions.replace(replace_dict)\n"
   ]
  },
  {
   "cell_type": "code",
   "execution_count": null,
   "id": "empirical-judges",
   "metadata": {},
   "outputs": [],
   "source": []
  },
  {
   "cell_type": "code",
   "execution_count": null,
   "id": "electronic-columbia",
   "metadata": {},
   "outputs": [],
   "source": [
    "# from scipy.stats import spearmanr\n",
    "\n",
    "# rho, _ = spearmanr(clean_data[filter_questions['Native_Language']=='French'].mean(axis=0),\n",
    "#                   clean_data[filter_questions['Native_Language']=='English'].mean(axis=0))\n",
    "\n",
    "# print(rho)\n"
   ]
  },
  {
   "cell_type": "code",
   "execution_count": null,
   "id": "subsequent-rugby",
   "metadata": {},
   "outputs": [],
   "source": [
    "from scipy.stats import mannwhitneyu\n",
    "\n",
    "stat, p = mannwhitneyu(clean_data[filter_questions['Native_Language']=='French'].mean(axis=0),\n",
    "                       clean_data[filter_questions['Native_Language']=='English'].mean(axis=0))\n",
    "\n",
    "print('stat=%.3f, p=%.3f' % (stat, p))\n",
    "if p > 0.05:\n",
    "    print('Probably the same distribution')\n",
    "else:\n",
    "    print('Probably different distributions')\n",
    "    "
   ]
  },
  {
   "cell_type": "code",
   "execution_count": null,
   "id": "suburban-solution",
   "metadata": {},
   "outputs": [],
   "source": [
    "from scipy.stats import ttest_ind\n",
    "\n",
    "stat, p = ttest_ind(clean_data[filter_questions['Native_Language']=='French'].mean(axis=0),\n",
    "                       clean_data[filter_questions['Native_Language']=='English'].mean(axis=0))\n",
    "print('stat=%.3f, p=%.3f' % (stat, p))\n",
    "if p > 0.05:\n",
    "    print('Probably the same distribution')\n",
    "else:\n",
    "    print('Probably different distributions')\n",
    "    "
   ]
  },
  {
   "cell_type": "code",
   "execution_count": null,
   "id": "million-forest",
   "metadata": {},
   "outputs": [],
   "source": [
    "def bar_plot(values):\n",
    "    \n",
    "    std_error = np.std(values, ddof=1) / np.sqrt(len(values))\n",
    "    \n",
    "    ticks = np.arange(len(values))\n",
    "    \n",
    "    explanations = []\n",
    "\n",
    "    for i in values.index:\n",
    "\n",
    "        split_str = i.split('_')\n",
    "\n",
    "        relation = split_str[0]\n",
    "        \n",
    "        explanations.append('_'.join(split_str[1:]))\n",
    "\n",
    "    fig, ax = plt.subplots(figsize=(10,4))\n",
    "\n",
    "    ax.bar(x=ticks, \n",
    "           height=values,\n",
    "           yerr=std_error,\n",
    "          capsize=4)\n",
    "    \n",
    "    ax.set_xticks(ticks=ticks)\n",
    "    ax.set_xticklabels(labels=explanations,rotation = (45), fontsize = 10)\n",
    "    \n",
    "    ax.set_title(relation.title())\n",
    "    plt.savefig(os.path.join('..','plots',f\"{relation}.pdf\"),bbox_inches='tight')\n",
    "    \n",
    "    "
   ]
  },
  {
   "cell_type": "code",
   "execution_count": null,
   "id": "expired-delivery",
   "metadata": {},
   "outputs": [],
   "source": [
    "bar_plot(values[0:4]) \n"
   ]
  },
  {
   "cell_type": "code",
   "execution_count": null,
   "id": "casual-respect",
   "metadata": {},
   "outputs": [],
   "source": [
    "bar_plot(values[4:8])\n"
   ]
  },
  {
   "cell_type": "code",
   "execution_count": null,
   "id": "threatened-nirvana",
   "metadata": {},
   "outputs": [],
   "source": [
    "bar_plot(values[8:10])\n"
   ]
  },
  {
   "cell_type": "code",
   "execution_count": null,
   "id": "pregnant-huntington",
   "metadata": {},
   "outputs": [],
   "source": [
    "bar_plot(values[10:18])\n"
   ]
  },
  {
   "cell_type": "code",
   "execution_count": null,
   "id": "elder-immigration",
   "metadata": {},
   "outputs": [],
   "source": [
    "bar_plot(values[18:27])\n"
   ]
  },
  {
   "cell_type": "code",
   "execution_count": null,
   "id": "rotary-spending",
   "metadata": {},
   "outputs": [],
   "source": [
    "bar_plot(values[27:35])\n"
   ]
  },
  {
   "cell_type": "code",
   "execution_count": null,
   "id": "supreme-software",
   "metadata": {},
   "outputs": [],
   "source": [
    "bar_plot(values[35:46])\n"
   ]
  },
  {
   "cell_type": "code",
   "execution_count": null,
   "id": "going-chain",
   "metadata": {},
   "outputs": [],
   "source": [
    "bar_plot(values[46:])\n"
   ]
  },
  {
   "cell_type": "code",
   "execution_count": null,
   "id": "false-struggle",
   "metadata": {},
   "outputs": [],
   "source": []
  },
  {
   "cell_type": "code",
   "execution_count": 3,
   "id": "veterinary-speed",
   "metadata": {},
   "outputs": [],
   "source": [
    "import utils\n"
   ]
  },
  {
   "cell_type": "code",
   "execution_count": null,
   "id": "opponent-recipient",
   "metadata": {},
   "outputs": [],
   "source": []
  },
  {
   "cell_type": "code",
   "execution_count": 4,
   "id": "acting-measure",
   "metadata": {},
   "outputs": [],
   "source": [
    "DATASET = 'paul_dataset'\n",
    "RULE = 'spouse'\n"
   ]
  },
  {
   "cell_type": "code",
   "execution_count": 5,
   "id": "mysterious-philip",
   "metadata": {},
   "outputs": [],
   "source": [
    "data = np.load(os.path.join('..','data',DATASET+'.npz'))\n",
    "\n",
    "triples,traces,weights,entities,relations = utils.get_data(data,RULE)\n"
   ]
  },
  {
   "cell_type": "code",
   "execution_count": 6,
   "id": "entitled-welsh",
   "metadata": {},
   "outputs": [],
   "source": [
    "NUM_ENTITIES = len(entities)\n",
    "NUM_RELATIONS = len(relations)\n",
    "\n",
    "ent2idx = dict(zip(entities, range(NUM_ENTITIES)))\n",
    "rel2idx = dict(zip(relations, range(NUM_RELATIONS)))\n",
    "\n",
    "idx2ent = dict(zip(range(NUM_ENTITIES),entities))\n",
    "idx2rel = dict(zip(range(NUM_RELATIONS),relations))\n"
   ]
  },
  {
   "cell_type": "code",
   "execution_count": 7,
   "id": "ranging-surname",
   "metadata": {},
   "outputs": [],
   "source": [
    "triples2idx = utils.array2idx(triples,ent2idx,rel2idx)\n",
    "traces2idx = utils.array2idx(traces,ent2idx,rel2idx)\n"
   ]
  },
  {
   "cell_type": "code",
   "execution_count": null,
   "id": "cardiac-reflection",
   "metadata": {},
   "outputs": [],
   "source": [
    "all_traces = np.unique(np.concatenate([triples2idx,traces2idx.reshape(-1,3)],axis=0),axis=0)\n"
   ]
  },
  {
   "cell_type": "code",
   "execution_count": 8,
   "id": "charged-substance",
   "metadata": {},
   "outputs": [],
   "source": [
    "relevance_scores = utils.get_relevance_scores(\n",
    "    traces2idx,\n",
    "    weights,\n",
    "    ent2idx['UNK_ENT'],\n",
    "    rel2idx['UNK_REL']\n",
    ")\n"
   ]
  },
  {
   "cell_type": "code",
   "execution_count": null,
   "id": "burning-philippines",
   "metadata": {},
   "outputs": [],
   "source": [
    "# flatten_traces = np.unique(traces.reshape(-1,3),axis=0)\n",
    "# for i in range(len(flatten_traces)):\n",
    "    \n",
    "#     is_duplicate = (flatten_traces[i] == flatten_traces).all(axis=1).sum()\n",
    "    \n",
    "#     if is_duplicate >= 2:\n",
    "#         print(i)"
   ]
  },
  {
   "cell_type": "code",
   "execution_count": null,
   "id": "virtual-omaha",
   "metadata": {},
   "outputs": [],
   "source": [
    "pred_exp = np.array([[3,1,9], [3,1,1]])\n"
   ]
  },
  {
   "cell_type": "code",
   "execution_count": null,
   "id": "martial-tomorrow",
   "metadata": {},
   "outputs": [],
   "source": [
    "relevance_scores[str(pred_exp[1])]['1_2'] = .4\n"
   ]
  },
  {
   "cell_type": "code",
   "execution_count": 50,
   "id": "latest-institute",
   "metadata": {},
   "outputs": [],
   "source": [
    "unk_ent_id = ent2idx['UNK_ENT']\n",
    "unk_rel_id = rel2idx['UNK_REL']\n"
   ]
  },
  {
   "cell_type": "code",
   "execution_count": 51,
   "id": "incomplete-deviation",
   "metadata": {},
   "outputs": [],
   "source": [
    "true_exp = utils.remove_padding_np(\n",
    "    traces2idx[3],\n",
    "    unk_ent_id,\n",
    "    unk_rel_id)\n"
   ]
  },
  {
   "cell_type": "code",
   "execution_count": null,
   "id": "modified-marketing",
   "metadata": {},
   "outputs": [],
   "source": []
  },
  {
   "cell_type": "code",
   "execution_count": null,
   "id": "sacred-plenty",
   "metadata": {},
   "outputs": [],
   "source": []
  },
  {
   "cell_type": "code",
   "execution_count": 47,
   "id": "brown-payroll",
   "metadata": {},
   "outputs": [],
   "source": []
  },
  {
   "cell_type": "code",
   "execution_count": 65,
   "id": "equal-tuition",
   "metadata": {},
   "outputs": [],
   "source": []
  },
  {
   "cell_type": "code",
   "execution_count": null,
   "id": "analyzed-dollar",
   "metadata": {},
   "outputs": [],
   "source": []
  },
  {
   "cell_type": "code",
   "execution_count": 90,
   "id": "computational-healthcare",
   "metadata": {},
   "outputs": [],
   "source": [
    "gnn_data = np.load(\n",
    "    os.path.join('..','data','preds',DATASET,\n",
    "        'gnn_explainer_'+DATASET+'_'+RULE+'_preds.npz'),allow_pickle=True)\n"
   ]
  },
  {
   "cell_type": "code",
   "execution_count": 96,
   "id": "electric-knowing",
   "metadata": {},
   "outputs": [
    {
     "name": "stdout",
     "output_type": "stream",
     "text": [
      "(6, 3)\n",
      "(6, 3)\n",
      "(22, 3)\n",
      "(6, 3)\n",
      "(6, 3)\n",
      "(6, 3)\n",
      "(22, 3)\n",
      "(6, 3)\n"
     ]
    }
   ],
   "source": [
    "for pred in gnn_data['preds']:\n",
    "    print(pred.shape)\n",
    "    "
   ]
  },
  {
   "cell_type": "code",
   "execution_count": 97,
   "id": "healthy-henry",
   "metadata": {},
   "outputs": [
    {
     "data": {
      "text/plain": [
       "array([array([['<http://example.org/data#FatherPaul>', 'child',\n",
       "               '<http://example.org/data#SisterPaul>'],\n",
       "              ['<http://example.org/data#MotherPaul>', 'child',\n",
       "               '<http://example.org/data#SisterPaul>'],\n",
       "              ['<http://example.org/data#SisterPaul>', 'parent',\n",
       "               '<http://example.org/data#FatherPaul>'],\n",
       "              ['<http://example.org/data#SisterPaul>', 'parent',\n",
       "               '<http://example.org/data#MotherPaul>'],\n",
       "              ['<http://example.org/data#BrotherInLawPaul>', 'spouse',\n",
       "               '<http://example.org/data#SisterPaul>'],\n",
       "              ['<http://example.org/data#SisterPaul>', 'spouse',\n",
       "               '<http://example.org/data#BrotherInLawPaul>']], dtype='<U42'),\n",
       "       array([['<http://example.org/data#FatherPaul>', 'child',\n",
       "               '<http://example.org/data#BrotherPaul>'],\n",
       "              ['<http://example.org/data#MotherPaul>', 'child',\n",
       "               '<http://example.org/data#BrotherPaul>'],\n",
       "              ['<http://example.org/data#BrotherPaul>', 'parent',\n",
       "               '<http://example.org/data#FatherPaul>'],\n",
       "              ['<http://example.org/data#BrotherPaul>', 'parent',\n",
       "               '<http://example.org/data#MotherPaul>'],\n",
       "              ['<http://example.org/data#BrotherPaul>', 'spouse',\n",
       "               '<http://example.org/data#SisterInLawPaul>'],\n",
       "              ['<http://example.org/data#SisterInLawPaul>', 'spouse',\n",
       "               '<http://example.org/data#BrotherPaul>']], dtype='<U41'),\n",
       "       array([['<http://example.org/data#FatherPaul>', 'child',\n",
       "               '<http://example.org/data#BrotherPaul>'],\n",
       "              ['<http://example.org/data#FatherPaul>', 'child',\n",
       "               '<http://example.org/data#Paul>'],\n",
       "              ['<http://example.org/data#FatherPaul>', 'child',\n",
       "               '<http://example.org/data#SisterPaul>'],\n",
       "              ['<http://example.org/data#GrandFatherPaul1>', 'child',\n",
       "               '<http://example.org/data#FatherPaul>'],\n",
       "              ['<http://example.org/data#GrandFatherPaul2>', 'child',\n",
       "               '<http://example.org/data#MotherPaul>'],\n",
       "              ['<http://example.org/data#GrandMotherPaul1>', 'child',\n",
       "               '<http://example.org/data#FatherPaul>'],\n",
       "              ['<http://example.org/data#GrandMotherPaul2>', 'child',\n",
       "               '<http://example.org/data#MotherPaul>'],\n",
       "              ['<http://example.org/data#MotherPaul>', 'child',\n",
       "               '<http://example.org/data#BrotherPaul>'],\n",
       "              ['<http://example.org/data#MotherPaul>', 'child',\n",
       "               '<http://example.org/data#Paul>'],\n",
       "              ['<http://example.org/data#MotherPaul>', 'child',\n",
       "               '<http://example.org/data#SisterPaul>'],\n",
       "              ['<http://example.org/data#BrotherPaul>', 'parent',\n",
       "               '<http://example.org/data#FatherPaul>'],\n",
       "              ['<http://example.org/data#BrotherPaul>', 'parent',\n",
       "               '<http://example.org/data#MotherPaul>'],\n",
       "              ['<http://example.org/data#FatherPaul>', 'parent',\n",
       "               '<http://example.org/data#GrandFatherPaul1>'],\n",
       "              ['<http://example.org/data#FatherPaul>', 'parent',\n",
       "               '<http://example.org/data#GrandMotherPaul1>'],\n",
       "              ['<http://example.org/data#MotherPaul>', 'parent',\n",
       "               '<http://example.org/data#GrandFatherPaul2>'],\n",
       "              ['<http://example.org/data#MotherPaul>', 'parent',\n",
       "               '<http://example.org/data#GrandMotherPaul2>'],\n",
       "              ['<http://example.org/data#Paul>', 'parent',\n",
       "               '<http://example.org/data#FatherPaul>'],\n",
       "              ['<http://example.org/data#Paul>', 'parent',\n",
       "               '<http://example.org/data#MotherPaul>'],\n",
       "              ['<http://example.org/data#SisterPaul>', 'parent',\n",
       "               '<http://example.org/data#FatherPaul>'],\n",
       "              ['<http://example.org/data#SisterPaul>', 'parent',\n",
       "               '<http://example.org/data#MotherPaul>'],\n",
       "              ['<http://example.org/data#FatherPaul>', 'spouse',\n",
       "               '<http://example.org/data#MotherPaul>'],\n",
       "              ['<http://example.org/data#MotherPaul>', 'spouse',\n",
       "               '<http://example.org/data#FatherPaul>']], dtype='<U42'),\n",
       "       array([['<http://example.org/data#GrandFatherPaul1>', 'child',\n",
       "               '<http://example.org/data#FatherPaul>'],\n",
       "              ['<http://example.org/data#GrandMotherPaul1>', 'child',\n",
       "               '<http://example.org/data#FatherPaul>'],\n",
       "              ['<http://example.org/data#FatherPaul>', 'parent',\n",
       "               '<http://example.org/data#GrandFatherPaul1>'],\n",
       "              ['<http://example.org/data#FatherPaul>', 'parent',\n",
       "               '<http://example.org/data#GrandMotherPaul1>'],\n",
       "              ['<http://example.org/data#GrandFatherPaul1>', 'spouse',\n",
       "               '<http://example.org/data#GrandMotherPaul1>'],\n",
       "              ['<http://example.org/data#GrandMotherPaul1>', 'spouse',\n",
       "               '<http://example.org/data#GrandFatherPaul1>']], dtype='<U42'),\n",
       "       array([['<http://example.org/data#GrandFatherPaul1>', 'child',\n",
       "               '<http://example.org/data#FatherPaul>'],\n",
       "              ['<http://example.org/data#GrandMotherPaul1>', 'child',\n",
       "               '<http://example.org/data#FatherPaul>'],\n",
       "              ['<http://example.org/data#FatherPaul>', 'parent',\n",
       "               '<http://example.org/data#GrandFatherPaul1>'],\n",
       "              ['<http://example.org/data#FatherPaul>', 'parent',\n",
       "               '<http://example.org/data#GrandMotherPaul1>'],\n",
       "              ['<http://example.org/data#GrandFatherPaul1>', 'spouse',\n",
       "               '<http://example.org/data#GrandMotherPaul1>'],\n",
       "              ['<http://example.org/data#GrandMotherPaul1>', 'spouse',\n",
       "               '<http://example.org/data#GrandFatherPaul1>']], dtype='<U42'),\n",
       "       array([['<http://example.org/data#GrandFatherPaul2>', 'child',\n",
       "               '<http://example.org/data#MotherPaul>'],\n",
       "              ['<http://example.org/data#GrandMotherPaul2>', 'child',\n",
       "               '<http://example.org/data#MotherPaul>'],\n",
       "              ['<http://example.org/data#MotherPaul>', 'parent',\n",
       "               '<http://example.org/data#GrandFatherPaul2>'],\n",
       "              ['<http://example.org/data#MotherPaul>', 'parent',\n",
       "               '<http://example.org/data#GrandMotherPaul2>'],\n",
       "              ['<http://example.org/data#GrandFatherPaul2>', 'spouse',\n",
       "               '<http://example.org/data#GrandMotherPaul2>'],\n",
       "              ['<http://example.org/data#GrandMotherPaul2>', 'spouse',\n",
       "               '<http://example.org/data#GrandFatherPaul2>']], dtype='<U42'),\n",
       "       array([['<http://example.org/data#FatherPaul>', 'child',\n",
       "               '<http://example.org/data#BrotherPaul>'],\n",
       "              ['<http://example.org/data#FatherPaul>', 'child',\n",
       "               '<http://example.org/data#Paul>'],\n",
       "              ['<http://example.org/data#FatherPaul>', 'child',\n",
       "               '<http://example.org/data#SisterPaul>'],\n",
       "              ['<http://example.org/data#GrandFatherPaul1>', 'child',\n",
       "               '<http://example.org/data#FatherPaul>'],\n",
       "              ['<http://example.org/data#GrandFatherPaul2>', 'child',\n",
       "               '<http://example.org/data#MotherPaul>'],\n",
       "              ['<http://example.org/data#GrandMotherPaul1>', 'child',\n",
       "               '<http://example.org/data#FatherPaul>'],\n",
       "              ['<http://example.org/data#GrandMotherPaul2>', 'child',\n",
       "               '<http://example.org/data#MotherPaul>'],\n",
       "              ['<http://example.org/data#MotherPaul>', 'child',\n",
       "               '<http://example.org/data#BrotherPaul>'],\n",
       "              ['<http://example.org/data#MotherPaul>', 'child',\n",
       "               '<http://example.org/data#Paul>'],\n",
       "              ['<http://example.org/data#MotherPaul>', 'child',\n",
       "               '<http://example.org/data#SisterPaul>'],\n",
       "              ['<http://example.org/data#BrotherPaul>', 'parent',\n",
       "               '<http://example.org/data#FatherPaul>'],\n",
       "              ['<http://example.org/data#BrotherPaul>', 'parent',\n",
       "               '<http://example.org/data#MotherPaul>'],\n",
       "              ['<http://example.org/data#FatherPaul>', 'parent',\n",
       "               '<http://example.org/data#GrandFatherPaul1>'],\n",
       "              ['<http://example.org/data#FatherPaul>', 'parent',\n",
       "               '<http://example.org/data#GrandMotherPaul1>'],\n",
       "              ['<http://example.org/data#MotherPaul>', 'parent',\n",
       "               '<http://example.org/data#GrandFatherPaul2>'],\n",
       "              ['<http://example.org/data#MotherPaul>', 'parent',\n",
       "               '<http://example.org/data#GrandMotherPaul2>'],\n",
       "              ['<http://example.org/data#Paul>', 'parent',\n",
       "               '<http://example.org/data#FatherPaul>'],\n",
       "              ['<http://example.org/data#Paul>', 'parent',\n",
       "               '<http://example.org/data#MotherPaul>'],\n",
       "              ['<http://example.org/data#SisterPaul>', 'parent',\n",
       "               '<http://example.org/data#FatherPaul>'],\n",
       "              ['<http://example.org/data#SisterPaul>', 'parent',\n",
       "               '<http://example.org/data#MotherPaul>'],\n",
       "              ['<http://example.org/data#FatherPaul>', 'spouse',\n",
       "               '<http://example.org/data#MotherPaul>'],\n",
       "              ['<http://example.org/data#MotherPaul>', 'spouse',\n",
       "               '<http://example.org/data#FatherPaul>']], dtype='<U42'),\n",
       "       array([['<http://example.org/data#FatherPaul>', 'child',\n",
       "               '<http://example.org/data#SisterPaul>'],\n",
       "              ['<http://example.org/data#MotherPaul>', 'child',\n",
       "               '<http://example.org/data#SisterPaul>'],\n",
       "              ['<http://example.org/data#SisterPaul>', 'parent',\n",
       "               '<http://example.org/data#FatherPaul>'],\n",
       "              ['<http://example.org/data#SisterPaul>', 'parent',\n",
       "               '<http://example.org/data#MotherPaul>'],\n",
       "              ['<http://example.org/data#BrotherInLawPaul>', 'spouse',\n",
       "               '<http://example.org/data#SisterPaul>'],\n",
       "              ['<http://example.org/data#SisterPaul>', 'spouse',\n",
       "               '<http://example.org/data#BrotherInLawPaul>']], dtype='<U42')],\n",
       "      dtype=object)"
      ]
     },
     "execution_count": 97,
     "metadata": {},
     "output_type": "execute_result"
    }
   ],
   "source": [
    "gnn_data['preds']\n"
   ]
  },
  {
   "cell_type": "code",
   "execution_count": null,
   "id": "spanish-reminder",
   "metadata": {},
   "outputs": [],
   "source": []
  },
  {
   "cell_type": "code",
   "execution_count": null,
   "id": "rough-hybrid",
   "metadata": {},
   "outputs": [],
   "source": [
    "precision = get_g_precision(pred_exp,true_exp,relevance_scores)\n",
    "precision\n"
   ]
  },
  {
   "cell_type": "code",
   "execution_count": null,
   "id": "cooked-remove",
   "metadata": {},
   "outputs": [],
   "source": [
    "recall = get_g_recall(pred_exp,true_exp,relevance_scores)\n",
    "recall\n"
   ]
  },
  {
   "cell_type": "code",
   "execution_count": null,
   "id": "occupational-posting",
   "metadata": {},
   "outputs": [],
   "source": [
    "utils.f1(precision,recall)\n"
   ]
  },
  {
   "cell_type": "code",
   "execution_count": null,
   "id": "reflected-martial",
   "metadata": {},
   "outputs": [],
   "source": []
  },
  {
   "cell_type": "code",
   "execution_count": null,
   "id": "considered-cholesterol",
   "metadata": {},
   "outputs": [],
   "source": [
    "def get_g_precision(pred_exp,true_exp,relevance_scores):\n",
    "    \n",
    "    n = len(pred_exp)\n",
    "\n",
    "    if np.issubdtype(true_exp.dtype, np.integer):\n",
    "        relation_key = '_'.join([str(i) for i in true_exp[:,1]])\n",
    "    else:\n",
    "        relation_key = '_'.join(true_exp[:,1])\n",
    "        \n",
    "    g_precision = 0.0\n",
    "    \n",
    "    for i in range(n):\n",
    "        \n",
    "        triple = pred_exp[i]\n",
    "        \n",
    "        rel_score = relevance_scores.get(str(triple),0).get(relation_key,0)\n",
    "        #rel_score = relevance_scores[str(triple)][relation_key]\n",
    "        \n",
    "        g_precision += rel_score\n",
    "        \n",
    "    return g_precision / n\n",
    "\n",
    "def get_g_recall(pred_exp,true_exp,relevance_scores):\n",
    "    \n",
    "    pred_relevance = 0.0\n",
    "    total_relevance = 0.0\n",
    "    \n",
    "    for d in relevance_scores.values():\n",
    "        total_relevance += sum(d.values())\n",
    "    \n",
    "    if np.issubdtype(true_exp.dtype, np.integer):\n",
    "        relation_key = '_'.join([str(i) for i in true_exp[:,1]])\n",
    "    else:\n",
    "        relation_key = '_'.join(true_exp[:,1])\n",
    "    \n",
    "    for i in range(len(pred_exp)):\n",
    "        \n",
    "        triple = pred_exp[i]\n",
    "        \n",
    "        rel_score = relevance_scores.get(str(triple),0).get(relation_key,0)\n",
    "        #rel_score = relevance_scores[str(triple)][relation_key]\n",
    "        \n",
    "        pred_relevance += rel_score\n",
    "        \n",
    "    return pred_relevance / total_relevance"
   ]
  },
  {
   "cell_type": "code",
   "execution_count": null,
   "id": "stylish-terminology",
   "metadata": {},
   "outputs": [],
   "source": []
  },
  {
   "cell_type": "code",
   "execution_count": null,
   "id": "stretch-luxembourg",
   "metadata": {},
   "outputs": [],
   "source": []
  },
  {
   "cell_type": "code",
   "execution_count": null,
   "id": "amber-roots",
   "metadata": {},
   "outputs": [],
   "source": []
  }
 ],
 "metadata": {
  "kernelspec": {
   "display_name": "Python 3",
   "language": "python",
   "name": "python3"
  },
  "language_info": {
   "codemirror_mode": {
    "name": "ipython",
    "version": 3
   },
   "file_extension": ".py",
   "mimetype": "text/x-python",
   "name": "python",
   "nbconvert_exporter": "python",
   "pygments_lexer": "ipython3",
   "version": "3.7.9"
  }
 },
 "nbformat": 4,
 "nbformat_minor": 5
}
