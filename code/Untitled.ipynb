{
 "cells": [
  {
   "cell_type": "code",
   "execution_count": 1,
   "id": "victorian-musician",
   "metadata": {},
   "outputs": [],
   "source": [
    "%matplotlib inline\n",
    "import matplotlib.pyplot as plt\n",
    "import pandas as pd\n",
    "import os\n",
    "import numpy as np\n",
    "import json\n",
    "import seaborn as sns"
   ]
  },
  {
   "cell_type": "code",
   "execution_count": 2,
   "id": "angry-shadow",
   "metadata": {},
   "outputs": [],
   "source": [
    "data = pd.read_csv(os.path.join('..','data','experiment_data.csv'))"
   ]
  },
  {
   "cell_type": "code",
   "execution_count": null,
   "id": "royal-klein",
   "metadata": {},
   "outputs": [],
   "source": []
  },
  {
   "cell_type": "code",
   "execution_count": 3,
   "id": "finnish-rider",
   "metadata": {},
   "outputs": [],
   "source": [
    "best = 'Very intuitive, an explanation I could give or expect'\n",
    "second_best = 'Intuitive'\n",
    "middle = 'Neither intuitive or unintuitive'\n",
    "second_worst = 'Unintuitive'\n",
    "worst = 'Not intuitive at all, not an explanation I would give or expect'\n",
    "\n",
    "data = data.replace(best,4).replace(second_best,3).replace(middle,2).replace(second_worst,1).replace(worst,0)"
   ]
  },
  {
   "cell_type": "code",
   "execution_count": 133,
   "id": "eligible-incident",
   "metadata": {},
   "outputs": [],
   "source": [
    "filter_questions = data.iloc[:,1:4]\n",
    "filter_questions.columns = ['Native_Language', 'Nationality','Gender']\n",
    "filter_questions = filter_questions.iloc[4:]"
   ]
  },
  {
   "cell_type": "code",
   "execution_count": null,
   "id": "spare-buffalo",
   "metadata": {},
   "outputs": [],
   "source": []
  },
  {
   "cell_type": "code",
   "execution_count": 136,
   "id": "french-ribbon",
   "metadata": {},
   "outputs": [],
   "source": [
    "#filter_questions['Native_Language'] = filter_questions['Native_Language'].apply(lambda x:x.title())\n",
    "# filter_questions['Nationality'] = filter_questions['Nationality'].apply(lambda x:x.title())\n",
    "# filter_questions.groupby(by=['Nationality']).agg(['count'])"
   ]
  },
  {
   "cell_type": "code",
   "execution_count": null,
   "id": "intermediate-security",
   "metadata": {},
   "outputs": [],
   "source": []
  },
  {
   "cell_type": "code",
   "execution_count": 6,
   "id": "gross-india",
   "metadata": {},
   "outputs": [],
   "source": [
    "cols = [col for col in data.columns if \n",
    "        (col != 'Timestamp') and ('Optional' not in col)\n",
    "                and (not col.startswith('Do') and (not col.startswith('What'))\n",
    "                and (not col.startswith('Any')) and (not col.startswith('Unnamed')))]\n",
    "\n",
    "#drop great grandparent\n",
    "cols = cols[4:]"
   ]
  },
  {
   "cell_type": "code",
   "execution_count": 7,
   "id": "announced-korean",
   "metadata": {},
   "outputs": [],
   "source": [
    "clean_data = data.loc[:,cols]"
   ]
  },
  {
   "cell_type": "code",
   "execution_count": 8,
   "id": "governmental-princess",
   "metadata": {},
   "outputs": [],
   "source": [
    "all_cols = [\n",
    "    'aunt_aunt_brother',\n",
    "    'aunt_child_grandparent',\n",
    "    'aunt_parent_sister',\n",
    "    'aunt_aunt_sister',\n",
    "    'uncle_brother_uncle',\n",
    "    'uncle_child_grandparent',\n",
    "    'uncle_brother_parent',\n",
    "    'uncle_sister_uncle',\n",
    "    'spouse_spouse',\n",
    "    'spouse_child_parent',\n",
    "    'brother_child_uncle',\n",
    "    'brother_child_parent',\n",
    "    'brother_brother_sister',\n",
    "    'brother_aunt_aunt',\n",
    "    'brother_grandparent_grandparent',\n",
    "    'brother_parent_parent',\n",
    "    'brother_sister_sister',\n",
    "    'brother_uncle_uncle',\n",
    "    'sister_brother',\n",
    "    'sister_brother_sister',\n",
    "    'sister_aunt_child',\n",
    "    'sister_child_parent',\n",
    "    'sister_aunt_aunt',\n",
    "    'sister_brother_brother',\n",
    "    'sister_grandparent_grandparent',\n",
    "    'sister_parent_parent',\n",
    "    'sister_uncle_uncle',\n",
    "    'grandparent_brother_grandparent',\n",
    "    'grandparent_grandparent_spouse',\n",
    "    'grandparent_parent_parent',\n",
    "    'grandparent_grandparent_sister',\n",
    "    'grandparent_aunt_child',\n",
    "    'grandparent_child_parent',\n",
    "    'grandparent_child_uncle',\n",
    "    'grandparent_child_child',\n",
    "    'child_child_sister',\n",
    "    'child_brother_uncle',\n",
    "    'child_brother_child',\n",
    "    'child_grandparent_parent',\n",
    "    'child_aunt_sister',\n",
    "    'child_parent_spouse',\n",
    "    'child_parent',\n",
    "    'child_aunt_brother',\n",
    "    'child_brother_parent',\n",
    "    'child_child_grandparent',\n",
    "    'child_parent_sister',\n",
    "    'parent_brother_parent',\n",
    "    'parent_child_grandparent',\n",
    "    'parent_parent_spouse',\n",
    "    'parent_parent_sister',\n",
    "    'parent_aunt_sister',\n",
    "    'parent_brother_child',\n",
    "    'parent_grandparent_parent',\n",
    "    'parent_child_sister',\n",
    "    'parent_brother_uncle',\n",
    "    'parent_child',\n",
    "    'parent_child_spouse'\n",
    "]"
   ]
  },
  {
   "cell_type": "code",
   "execution_count": 9,
   "id": "quality-depth",
   "metadata": {},
   "outputs": [],
   "source": [
    "clean_data.columns = all_cols"
   ]
  },
  {
   "cell_type": "code",
   "execution_count": null,
   "id": "eleven-contribution",
   "metadata": {},
   "outputs": [],
   "source": []
  },
  {
   "cell_type": "code",
   "execution_count": 10,
   "id": "fatal-notebook",
   "metadata": {},
   "outputs": [],
   "source": [
    "clean_data.insert(18,'spouse_child_child',clean_data['grandparent_child_child'].values)\n",
    "clean_data.insert(27,'brother_sister',clean_data['sister_brother'].values)\n",
    "clean_data.insert(28,'brother_brother_brother',clean_data['sister_brother_brother'].values)\n",
    "clean_data.insert(30,'sister_sister_sister',clean_data['brother_sister_sister'].values)\n",
    "clean_data.insert(60,'child_child_spouse',clean_data['parent_child_spouse'].values)"
   ]
  },
  {
   "cell_type": "code",
   "execution_count": 14,
   "id": "respective-service",
   "metadata": {},
   "outputs": [],
   "source": [
    "no_aunt_uncle_cols = [col for col in clean_data.columns if ('aunt' not in col) and ('uncle' not in col)]"
   ]
  },
  {
   "cell_type": "code",
   "execution_count": 18,
   "id": "extra-magic",
   "metadata": {},
   "outputs": [],
   "source": [
    "no_aunt_uncle_data = clean_data[no_aunt_uncle_cols]"
   ]
  },
  {
   "cell_type": "code",
   "execution_count": 20,
   "id": "antique-frost",
   "metadata": {},
   "outputs": [],
   "source": [
    "values = (no_aunt_uncle_data).mean(axis=0)"
   ]
  },
  {
   "cell_type": "code",
   "execution_count": 21,
   "id": "thousand-colonial",
   "metadata": {},
   "outputs": [],
   "source": [
    "#predicate_weights = dict((clean_data/4).mean(axis=0))\n",
    "def round_quarter(x):\n",
    "    return round(x*4)/4\n",
    "\n",
    "predicate_weights = dict(round_quarter(values/4))"
   ]
  },
  {
   "cell_type": "code",
   "execution_count": 22,
   "id": "ceramic-management",
   "metadata": {},
   "outputs": [],
   "source": [
    "with open(os.path.join('..','data','predicate_weights.json'),'w') as f:\n",
    "    json.dump(predicate_weights,f)    "
   ]
  },
  {
   "cell_type": "code",
   "execution_count": 23,
   "id": "egyptian-phrase",
   "metadata": {},
   "outputs": [],
   "source": [
    "#clean_data.describe()"
   ]
  },
  {
   "cell_type": "code",
   "execution_count": 128,
   "id": "accredited-testing",
   "metadata": {},
   "outputs": [
    {
     "data": {
      "text/plain": [
       "0.75"
      ]
     },
     "execution_count": 128,
     "metadata": {},
     "output_type": "execute_result"
    }
   ],
   "source": [
    "predicate_weights['grandparent_child_child']"
   ]
  },
  {
   "cell_type": "code",
   "execution_count": null,
   "id": "fluid-peeing",
   "metadata": {},
   "outputs": [],
   "source": []
  },
  {
   "cell_type": "code",
   "execution_count": null,
   "id": "relative-savings",
   "metadata": {},
   "outputs": [],
   "source": []
  },
  {
   "cell_type": "code",
   "execution_count": null,
   "id": "celtic-blank",
   "metadata": {},
   "outputs": [],
   "source": []
  },
  {
   "cell_type": "code",
   "execution_count": null,
   "id": "parliamentary-amount",
   "metadata": {},
   "outputs": [],
   "source": []
  },
  {
   "cell_type": "code",
   "execution_count": null,
   "id": "automated-illness",
   "metadata": {},
   "outputs": [],
   "source": [
    "\n",
    "# clean_data.insert(4,'aunt_grandparent_parent',clean_data['child_grandparent_parent'].values)\n",
    "# clean_data.insert(5,'aunt_brother_parent',clean_data['uncle_brother_parent'].values)\n",
    "# clean_data.insert(6,'aunt_sister_uncle',clean_data['uncle_sister_uncle'].values)\n",
    "# clean_data.insert(7,'aunt_brother_uncle',clean_data['uncle_brother_uncle'].values)\n",
    "\n",
    "# clean_data.insert(12,'uncle_aunt_brother',clean_data['aunt_aunt_brother'].values)\n",
    "# clean_data.insert(13,'uncle_aunt_sister',clean_data['aunt_aunt_sister'].values)\n",
    "# clean_data.insert(14,'uncle_grandparent_parent',clean_data['child_grandparent_parent'].values)\n",
    "# clean_data.insert(15,'uncle_parent_sister',clean_data['aunt_parent_sister'].values)\n",
    "\n",
    "\n",
    "# clean_data.insert(27,'brother_sister',clean_data['sister_brother'].values)\n",
    "# clean_data.insert(28,'brother_aunt_child',clean_data['sister_aunt_child'].values)\n",
    "# clean_data.insert(28,'brother_brother_brother',clean_data['sister_brother_brother'].values)\n",
    "\n",
    "# clean_data.insert(30,'sister_sister_sister',clean_data['brother_sister_sister'].values)\n",
    "# clean_data.insert(40,'sister_child_uncle',clean_data['brother_child_uncle'].values)\n",
    "\n",
    "# clean_data.insert(39,'grandparent_parent_uncle',clean_data['grandparent_child_uncle'].values)\n",
    "# clean_data.insert(40,'grandparent_aunt_parent',clean_data['grandparent_aunt_child'].values)\n",
    "\n",
    "# clean_data.insert(62,'child_sister_uncle',clean_data['uncle_sister_uncle'].values)\n",
    "# clean_data.insert(63,'child_child_spouse',clean_data['parent_child_spouse'].values)\n",
    "\n",
    "# clean_data.insert(75,'parent_aunt_brother',clean_data['parent_aunt_sister'].values)\n",
    "# clean_data.insert(76,'parent_sister_uncle',clean_data['parent_brother_uncle'].values)"
   ]
  },
  {
   "cell_type": "code",
   "execution_count": null,
   "id": "tested-virginia",
   "metadata": {},
   "outputs": [],
   "source": [
    "#dict((clean_data/5).mean(axis=0))"
   ]
  },
  {
   "cell_type": "code",
   "execution_count": null,
   "id": "comic-envelope",
   "metadata": {},
   "outputs": [],
   "source": []
  },
  {
   "cell_type": "code",
   "execution_count": null,
   "id": "sticky-husband",
   "metadata": {},
   "outputs": [],
   "source": [
    "#full = pd.concat([filter_questions,clean_data],axis=1)\n",
    "#full.groupby(by=['Nationality','Native_Language']).agg(['mean'])"
   ]
  },
  {
   "cell_type": "code",
   "execution_count": null,
   "id": "lucky-depth",
   "metadata": {},
   "outputs": [],
   "source": []
  },
  {
   "cell_type": "code",
   "execution_count": null,
   "id": "center-terror",
   "metadata": {},
   "outputs": [],
   "source": []
  },
  {
   "cell_type": "code",
   "execution_count": null,
   "id": "honest-kenya",
   "metadata": {},
   "outputs": [],
   "source": []
  },
  {
   "cell_type": "code",
   "execution_count": null,
   "id": "durable-engineer",
   "metadata": {},
   "outputs": [],
   "source": []
  },
  {
   "cell_type": "code",
   "execution_count": null,
   "id": "studied-detective",
   "metadata": {},
   "outputs": [],
   "source": []
  },
  {
   "cell_type": "code",
   "execution_count": null,
   "id": "dying-knight",
   "metadata": {},
   "outputs": [],
   "source": []
  },
  {
   "cell_type": "code",
   "execution_count": null,
   "id": "equipped-coral",
   "metadata": {},
   "outputs": [],
   "source": []
  },
  {
   "cell_type": "code",
   "execution_count": null,
   "id": "indirect-lying",
   "metadata": {},
   "outputs": [],
   "source": []
  },
  {
   "cell_type": "code",
   "execution_count": null,
   "id": "premium-arrow",
   "metadata": {},
   "outputs": [],
   "source": []
  },
  {
   "cell_type": "code",
   "execution_count": null,
   "id": "saved-resource",
   "metadata": {},
   "outputs": [],
   "source": []
  },
  {
   "cell_type": "code",
   "execution_count": null,
   "id": "complicated-chain",
   "metadata": {},
   "outputs": [],
   "source": [
    "#clean_data.iloc[:,:41].describe().T"
   ]
  },
  {
   "cell_type": "code",
   "execution_count": null,
   "id": "basic-trauma",
   "metadata": {},
   "outputs": [],
   "source": [
    "#clean_data.iloc[:,41:].describe().T"
   ]
  },
  {
   "cell_type": "code",
   "execution_count": null,
   "id": "sound-violin",
   "metadata": {},
   "outputs": [],
   "source": []
  },
  {
   "cell_type": "code",
   "execution_count": null,
   "id": "convenient-kansas",
   "metadata": {},
   "outputs": [],
   "source": []
  },
  {
   "cell_type": "code",
   "execution_count": null,
   "id": "colored-jurisdiction",
   "metadata": {},
   "outputs": [],
   "source": [
    "# from scipy.stats import spearmanr\n",
    "\n",
    "# rho, _ = spearmanr(clean_data[filter_questions['Native_Language']=='French'].mean(axis=0),\n",
    "#                   clean_data[filter_questions['Native_Language']=='English'].mean(axis=0))\n",
    "\n",
    "# print(rho)"
   ]
  },
  {
   "cell_type": "code",
   "execution_count": null,
   "id": "painted-neighbor",
   "metadata": {},
   "outputs": [],
   "source": [
    "# from scipy.stats import mannwhitneyu\n",
    "\n",
    "# stat, p = mannwhitneyu(clean_data[filter_questions['Native_Language']=='French'].mean(axis=0),\n",
    "#                        clean_data[filter_questions['Native_Language']=='English'].mean(axis=0))\n",
    "\n",
    "# print('stat=%.3f, p=%.3f' % (stat, p))\n",
    "# if p > 0.05:\n",
    "#     print('Probably the same distribution')\n",
    "# else:\n",
    "#     print('Probably different distributions')"
   ]
  },
  {
   "cell_type": "code",
   "execution_count": null,
   "id": "cooked-employer",
   "metadata": {},
   "outputs": [],
   "source": [
    "# from scipy.stats import ttest_ind\n",
    "\n",
    "# stat, p = ttest_ind(clean_data[filter_questions['Native_Language']=='French'].mean(axis=0),\n",
    "#                        clean_data[filter_questions['Native_Language']=='English'].mean(axis=0))\n",
    "# print('stat=%.3f, p=%.3f' % (stat, p))\n",
    "# if p > 0.05:\n",
    "#     print('Probably the same distribution')\n",
    "# else:\n",
    "#     print('Probably different distributions')"
   ]
  },
  {
   "cell_type": "code",
   "execution_count": 75,
   "id": "approved-angola",
   "metadata": {},
   "outputs": [],
   "source": [
    "def bar_plot(values):\n",
    "    \n",
    "    std_error = np.std(values, ddof=1) / np.sqrt(len(values))\n",
    "    \n",
    "    ticks = np.arange(len(values))\n",
    "    \n",
    "    explanations = []\n",
    "\n",
    "    for i in values.index:\n",
    "\n",
    "        split_str = i.split('_')\n",
    "\n",
    "        relation = split_str[0]\n",
    "        \n",
    "        explanations.append('_'.join(split_str[1:]))\n",
    "\n",
    "    fig, ax = plt.subplots(figsize=(10,4))\n",
    "\n",
    "    ax.bar(x=ticks, \n",
    "           height=values,\n",
    "           yerr=std_error,\n",
    "          capsize=4)\n",
    "    \n",
    "    ax.set_xticks(ticks=ticks)\n",
    "    ax.set_xticklabels(labels=explanations,rotation = (45), fontsize = 10)\n",
    "    \n",
    "    ax.set_title(relation.title())\n",
    "    plt.savefig(os.path.join('..','plots',f\"{relation}.pdf\"),bbox_inches='tight')"
   ]
  },
  {
   "cell_type": "code",
   "execution_count": 76,
   "id": "perfect-server",
   "metadata": {},
   "outputs": [],
   "source": [
    "def get_idx(rule):\n",
    "    return [idx for idx,i in enumerate(values.index) if i.startswith(rule)]\n",
    "\n",
    "# aunt_idx = get_idx('aunt')\n",
    "# bar_plot(values[aunt_idx])\n",
    "# uncle_idx = get_idx('uncle')\n",
    "# bar_plot(values[uncle_idx])"
   ]
  },
  {
   "cell_type": "code",
   "execution_count": null,
   "id": "spanish-ending",
   "metadata": {},
   "outputs": [],
   "source": []
  },
  {
   "cell_type": "code",
   "execution_count": 77,
   "id": "preliminary-parish",
   "metadata": {},
   "outputs": [
    {
     "data": {
      "image/png": "[encoded data removed]",
      "text/plain": [
       "<Figure size 720x288 with 1 Axes>"
      ]
     },
     "metadata": {
      "needs_background": "light"
     },
     "output_type": "display_data"
    }
   ],
   "source": [
    "spouse_idx = get_idx('spouse')\n",
    "bar_plot(values[spouse_idx])"
   ]
  },
  {
   "cell_type": "code",
   "execution_count": 78,
   "id": "stock-emerald",
   "metadata": {},
   "outputs": [
    {
     "data": {
      "image/png": "[encoded data removed]",
      "text/plain": [
       "<Figure size 720x288 with 1 Axes>"
      ]
     },
     "metadata": {
      "needs_background": "light"
     },
     "output_type": "display_data"
    }
   ],
   "source": [
    "brother_idx = get_idx('brother')\n",
    "bar_plot(values[brother_idx])"
   ]
  },
  {
   "cell_type": "code",
   "execution_count": 79,
   "id": "looking-means",
   "metadata": {},
   "outputs": [
    {
     "data": {
      "image/png": "[encoded data removed]",
      "text/plain": [
       "<Figure size 720x288 with 1 Axes>"
      ]
     },
     "metadata": {
      "needs_background": "light"
     },
     "output_type": "display_data"
    }
   ],
   "source": [
    "sister_idx = get_idx('sister')\n",
    "bar_plot(values[sister_idx])"
   ]
  },
  {
   "cell_type": "code",
   "execution_count": 80,
   "id": "assisted-fault",
   "metadata": {},
   "outputs": [
    {
     "data": {
      "image/png": "[encoded data removed]",
      "text/plain": [
       "<Figure size 720x288 with 1 Axes>"
      ]
     },
     "metadata": {
      "needs_background": "light"
     },
     "output_type": "display_data"
    }
   ],
   "source": [
    "grandparent_idx = get_idx('grandparent')\n",
    "bar_plot(values[grandparent_idx])"
   ]
  },
  {
   "cell_type": "code",
   "execution_count": 81,
   "id": "incredible-apache",
   "metadata": {},
   "outputs": [
    {
     "data": {
      "image/png": "[encoded data removed]",
      "text/plain": [
       "<Figure size 720x288 with 1 Axes>"
      ]
     },
     "metadata": {
      "needs_background": "light"
     },
     "output_type": "display_data"
    }
   ],
   "source": [
    "child_idx = get_idx('child')\n",
    "bar_plot(values[child_idx])"
   ]
  },
  {
   "cell_type": "code",
   "execution_count": 82,
   "id": "mexican-piano",
   "metadata": {},
   "outputs": [
    {
     "data": {
      "image/png": "[encoded data removed]",
      "text/plain": [
       "<Figure size 720x288 with 1 Axes>"
      ]
     },
     "metadata": {
      "needs_background": "light"
     },
     "output_type": "display_data"
    }
   ],
   "source": [
    "parent_idx = get_idx('parent')\n",
    "bar_plot(values[parent_idx])"
   ]
  },
  {
   "cell_type": "code",
   "execution_count": null,
   "id": "exterior-reader",
   "metadata": {},
   "outputs": [],
   "source": []
  },
  {
   "cell_type": "code",
   "execution_count": null,
   "id": "subject-solid",
   "metadata": {},
   "outputs": [],
   "source": []
  },
  {
   "cell_type": "code",
   "execution_count": null,
   "id": "adolescent-implementation",
   "metadata": {},
   "outputs": [],
   "source": []
  },
  {
   "cell_type": "code",
   "execution_count": null,
   "id": "infrared-female",
   "metadata": {},
   "outputs": [],
   "source": []
  },
  {
   "cell_type": "code",
   "execution_count": null,
   "id": "compressed-korea",
   "metadata": {},
   "outputs": [],
   "source": []
  },
  {
   "cell_type": "code",
   "execution_count": 145,
   "id": "ranking-costs",
   "metadata": {},
   "outputs": [],
   "source": [
    "# RULE = 'spouse'\n",
    "# DATASET = 'simpsons'\n",
    "# gnn_data = np.load(\n",
    "#     os.path.join('..','data','preds',DATASET,\n",
    "#         'gnn_explainer_'+DATASET+'_'+RULE+'_preds.npz'),allow_pickle=True)"
   ]
  },
  {
   "cell_type": "code",
   "execution_count": null,
   "id": "gentle-identification",
   "metadata": {},
   "outputs": [],
   "source": [
    "# for pred in gnn_data['preds']:\n",
    "#     print(pred.shape)"
   ]
  },
  {
   "cell_type": "code",
   "execution_count": null,
   "id": "environmental-plastic",
   "metadata": {},
   "outputs": [],
   "source": []
  },
  {
   "cell_type": "code",
   "execution_count": null,
   "id": "proper-director",
   "metadata": {},
   "outputs": [],
   "source": []
  },
  {
   "cell_type": "code",
   "execution_count": null,
   "id": "complicated-cross",
   "metadata": {},
   "outputs": [],
   "source": []
  },
  {
   "cell_type": "code",
   "execution_count": null,
   "id": "australian-maker",
   "metadata": {},
   "outputs": [],
   "source": []
  },
  {
   "cell_type": "code",
   "execution_count": null,
   "id": "czech-postage",
   "metadata": {},
   "outputs": [],
   "source": []
  },
  {
   "cell_type": "code",
   "execution_count": null,
   "id": "amended-cutting",
   "metadata": {},
   "outputs": [],
   "source": []
  },
  {
   "cell_type": "code",
   "execution_count": null,
   "id": "bacterial-manhattan",
   "metadata": {},
   "outputs": [],
   "source": []
  },
  {
   "cell_type": "code",
   "execution_count": null,
   "id": "accredited-basketball",
   "metadata": {},
   "outputs": [],
   "source": []
  },
  {
   "cell_type": "code",
   "execution_count": null,
   "id": "spread-cement",
   "metadata": {},
   "outputs": [],
   "source": []
  },
  {
   "cell_type": "code",
   "execution_count": null,
   "id": "waiting-lover",
   "metadata": {},
   "outputs": [],
   "source": []
  }
 ],
 "metadata": {
  "kernelspec": {
   "display_name": "Python 3",
   "language": "python",
   "name": "python3"
  },
  "language_info": {
   "codemirror_mode": {
    "name": "ipython",
    "version": 3
   },
   "file_extension": ".py",
   "mimetype": "text/x-python",
   "name": "python",
   "nbconvert_exporter": "python",
   "pygments_lexer": "ipython3",
   "version": "3.7.9"
  }
 },
 "nbformat": 4,
 "nbformat_minor": 5
}
